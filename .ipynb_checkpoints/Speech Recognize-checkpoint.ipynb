{
 "cells": [
  {
   "cell_type": "code",
   "execution_count": 1,
   "metadata": {},
   "outputs": [
    {
     "name": "stdout",
     "output_type": "stream",
     "text": [
      "Collecting SpeechRecognition\n",
      "  Downloading SpeechRecognition-3.7.1-py2.py3-none-any.whl (32.8MB)\n",
      "Installing collected packages: SpeechRecognition\n",
      "Successfully installed SpeechRecognition-3.7.1\n"
     ]
    }
   ],
   "source": [
    "!py -m pip install SpeechRecognition"
   ]
  },
  {
   "cell_type": "code",
   "execution_count": 2,
   "metadata": {},
   "outputs": [
    {
     "name": "stdout",
     "output_type": "stream",
     "text": [
      "Collecting pyaudio\n",
      "  Downloading PyAudio-0.2.11-cp27-cp27m-win_amd64.whl (52kB)\n",
      "Installing collected packages: pyaudio\n",
      "Successfully installed pyaudio-0.2.11\n"
     ]
    }
   ],
   "source": [
    "!py -m pip install pyaudio"
   ]
  },
  {
   "cell_type": "code",
   "execution_count": 1,
   "metadata": {},
   "outputs": [
    {
     "name": "stdout",
     "output_type": "stream",
     "text": [
      "Collecting pocketsphinx\n",
      "  Downloading pocketsphinx-0.1.3-cp27-cp27m-win_amd64.whl (29.1MB)\n",
      "Installing collected packages: pocketsphinx\n",
      "Successfully installed pocketsphinx-0.1.3\n"
     ]
    }
   ],
   "source": [
    "!py -m pip install pocketsphinx"
   ]
  },
  {
   "cell_type": "code",
   "execution_count": 4,
   "metadata": {},
   "outputs": [],
   "source": [
    "import sphinxbase"
   ]
  },
  {
   "cell_type": "code",
   "execution_count": 5,
   "metadata": {},
   "outputs": [],
   "source": [
    "import wave"
   ]
  },
  {
   "cell_type": "code",
   "execution_count": 6,
   "metadata": {},
   "outputs": [],
   "source": [
    "import pyaudio\n",
    "import os"
   ]
  },
  {
   "cell_type": "code",
   "execution_count": 7,
   "metadata": {},
   "outputs": [],
   "source": [
    "import pocketsphinx"
   ]
  },
  {
   "cell_type": "code",
   "execution_count": 25,
   "metadata": {},
   "outputs": [],
   "source": [
    "HMDIR = \"D:\\Speech Recognize\\hmm\""
   ]
  },
  {
   "cell_type": "code",
   "execution_count": 24,
   "metadata": {},
   "outputs": [],
   "source": [
    "LMDIR = \"D:\\Speech Recognize\\lm\\en-us.lm.dmp\""
   ]
  },
  {
   "cell_type": "code",
   "execution_count": 26,
   "metadata": {},
   "outputs": [],
   "source": [
    "DICTD = \"D:\\Speech Recognize\\dict\\cmu07a.dic\""
   ]
  },
  {
   "cell_type": "code",
   "execution_count": 12,
   "metadata": {},
   "outputs": [],
   "source": [
    "CHUNK = 128"
   ]
  },
  {
   "cell_type": "code",
   "execution_count": 13,
   "metadata": {},
   "outputs": [],
   "source": [
    "FORMAT = pyaudio.paInt16"
   ]
  },
  {
   "cell_type": "code",
   "execution_count": 14,
   "metadata": {},
   "outputs": [],
   "source": [
    "RATE = 16000"
   ]
  },
  {
   "cell_type": "code",
   "execution_count": 15,
   "metadata": {},
   "outputs": [],
   "source": [
    "RECORD_SECONDS = 5"
   ]
  },
  {
   "cell_type": "code",
   "execution_count": 16,
   "metadata": {},
   "outputs": [],
   "source": [
    "WAVE_OUTPUT_FILENAME = \"output.wav\""
   ]
  },
  {
   "cell_type": "code",
   "execution_count": 17,
   "metadata": {},
   "outputs": [],
   "source": [
    "def find_device(p, tags):\n",
    "    \"\"\"\n",
    "    Find an audio device to read input from.\n",
    "    \"\"\"\n",
    "    device_index = None\n",
    "    for i in range(p.get_device_count()):\n",
    "        devinfo = p.get_device_info_by_index(i)\n",
    "        print(\"Device %d: %s\" % (i, devinfo[\"name\"]))\n",
    "\n",
    "        for keyword in tags:\n",
    "            if keyword in devinfo[\"name\"].lower():\n",
    "                print(\"Found an input: device %d - %s\"%(i, devinfo[\"name\"]))\n",
    "                device_index = i\n",
    "                return device_index\n",
    "\n",
    "    if device_index is None:\n",
    "        print(\"No preferred input found; using default input device.\")\n",
    "\n",
    "    return device_index"
   ]
  },
  {
   "cell_type": "code",
   "execution_count": 18,
   "metadata": {},
   "outputs": [],
   "source": [
    "def save_audio(wav_file):\n",
    "    \"\"\"\n",
    "    Stream audio from an input device and save it.\n",
    "    \"\"\"\n",
    "    p = pyaudio.PyAudio()\n",
    "\n",
    "    device = find_device(p, [\"input\", \"mic\", \"audio\"])\n",
    "    device_info = p.get_device_info_by_index(device)\n",
    "    channels = int(device_info['maxInputChannels'])\n",
    "\n",
    "    stream = p.open(\n",
    "        format=FORMAT,\n",
    "        channels=channels,\n",
    "        rate=RATE,\n",
    "        input=True,\n",
    "        frames_per_buffer=CHUNK,\n",
    "        input_device_index=device\n",
    "    )\n",
    "\n",
    "    print(\"* recording\")\n",
    "\n",
    "    frames = []\n",
    "\n",
    "    for i in range(0, int(RATE / CHUNK * RECORD_SECONDS)):\n",
    "        data = stream.read(CHUNK)\n",
    "        frames.append(data)\n",
    "\n",
    "    print(\"* done recording\")\n",
    "\n",
    "    stream.stop_stream()\n",
    "    stream.close()\n",
    "\n",
    "    p.terminate()\n",
    "\n",
    "    wf = wave.open(wav_file, 'wb')\n",
    "    wf.setnchannels(channels)\n",
    "    wf.setsampwidth(p.get_sample_size(FORMAT))\n",
    "    wf.setframerate(RATE)\n",
    "    wf.writeframes(b''.join(frames))\n",
    "    wf.close()"
   ]
  },
  {
   "cell_type": "code",
   "execution_count": 57,
   "metadata": {},
   "outputs": [],
   "source": [
    "def recognize(wav_file):\n",
    "    \"\"\"\n",
    "    Run speech recognition on a given file.\n",
    "    \"\"\"\n",
    "    config = Decoder.default_config()\n",
    "    config.set_string('-hmm', HMDIR)\n",
    "    config.set_string('-lm', LMDIR)\n",
    "    config.set_string('-dict', DICTD)\n",
    "    speech_rec = Decoder(config)\n",
    "    speech_rec.start_utt()\n",
    "    #speech_rec = pocketsphinx.Decoder(hmm=HMDIR, lm=LMDIR, dict=DICTD)\n",
    "    wav_file = open('D:\\\\ML\\\\TensorFlow\\\\models\\\\object_detection\\\\Jupyter-Notebook\\\\output.wav', 'rb')\n",
    "    #stream = open(('D:\\Speech Recognize\\pocketsphinx-0.8\\test\\data\\goforward.raw'), 'rb')\n",
    "    #speech_rec.process_raw(wav_file)\n",
    "    while True:\n",
    "        buf = wav_file.read(1024)\n",
    "        if buf:\n",
    "            speech_rec.process_raw(buf, False, False)\n",
    "        else:\n",
    "            break\n",
    "    speech_rec.end_utt()\n",
    "    result = speech_rec.hyp()\n",
    "    return result"
   ]
  },
  {
   "cell_type": "code",
   "execution_count": 68,
   "metadata": {},
   "outputs": [
    {
     "name": "stdout",
     "output_type": "stream",
     "text": [
      "Device 0: Microsoft Sound Mapper - Input\n",
      "Found an input: device 0 - Microsoft Sound Mapper - Input\n",
      "* recording\n",
      "* done recording\n",
      "You just said: or for that are one or more aunt or an aunt or the more it is\n"
     ]
    }
   ],
   "source": [
    "save_audio(WAVE_OUTPUT_FILENAME)\n",
    "result = recognize(WAVE_OUTPUT_FILENAME)\n",
    "print( \"You just said: {0}\".format(result.hypstr))"
   ]
  },
  {
   "cell_type": "code",
   "execution_count": 29,
   "metadata": {},
   "outputs": [],
   "source": [
    "from pocketsphinx.pocketsphinx import *"
   ]
  },
  {
   "cell_type": "code",
   "execution_count": 45,
   "metadata": {},
   "outputs": [],
   "source": [
    "config = Decoder.default_config()"
   ]
  },
  {
   "cell_type": "code",
   "execution_count": 46,
   "metadata": {},
   "outputs": [],
   "source": [
    "config.set_string('-hmm', \"D:\\Speech Recognize\\pocketsphinx-1fdc9ccb637836d45d40956e745477a2bd3b470a\\model\\en-us\\en-us\")"
   ]
  },
  {
   "cell_type": "code",
   "execution_count": 47,
   "metadata": {},
   "outputs": [],
   "source": [
    "config.set_string('-lm', \"D:\\Speech Recognize\\pocketsphinx-1fdc9ccb637836d45d40956e745477a2bd3b470a\\model\\en-us\\en-us.lm.bin\")"
   ]
  },
  {
   "cell_type": "code",
   "execution_count": 48,
   "metadata": {},
   "outputs": [],
   "source": [
    "config.set_string('-dict', \"D:\\Speech Recognize\\pocketsphinx-1fdc9ccb637836d45d40956e745477a2bd3b470a\\model\\en-us\\cmudict-en-us.dict\")"
   ]
  },
  {
   "cell_type": "code",
   "execution_count": 49,
   "metadata": {},
   "outputs": [],
   "source": [
    "config = Decoder(config)"
   ]
  },
  {
   "cell_type": "code",
   "execution_count": 50,
   "metadata": {},
   "outputs": [],
   "source": [
    "config.start_utt()"
   ]
  },
  {
   "cell_type": "code",
   "execution_count": 52,
   "metadata": {},
   "outputs": [],
   "source": [
    "stream = open('D:\\\\Speech Recognize\\\\pocketsphinx-1fdc9ccb637836d45d40956e745477a2bd3b470a\\\\test\\\\data\\\\goforward.raw', 'rb')"
   ]
  },
  {
   "cell_type": "code",
   "execution_count": 53,
   "metadata": {},
   "outputs": [],
   "source": [
    "while True:\n",
    "    buf = stream.read(1024)\n",
    "    if buf:\n",
    "        config.process_raw(buf, False, False)\n",
    "    else:\n",
    "        break"
   ]
  },
  {
   "cell_type": "code",
   "execution_count": 54,
   "metadata": {},
   "outputs": [],
   "source": [
    "config.end_utt()"
   ]
  },
  {
   "cell_type": "code",
   "execution_count": 56,
   "metadata": {},
   "outputs": [
    {
     "name": "stdout",
     "output_type": "stream",
     "text": [
      "('Best hypothesis segments: ', ['<s>', '<sil>', 'go', 'forward', 'ten', 'meters', '</s>'])\n"
     ]
    }
   ],
   "source": [
    "print ('Best hypothesis segments: ', [seg.word for seg in config.seg()])"
   ]
  },
  {
   "cell_type": "code",
   "execution_count": 61,
   "metadata": {},
   "outputs": [],
   "source": [
    "result = recognize(WAVE_OUTPUT_FILENAME)"
   ]
  },
  {
   "cell_type": "code",
   "execution_count": 63,
   "metadata": {},
   "outputs": [
    {
     "data": {
      "text/plain": [
       "\"i don't know there are a term that for all know more than i\""
      ]
     },
     "execution_count": 63,
     "metadata": {},
     "output_type": "execute_result"
    }
   ],
   "source": [
    "result.hypstr"
   ]
  },
  {
   "cell_type": "code",
   "execution_count": null,
   "metadata": {},
   "outputs": [],
   "source": []
  }
 ],
 "metadata": {
  "kernelspec": {
   "display_name": "Python 2",
   "language": "python",
   "name": "python2"
  },
  "language_info": {
   "codemirror_mode": {
    "name": "ipython",
    "version": 2
   },
   "file_extension": ".py",
   "mimetype": "text/x-python",
   "name": "python",
   "nbconvert_exporter": "python",
   "pygments_lexer": "ipython2",
   "version": "2.7.14"
  }
 },
 "nbformat": 4,
 "nbformat_minor": 2
}
