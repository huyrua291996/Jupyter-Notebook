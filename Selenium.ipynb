{
 "cells": [
  {
   "cell_type": "code",
   "execution_count": 1,
   "metadata": {},
   "outputs": [
    {
     "name": "stdout",
     "output_type": "stream",
     "text": [
      "Collecting selenium\n",
      "  Downloading selenium-3.6.0-py2.py3-none-any.whl (924kB)\n",
      "Installing collected packages: selenium\n",
      "Successfully installed selenium-3.6.0\n"
     ]
    }
   ],
   "source": [
    "!py -m pip install selenium"
   ]
  },
  {
   "cell_type": "code",
   "execution_count": 1,
   "metadata": {},
   "outputs": [],
   "source": [
    "from selenium import webdriver"
   ]
  },
  {
   "cell_type": "code",
   "execution_count": 2,
   "metadata": {},
   "outputs": [],
   "source": [
    "driver = webdriver.Chrome(\"C:\\Users\\huyru\\Downloads\\Compressed\\chromedriver_win32\\chromedriver\")"
   ]
  },
  {
   "cell_type": "code",
   "execution_count": 49,
   "metadata": {},
   "outputs": [],
   "source": [
    "driver.get(\"https://hextracoin.co/\")"
   ]
  },
  {
   "cell_type": "code",
   "execution_count": 50,
   "metadata": {},
   "outputs": [
    {
     "data": {
      "text/plain": [
       "u'Hextracoin'"
      ]
     },
     "execution_count": 50,
     "metadata": {},
     "output_type": "execute_result"
    }
   ],
   "source": [
    "driver.title"
   ]
  },
  {
   "cell_type": "code",
   "execution_count": 52,
   "metadata": {},
   "outputs": [],
   "source": [
    "re = driver.find_element_by_name(\"username\")"
   ]
  },
  {
   "cell_type": "code",
   "execution_count": 53,
   "metadata": {},
   "outputs": [],
   "source": [
    "re.send_keys(\"HUY\")"
   ]
  },
  {
   "cell_type": "code",
   "execution_count": 24,
   "metadata": {},
   "outputs": [],
   "source": [
    "re.clear()"
   ]
  },
  {
   "cell_type": "code",
   "execution_count": 54,
   "metadata": {},
   "outputs": [],
   "source": [
    "re = driver.find_element_by_name(\"password\")"
   ]
  },
  {
   "cell_type": "code",
   "execution_count": 55,
   "metadata": {},
   "outputs": [],
   "source": [
    "re.send_keys(\"nguyenngochuy\")"
   ]
  },
  {
   "cell_type": "code",
   "execution_count": 28,
   "metadata": {},
   "outputs": [],
   "source": [
    "re = driver.find_element_by_id(\"password\")"
   ]
  },
  {
   "cell_type": "code",
   "execution_count": 29,
   "metadata": {},
   "outputs": [],
   "source": [
    "re.send_keys(\"nguyenngochuy\")"
   ]
  },
  {
   "cell_type": "code",
   "execution_count": 59,
   "metadata": {},
   "outputs": [],
   "source": [
    "driver.find_element_by_class_name(\"login-buttons\").click()"
   ]
  },
  {
   "cell_type": "code",
   "execution_count": 44,
   "metadata": {},
   "outputs": [],
   "source": [
    "re = driver.find_element_by_id(\"openid-buttons\")\n"
   ]
  },
  {
   "cell_type": "code",
   "execution_count": 60,
   "metadata": {},
   "outputs": [],
   "source": [
    "driver.get(\"https://stackoverflow.com/users/login\")"
   ]
  },
  {
   "cell_type": "code",
   "execution_count": 61,
   "metadata": {},
   "outputs": [],
   "source": [
    "driver.find_element_by_xpath(\"//span[.='Google']\").click()\n"
   ]
  },
  {
   "cell_type": "code",
   "execution_count": 3,
   "metadata": {},
   "outputs": [],
   "source": [
    "driver.get(\"http://www.listal.com/list/doutzen-kroes-ii\")"
   ]
  },
  {
   "cell_type": "code",
   "execution_count": 4,
   "metadata": {},
   "outputs": [],
   "source": [
    "from selenium.webdriver import ActionChains"
   ]
  },
  {
   "cell_type": "code",
   "execution_count": 5,
   "metadata": {},
   "outputs": [],
   "source": [
    "action_chains = ActionChains(driver)"
   ]
  },
  {
   "cell_type": "code",
   "execution_count": 86,
   "metadata": {},
   "outputs": [],
   "source": [
    "from selenium.webdriver.support.ui import Select"
   ]
  },
  {
   "cell_type": "code",
   "execution_count": 37,
   "metadata": {},
   "outputs": [],
   "source": [
    "driver.execute_script(\"window.scrollTo(0, (document.body.scrollHeight - 2000));\")"
   ]
  },
  {
   "cell_type": "code",
   "execution_count": 38,
   "metadata": {},
   "outputs": [
    {
     "ename": "NoSuchElementException",
     "evalue": "Message: Unable to locate element: .loadmoreitems\n",
     "output_type": "error",
     "traceback": [
      "\u001b[1;31m---------------------------------------------------------------------------\u001b[0m",
      "\u001b[1;31mNoSuchElementException\u001b[0m                    Traceback (most recent call last)",
      "\u001b[1;32m<ipython-input-38-09586914e8c4>\u001b[0m in \u001b[0;36m<module>\u001b[1;34m()\u001b[0m\n\u001b[1;32m----> 1\u001b[1;33m \u001b[0mre\u001b[0m \u001b[1;33m=\u001b[0m \u001b[0mdriver\u001b[0m\u001b[1;33m.\u001b[0m\u001b[0mfind_element_by_class_name\u001b[0m\u001b[1;33m(\u001b[0m\u001b[1;34m\"loadmoreitems\"\u001b[0m\u001b[1;33m)\u001b[0m\u001b[1;33m\u001b[0m\u001b[0m\n\u001b[0m",
      "\u001b[1;32mD:\\python\\Python27\\lib\\site-packages\\selenium\\webdriver\\remote\\webdriver.pyc\u001b[0m in \u001b[0;36mfind_element_by_class_name\u001b[1;34m(self, name)\u001b[0m\n\u001b[0;32m    483\u001b[0m             \u001b[0mdriver\u001b[0m\u001b[1;33m.\u001b[0m\u001b[0mfind_element_by_class_name\u001b[0m\u001b[1;33m(\u001b[0m\u001b[1;34m'foo'\u001b[0m\u001b[1;33m)\u001b[0m\u001b[1;33m\u001b[0m\u001b[0m\n\u001b[0;32m    484\u001b[0m         \"\"\"\n\u001b[1;32m--> 485\u001b[1;33m         \u001b[1;32mreturn\u001b[0m \u001b[0mself\u001b[0m\u001b[1;33m.\u001b[0m\u001b[0mfind_element\u001b[0m\u001b[1;33m(\u001b[0m\u001b[0mby\u001b[0m\u001b[1;33m=\u001b[0m\u001b[0mBy\u001b[0m\u001b[1;33m.\u001b[0m\u001b[0mCLASS_NAME\u001b[0m\u001b[1;33m,\u001b[0m \u001b[0mvalue\u001b[0m\u001b[1;33m=\u001b[0m\u001b[0mname\u001b[0m\u001b[1;33m)\u001b[0m\u001b[1;33m\u001b[0m\u001b[0m\n\u001b[0m\u001b[0;32m    486\u001b[0m \u001b[1;33m\u001b[0m\u001b[0m\n\u001b[0;32m    487\u001b[0m     \u001b[1;32mdef\u001b[0m \u001b[0mfind_elements_by_class_name\u001b[0m\u001b[1;33m(\u001b[0m\u001b[0mself\u001b[0m\u001b[1;33m,\u001b[0m \u001b[0mname\u001b[0m\u001b[1;33m)\u001b[0m\u001b[1;33m:\u001b[0m\u001b[1;33m\u001b[0m\u001b[0m\n",
      "\u001b[1;32mD:\\python\\Python27\\lib\\site-packages\\selenium\\webdriver\\remote\\webdriver.pyc\u001b[0m in \u001b[0;36mfind_element\u001b[1;34m(self, by, value)\u001b[0m\n\u001b[0;32m    841\u001b[0m         return self.execute(Command.FIND_ELEMENT, {\n\u001b[0;32m    842\u001b[0m             \u001b[1;34m'using'\u001b[0m\u001b[1;33m:\u001b[0m \u001b[0mby\u001b[0m\u001b[1;33m,\u001b[0m\u001b[1;33m\u001b[0m\u001b[0m\n\u001b[1;32m--> 843\u001b[1;33m             'value': value})['value']\n\u001b[0m\u001b[0;32m    844\u001b[0m \u001b[1;33m\u001b[0m\u001b[0m\n\u001b[0;32m    845\u001b[0m     \u001b[1;32mdef\u001b[0m \u001b[0mfind_elements\u001b[0m\u001b[1;33m(\u001b[0m\u001b[0mself\u001b[0m\u001b[1;33m,\u001b[0m \u001b[0mby\u001b[0m\u001b[1;33m=\u001b[0m\u001b[0mBy\u001b[0m\u001b[1;33m.\u001b[0m\u001b[0mID\u001b[0m\u001b[1;33m,\u001b[0m \u001b[0mvalue\u001b[0m\u001b[1;33m=\u001b[0m\u001b[0mNone\u001b[0m\u001b[1;33m)\u001b[0m\u001b[1;33m:\u001b[0m\u001b[1;33m\u001b[0m\u001b[0m\n",
      "\u001b[1;32mD:\\python\\Python27\\lib\\site-packages\\selenium\\webdriver\\remote\\webdriver.pyc\u001b[0m in \u001b[0;36mexecute\u001b[1;34m(self, driver_command, params)\u001b[0m\n\u001b[0;32m    306\u001b[0m         \u001b[0mresponse\u001b[0m \u001b[1;33m=\u001b[0m \u001b[0mself\u001b[0m\u001b[1;33m.\u001b[0m\u001b[0mcommand_executor\u001b[0m\u001b[1;33m.\u001b[0m\u001b[0mexecute\u001b[0m\u001b[1;33m(\u001b[0m\u001b[0mdriver_command\u001b[0m\u001b[1;33m,\u001b[0m \u001b[0mparams\u001b[0m\u001b[1;33m)\u001b[0m\u001b[1;33m\u001b[0m\u001b[0m\n\u001b[0;32m    307\u001b[0m         \u001b[1;32mif\u001b[0m \u001b[0mresponse\u001b[0m\u001b[1;33m:\u001b[0m\u001b[1;33m\u001b[0m\u001b[0m\n\u001b[1;32m--> 308\u001b[1;33m             \u001b[0mself\u001b[0m\u001b[1;33m.\u001b[0m\u001b[0merror_handler\u001b[0m\u001b[1;33m.\u001b[0m\u001b[0mcheck_response\u001b[0m\u001b[1;33m(\u001b[0m\u001b[0mresponse\u001b[0m\u001b[1;33m)\u001b[0m\u001b[1;33m\u001b[0m\u001b[0m\n\u001b[0m\u001b[0;32m    309\u001b[0m             response['value'] = self._unwrap_value(\n\u001b[0;32m    310\u001b[0m                 response.get('value', None))\n",
      "\u001b[1;32mD:\\python\\Python27\\lib\\site-packages\\selenium\\webdriver\\remote\\errorhandler.pyc\u001b[0m in \u001b[0;36mcheck_response\u001b[1;34m(self, response)\u001b[0m\n\u001b[0;32m    192\u001b[0m         \u001b[1;32melif\u001b[0m \u001b[0mexception_class\u001b[0m \u001b[1;33m==\u001b[0m \u001b[0mUnexpectedAlertPresentException\u001b[0m \u001b[1;32mand\u001b[0m \u001b[1;34m'alert'\u001b[0m \u001b[1;32min\u001b[0m \u001b[0mvalue\u001b[0m\u001b[1;33m:\u001b[0m\u001b[1;33m\u001b[0m\u001b[0m\n\u001b[0;32m    193\u001b[0m             \u001b[1;32mraise\u001b[0m \u001b[0mexception_class\u001b[0m\u001b[1;33m(\u001b[0m\u001b[0mmessage\u001b[0m\u001b[1;33m,\u001b[0m \u001b[0mscreen\u001b[0m\u001b[1;33m,\u001b[0m \u001b[0mstacktrace\u001b[0m\u001b[1;33m,\u001b[0m \u001b[0mvalue\u001b[0m\u001b[1;33m[\u001b[0m\u001b[1;34m'alert'\u001b[0m\u001b[1;33m]\u001b[0m\u001b[1;33m.\u001b[0m\u001b[0mget\u001b[0m\u001b[1;33m(\u001b[0m\u001b[1;34m'text'\u001b[0m\u001b[1;33m)\u001b[0m\u001b[1;33m)\u001b[0m\u001b[1;33m\u001b[0m\u001b[0m\n\u001b[1;32m--> 194\u001b[1;33m         \u001b[1;32mraise\u001b[0m \u001b[0mexception_class\u001b[0m\u001b[1;33m(\u001b[0m\u001b[0mmessage\u001b[0m\u001b[1;33m,\u001b[0m \u001b[0mscreen\u001b[0m\u001b[1;33m,\u001b[0m \u001b[0mstacktrace\u001b[0m\u001b[1;33m)\u001b[0m\u001b[1;33m\u001b[0m\u001b[0m\n\u001b[0m\u001b[0;32m    195\u001b[0m \u001b[1;33m\u001b[0m\u001b[0m\n\u001b[0;32m    196\u001b[0m     \u001b[1;32mdef\u001b[0m \u001b[0m_value_or_default\u001b[0m\u001b[1;33m(\u001b[0m\u001b[0mself\u001b[0m\u001b[1;33m,\u001b[0m \u001b[0mobj\u001b[0m\u001b[1;33m,\u001b[0m \u001b[0mkey\u001b[0m\u001b[1;33m,\u001b[0m \u001b[0mdefault\u001b[0m\u001b[1;33m)\u001b[0m\u001b[1;33m:\u001b[0m\u001b[1;33m\u001b[0m\u001b[0m\n",
      "\u001b[1;31mNoSuchElementException\u001b[0m: Message: Unable to locate element: .loadmoreitems\n"
     ]
    }
   ],
   "source": [
    "re = driver.find_element_by_class_name(\"loadmoreitems\")"
   ]
  },
  {
   "cell_type": "code",
   "execution_count": 36,
   "metadata": {},
   "outputs": [],
   "source": [
    "re.click()"
   ]
  },
  {
   "cell_type": "code",
   "execution_count": 3,
   "metadata": {},
   "outputs": [],
   "source": [
    "driver.get(\"http://www.listal.com/list/candice-pics\")"
   ]
  },
  {
   "cell_type": "code",
   "execution_count": 4,
   "metadata": {},
   "outputs": [],
   "source": [
    "driver.execute_script(\"window.scrollTo(0, (document.body.scrollHeight -2000));\")"
   ]
  },
  {
   "cell_type": "code",
   "execution_count": 16,
   "metadata": {
    "scrolled": true
   },
   "outputs": [],
   "source": [
    "from selenium.webdriver.firefox.firefox_binary import FirefoxBinary"
   ]
  },
  {
   "cell_type": "code",
   "execution_count": null,
   "metadata": {},
   "outputs": [],
   "source": [
    "binary = FirefoxBinary('C:\\Program Files\\Mozilla Firefox')"
   ]
  },
  {
   "cell_type": "code",
   "execution_count": 20,
   "metadata": {},
   "outputs": [],
   "source": [
    "driver = webdriver.Firefox(executable_path=\"C:\\Users\\huyru\\Downloads\\Compressed\\geckodriver-v0.19.1-win64\\geckodriver\")"
   ]
  },
  {
   "cell_type": "code",
   "execution_count": 24,
   "metadata": {},
   "outputs": [],
   "source": [
    "re = driver.get('https://facebook.com')"
   ]
  },
  {
   "cell_type": "code",
   "execution_count": 26,
   "metadata": {},
   "outputs": [],
   "source": [
    "re = driver.find_element_by_id('email')"
   ]
  },
  {
   "cell_type": "code",
   "execution_count": 27,
   "metadata": {},
   "outputs": [],
   "source": [
    "re.send_keys(\"ngochuy_gerrard_96@yahoo.com\")"
   ]
  },
  {
   "cell_type": "code",
   "execution_count": 28,
   "metadata": {},
   "outputs": [],
   "source": [
    "re = driver.find_element_by_id('pass')"
   ]
  },
  {
   "cell_type": "code",
   "execution_count": 29,
   "metadata": {},
   "outputs": [],
   "source": [
    "re.send_keys(\"nguyenngochuy\")"
   ]
  },
  {
   "cell_type": "code",
   "execution_count": 31,
   "metadata": {},
   "outputs": [],
   "source": [
    "re = driver.find_element_by_id('loginbutton')"
   ]
  },
  {
   "cell_type": "code",
   "execution_count": 32,
   "metadata": {},
   "outputs": [],
   "source": [
    "re.click()"
   ]
  },
  {
   "cell_type": "code",
   "execution_count": 4,
   "metadata": {},
   "outputs": [],
   "source": [
    "elems = driver.find_elements_by_xpath(\"//a[@href]\")"
   ]
  },
  {
   "cell_type": "code",
   "execution_count": 5,
   "metadata": {},
   "outputs": [],
   "source": [
    "link = []\n",
    "for elem in elems:\n",
    "    link.append(elem.get_attribute(\"href\"))"
   ]
  },
  {
   "cell_type": "code",
   "execution_count": 6,
   "metadata": {},
   "outputs": [],
   "source": [
    "image_link = []\n",
    "for l in link:\n",
    "    if \"viewimage\" in l:\n",
    "        image_link.append(str(l))"
   ]
  },
  {
   "cell_type": "code",
   "execution_count": 7,
   "metadata": {},
   "outputs": [
    {
     "data": {
      "text/plain": [
       "['http://www.listal.com/viewimage/3487836',\n",
       " 'http://www.listal.com/viewimage/3487835',\n",
       " 'http://www.listal.com/viewimage/3487834',\n",
       " 'http://www.listal.com/viewimage/3482580',\n",
       " 'http://www.listal.com/viewimage/3482579',\n",
       " 'http://www.listal.com/viewimage/3482578',\n",
       " 'http://www.listal.com/viewimage/3487837',\n",
       " 'http://www.listal.com/viewimage/3482577',\n",
       " 'http://www.listal.com/viewimage/3460299',\n",
       " 'http://www.listal.com/viewimage/3460297',\n",
       " 'http://www.listal.com/viewimage/3493108',\n",
       " 'http://www.listal.com/viewimage/3493107',\n",
       " 'http://www.listal.com/viewimage/3530518',\n",
       " 'http://www.listal.com/viewimage/3530517',\n",
       " 'http://www.listal.com/viewimage/3530519',\n",
       " 'http://www.listal.com/viewimage/3706065',\n",
       " 'http://www.listal.com/viewimage/3706063',\n",
       " 'http://www.listal.com/viewimage/3706064',\n",
       " 'http://www.listal.com/viewimage/3726802',\n",
       " 'http://www.listal.com/viewimage/3737749',\n",
       " 'http://www.listal.com/viewimage/3737750',\n",
       " 'http://www.listal.com/viewimage/3737753',\n",
       " 'http://www.listal.com/viewimage/3737755',\n",
       " 'http://www.listal.com/viewimage/3737758',\n",
       " 'http://www.listal.com/viewimage/3737760',\n",
       " 'http://www.listal.com/viewimage/3737761',\n",
       " 'http://www.listal.com/viewimage/3742042',\n",
       " 'http://www.listal.com/viewimage/3737747',\n",
       " 'http://www.listal.com/viewimage/3737746',\n",
       " 'http://www.listal.com/viewimage/3731676',\n",
       " 'http://www.listal.com/viewimage/3789535',\n",
       " 'http://www.listal.com/viewimage/3789532',\n",
       " 'http://www.listal.com/viewimage/3789530',\n",
       " 'http://www.listal.com/viewimage/3789567',\n",
       " 'http://www.listal.com/viewimage/3826712',\n",
       " 'http://www.listal.com/viewimage/3808678',\n",
       " 'http://www.listal.com/viewimage/3808677',\n",
       " 'http://www.listal.com/viewimage/3829803',\n",
       " 'http://www.listal.com/viewimage/3829804',\n",
       " 'http://www.listal.com/viewimage/3856538',\n",
       " 'http://www.listal.com/viewimage/3856537',\n",
       " 'http://www.listal.com/viewimage/3856536']"
      ]
     },
     "execution_count": 7,
     "metadata": {},
     "output_type": "execute_result"
    }
   ],
   "source": [
    "image_link"
   ]
  },
  {
   "cell_type": "code",
   "execution_count": 43,
   "metadata": {},
   "outputs": [
    {
     "data": {
      "text/plain": [
       "469"
      ]
     },
     "execution_count": 43,
     "metadata": {},
     "output_type": "execute_result"
    }
   ],
   "source": [
    "len(image_link)"
   ]
  },
  {
   "cell_type": "code",
   "execution_count": 33,
   "metadata": {},
   "outputs": [],
   "source": [
    "image = []\n",
    "for link in image_link:\n",
    "    re = driver.get(link)\n",
    "    elems = driver.find_element_by_class_name(\"pure-img\")\n",
    "    image.append(str(elems.get_attribute(\"src\")))"
   ]
  },
  {
   "cell_type": "code",
   "execution_count": 9,
   "metadata": {},
   "outputs": [],
   "source": [
    "re = driver.get(image_link[1])"
   ]
  },
  {
   "cell_type": "code",
   "execution_count": 26,
   "metadata": {},
   "outputs": [],
   "source": [
    "elems = driver.find_element_by_tag_name((\"img\"))"
   ]
  },
  {
   "cell_type": "code",
   "execution_count": 34,
   "metadata": {},
   "outputs": [
    {
     "data": {
      "text/plain": [
       "['http://iv1.lisimg.com/image/3487836/740full-doutzen-kroes.jpg',\n",
       " 'http://iv1.lisimg.com/image/3487835/740full-doutzen-kroes.jpg',\n",
       " 'http://iv1.lisimg.com/image/3487834/740full-doutzen-kroes.jpg',\n",
       " 'http://iv1.lisimg.com/image/3482580/740full-doutzen-kroes.jpg',\n",
       " 'http://iv1.lisimg.com/image/3482579/740full-doutzen-kroes.jpg',\n",
       " 'http://iv1.lisimg.com/image/3482578/740full-doutzen-kroes.jpg',\n",
       " 'http://iv1.lisimg.com/image/3487837/740full-doutzen-kroes.jpg',\n",
       " 'http://iv1.lisimg.com/image/3482577/740full-doutzen-kroes.jpg',\n",
       " 'http://iv1.lisimg.com/image/3460299/740full-doutzen-kroes.jpg',\n",
       " 'http://iv1.lisimg.com/image/3460297/740full-doutzen-kroes.jpg',\n",
       " 'http://iv1.lisimg.com/image/3493108/740full-doutzen-kroes.jpg',\n",
       " 'http://iv1.lisimg.com/image/3493107/740full-doutzen-kroes.jpg',\n",
       " 'http://iv1.lisimg.com/image/3530518/740full-doutzen-kroes.jpg',\n",
       " 'http://iv1.lisimg.com/image/3530517/740full-doutzen-kroes.jpg',\n",
       " 'http://iv1.lisimg.com/image/3530519/740full-doutzen-kroes.jpg',\n",
       " 'http://iv1.lisimg.com/image/3706065/740full-doutzen-kroes.jpg',\n",
       " 'http://iv1.lisimg.com/image/3706063/740full-doutzen-kroes.jpg',\n",
       " 'http://ilarge.lisimg.com/image/3706064/1118full-doutzen-kroes.jpg',\n",
       " 'http://iv1.lisimg.com/image/3726802/740full-doutzen-kroes.jpg',\n",
       " 'http://iv1.lisimg.com/image/3737749/740full-doutzen-kroes.jpg',\n",
       " 'http://iv1.lisimg.com/image/3737750/740full-doutzen-kroes.jpg',\n",
       " 'http://iv1.lisimg.com/image/3737753/740full-doutzen-kroes.jpg',\n",
       " 'http://iv1.lisimg.com/image/3737755/740full-doutzen-kroes.jpg',\n",
       " 'http://iv1.lisimg.com/image/3737758/740full-doutzen-kroes.jpg',\n",
       " 'http://iv1.lisimg.com/image/3737760/740full-doutzen-kroes.jpg',\n",
       " 'http://iv1.lisimg.com/image/3737761/740full-doutzen-kroes.jpg',\n",
       " 'http://iv1.lisimg.com/image/3742042/740full-doutzen-kroes.jpg',\n",
       " 'http://iv1.lisimg.com/image/3737747/740full-doutzen-kroes.jpg',\n",
       " 'http://iv1.lisimg.com/image/3737746/740full-doutzen-kroes.jpg',\n",
       " 'http://iv1.lisimg.com/image/3731676/740full-doutzen-kroes.jpg',\n",
       " 'http://iv1.lisimg.com/image/3789535/740full-doutzen-kroes.jpg',\n",
       " 'http://iv1.lisimg.com/image/3789532/740full-doutzen-kroes.jpg',\n",
       " 'http://iv1.lisimg.com/image/3789530/740full-doutzen-kroes.jpg',\n",
       " 'http://iv1.lisimg.com/image/3789567/740full-doutzen-kroes.jpg',\n",
       " 'http://iv1.lisimg.com/image/3826712/740full-doutzen-kroes.jpg',\n",
       " 'http://iv1.lisimg.com/image/3808678/740full-doutzen-kroes.jpg',\n",
       " 'http://iv1.lisimg.com/image/3808677/740full-doutzen-kroes.jpg',\n",
       " 'http://iv1.lisimg.com/image/3829803/740full-doutzen-kroes.jpg',\n",
       " 'http://iv1.lisimg.com/image/3829804/740full-doutzen-kroes.jpg',\n",
       " 'http://iv1.lisimg.com/image/3856538/740full-doutzen-kroes.jpg',\n",
       " 'http://iv1.lisimg.com/image/3856537/740full-doutzen-kroes.jpg',\n",
       " 'http://iv1.lisimg.com/image/3856536/740full-doutzen-kroes.jpg']"
      ]
     },
     "execution_count": 34,
     "metadata": {},
     "output_type": "execute_result"
    }
   ],
   "source": [
    "image"
   ]
  },
  {
   "cell_type": "code",
   "execution_count": 29,
   "metadata": {},
   "outputs": [
    {
     "data": {
      "text/plain": [
       "u'http://i.listal.com/limages/header/listallogo.png'"
      ]
     },
     "execution_count": 29,
     "metadata": {},
     "output_type": "execute_result"
    }
   ],
   "source": [
    "elems.get_attribute(\"src\")"
   ]
  },
  {
   "cell_type": "code",
   "execution_count": 31,
   "metadata": {},
   "outputs": [],
   "source": [
    "re = driver.find_element_by_class_name(\"pure-img\")"
   ]
  },
  {
   "cell_type": "code",
   "execution_count": 32,
   "metadata": {},
   "outputs": [
    {
     "data": {
      "text/plain": [
       "u'http://iv1.lisimg.com/image/3856536/740full-doutzen-kroes.jpg'"
      ]
     },
     "execution_count": 32,
     "metadata": {},
     "output_type": "execute_result"
    }
   ],
   "source": [
    "re.get_attribute(\"src\")"
   ]
  },
  {
   "cell_type": "code",
   "execution_count": 35,
   "metadata": {},
   "outputs": [],
   "source": [
    "driver.close()"
   ]
  },
  {
   "cell_type": "code",
   "execution_count": 40,
   "metadata": {},
   "outputs": [],
   "source": [
    "with open(\"image_link.txt\", \"w\") as f:\n",
    "    for img in image:\n",
    "        f.write(img)\n",
    "        f.write('\\n')\n",
    "    f.close()"
   ]
  },
  {
   "cell_type": "code",
   "execution_count": null,
   "metadata": {},
   "outputs": [],
   "source": []
  }
 ],
 "metadata": {
  "kernelspec": {
   "display_name": "Python 2",
   "language": "python",
   "name": "python2"
  },
  "language_info": {
   "codemirror_mode": {
    "name": "ipython",
    "version": 2
   },
   "file_extension": ".py",
   "mimetype": "text/x-python",
   "name": "python",
   "nbconvert_exporter": "python",
   "pygments_lexer": "ipython2",
   "version": "2.7.14"
  }
 },
 "nbformat": 4,
 "nbformat_minor": 2
}
