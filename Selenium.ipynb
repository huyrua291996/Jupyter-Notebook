{
 "cells": [
  {
   "cell_type": "code",
   "execution_count": 1,
   "metadata": {},
   "outputs": [
    {
     "name": "stdout",
     "output_type": "stream",
     "text": [
      "Collecting selenium\n",
      "  Downloading selenium-3.6.0-py2.py3-none-any.whl (924kB)\n",
      "Installing collected packages: selenium\n",
      "Successfully installed selenium-3.6.0\n"
     ]
    }
   ],
   "source": [
    "!py -m pip install selenium"
   ]
  },
  {
   "cell_type": "code",
   "execution_count": 1,
   "metadata": {},
   "outputs": [],
   "source": [
    "from selenium import webdriver"
   ]
  },
  {
   "cell_type": "code",
   "execution_count": 2,
   "metadata": {},
   "outputs": [],
   "source": [
    "driver = webdriver.Chrome(\"C:\\Users\\huyru\\Downloads\\Compressed\\chromedriver_win32\\chromedriver\")"
   ]
  },
  {
   "cell_type": "code",
   "execution_count": 49,
   "metadata": {},
   "outputs": [],
   "source": [
    "driver.get(\"https://hextracoin.co/\")"
   ]
  },
  {
   "cell_type": "code",
   "execution_count": 50,
   "metadata": {},
   "outputs": [
    {
     "data": {
      "text/plain": [
       "u'Hextracoin'"
      ]
     },
     "execution_count": 50,
     "metadata": {},
     "output_type": "execute_result"
    }
   ],
   "source": [
    "driver.title"
   ]
  },
  {
   "cell_type": "code",
   "execution_count": 52,
   "metadata": {},
   "outputs": [],
   "source": [
    "re = driver.find_element_by_name(\"username\")"
   ]
  },
  {
   "cell_type": "code",
   "execution_count": 53,
   "metadata": {},
   "outputs": [],
   "source": [
    "re.send_keys(\"HUY\")"
   ]
  },
  {
   "cell_type": "code",
   "execution_count": 24,
   "metadata": {},
   "outputs": [],
   "source": [
    "re.clear()"
   ]
  },
  {
   "cell_type": "code",
   "execution_count": 54,
   "metadata": {},
   "outputs": [],
   "source": [
    "re = driver.find_element_by_name(\"password\")"
   ]
  },
  {
   "cell_type": "code",
   "execution_count": 55,
   "metadata": {},
   "outputs": [],
   "source": [
    "re.send_keys(\"nguyenngochuy\")"
   ]
  },
  {
   "cell_type": "code",
   "execution_count": 28,
   "metadata": {},
   "outputs": [],
   "source": [
    "re = driver.find_element_by_id(\"password\")"
   ]
  },
  {
   "cell_type": "code",
   "execution_count": 29,
   "metadata": {},
   "outputs": [],
   "source": [
    "re.send_keys(\"nguyenngochuy\")"
   ]
  },
  {
   "cell_type": "code",
   "execution_count": 59,
   "metadata": {},
   "outputs": [],
   "source": [
    "driver.find_element_by_class_name(\"login-buttons\").click()"
   ]
  },
  {
   "cell_type": "code",
   "execution_count": 44,
   "metadata": {},
   "outputs": [],
   "source": [
    "re = driver.find_element_by_id(\"openid-buttons\")\n"
   ]
  },
  {
   "cell_type": "code",
   "execution_count": 60,
   "metadata": {},
   "outputs": [],
   "source": [
    "driver.get(\"https://stackoverflow.com/users/login\")"
   ]
  },
  {
   "cell_type": "code",
   "execution_count": 61,
   "metadata": {},
   "outputs": [],
   "source": [
    "driver.find_element_by_xpath(\"//span[.='Google']\").click()\n"
   ]
  },
  {
   "cell_type": "code",
   "execution_count": 3,
   "metadata": {},
   "outputs": [],
   "source": [
    "driver.get(\"http://www.listal.com/list/doutzen-kroes-ii\")"
   ]
  },
  {
   "cell_type": "code",
   "execution_count": 4,
   "metadata": {},
   "outputs": [],
   "source": [
    "from selenium.webdriver import ActionChains"
   ]
  },
  {
   "cell_type": "code",
   "execution_count": 5,
   "metadata": {},
   "outputs": [],
   "source": [
    "action_chains = ActionChains(driver)"
   ]
  },
  {
   "cell_type": "code",
   "execution_count": 86,
   "metadata": {},
   "outputs": [],
   "source": [
    "from selenium.webdriver.support.ui import Select"
   ]
  },
  {
   "cell_type": "code",
   "execution_count": 9,
   "metadata": {},
   "outputs": [],
   "source": [
    "driver.execute_script(\"window.scrollTo(0, (document.body.scrollHeight - 2000));\")"
   ]
  },
  {
   "cell_type": "code",
   "execution_count": 10,
   "metadata": {},
   "outputs": [],
   "source": [
    "re = driver.find_element_by_class_name(\"loadmoreitems\")"
   ]
  },
  {
   "cell_type": "code",
   "execution_count": 11,
   "metadata": {},
   "outputs": [],
   "source": [
    "re.click()"
   ]
  },
  {
   "cell_type": "code",
   "execution_count": 3,
   "metadata": {},
   "outputs": [],
   "source": [
    "driver.get(\"http://www.listal.com/list/candice-pics\")"
   ]
  },
  {
   "cell_type": "code",
   "execution_count": 4,
   "metadata": {},
   "outputs": [],
   "source": [
    "driver.execute_script(\"window.scrollTo(0, (document.body.scrollHeight -2000));\")"
   ]
  },
  {
   "cell_type": "code",
   "execution_count": 16,
   "metadata": {
    "scrolled": true
   },
   "outputs": [],
   "source": [
    "from selenium.webdriver.firefox.firefox_binary import FirefoxBinary"
   ]
  },
  {
   "cell_type": "code",
   "execution_count": 17,
   "metadata": {},
   "outputs": [],
   "source": [
    "binary = FirefoxBinary('C:\\Program Files\\Mozilla Firefox')"
   ]
  },
  {
   "cell_type": "code",
   "execution_count": 23,
   "metadata": {},
   "outputs": [],
   "source": [
    "driver = webdriver.Firefox(executable_path=\"C:\\Users\\huyru\\Downloads\\Compressed\\geckodriver-v0.19.1-win64\\geckodriver\")"
   ]
  },
  {
   "cell_type": "code",
   "execution_count": 24,
   "metadata": {},
   "outputs": [],
   "source": [
    "re = driver.get('https://facebook.com')"
   ]
  },
  {
   "cell_type": "code",
   "execution_count": 26,
   "metadata": {},
   "outputs": [],
   "source": [
    "re = driver.find_element_by_id('email')"
   ]
  },
  {
   "cell_type": "code",
   "execution_count": 27,
   "metadata": {},
   "outputs": [],
   "source": [
    "re.send_keys(\"ngochuy_gerrard_96@yahoo.com\")"
   ]
  },
  {
   "cell_type": "code",
   "execution_count": 28,
   "metadata": {},
   "outputs": [],
   "source": [
    "re = driver.find_element_by_id('pass')"
   ]
  },
  {
   "cell_type": "code",
   "execution_count": 29,
   "metadata": {},
   "outputs": [],
   "source": [
    "re.send_keys(\"nguyenngochuy\")"
   ]
  },
  {
   "cell_type": "code",
   "execution_count": 31,
   "metadata": {},
   "outputs": [],
   "source": [
    "re = driver.find_element_by_id('loginbutton')"
   ]
  },
  {
   "cell_type": "code",
   "execution_count": 32,
   "metadata": {},
   "outputs": [],
   "source": [
    "re.click()"
   ]
  },
  {
   "cell_type": "code",
   "execution_count": 12,
   "metadata": {},
   "outputs": [],
   "source": [
    "elems = driver.find_elements_by_xpath(\"//a[@href]\")"
   ]
  },
  {
   "cell_type": "code",
   "execution_count": 15,
   "metadata": {},
   "outputs": [],
   "source": [
    "link = []\n",
    "for elem in elems:\n",
    "    link.append(elem.get_attribute(\"href\"))"
   ]
  },
  {
   "cell_type": "code",
   "execution_count": 20,
   "metadata": {},
   "outputs": [],
   "source": [
    "image_link = []\n",
    "for l in link:\n",
    "    if \"viewimage\" in l:\n",
    "        image_link.append(str(l))"
   ]
  },
  {
   "cell_type": "code",
   "execution_count": 21,
   "metadata": {},
   "outputs": [
    {
     "data": {
      "text/plain": [
       "['http://www.listal.com/viewimage/3487836',\n",
       " 'http://www.listal.com/viewimage/3487835',\n",
       " 'http://www.listal.com/viewimage/3487834',\n",
       " 'http://www.listal.com/viewimage/3482580',\n",
       " 'http://www.listal.com/viewimage/3482579',\n",
       " 'http://www.listal.com/viewimage/3482578',\n",
       " 'http://www.listal.com/viewimage/3487837',\n",
       " 'http://www.listal.com/viewimage/3482577',\n",
       " 'http://www.listal.com/viewimage/3460299',\n",
       " 'http://www.listal.com/viewimage/3460297',\n",
       " 'http://www.listal.com/viewimage/3493108',\n",
       " 'http://www.listal.com/viewimage/3493107',\n",
       " 'http://www.listal.com/viewimage/3530518',\n",
       " 'http://www.listal.com/viewimage/3530517',\n",
       " 'http://www.listal.com/viewimage/3530519',\n",
       " 'http://www.listal.com/viewimage/3706065',\n",
       " 'http://www.listal.com/viewimage/3706063',\n",
       " 'http://www.listal.com/viewimage/3706064',\n",
       " 'http://www.listal.com/viewimage/3726802',\n",
       " 'http://www.listal.com/viewimage/3737749',\n",
       " 'http://www.listal.com/viewimage/3737750',\n",
       " 'http://www.listal.com/viewimage/3737753',\n",
       " 'http://www.listal.com/viewimage/3737755',\n",
       " 'http://www.listal.com/viewimage/3737758',\n",
       " 'http://www.listal.com/viewimage/3737760',\n",
       " 'http://www.listal.com/viewimage/3737761',\n",
       " 'http://www.listal.com/viewimage/3742042',\n",
       " 'http://www.listal.com/viewimage/3737747',\n",
       " 'http://www.listal.com/viewimage/3737746',\n",
       " 'http://www.listal.com/viewimage/3731676',\n",
       " 'http://www.listal.com/viewimage/3789535',\n",
       " 'http://www.listal.com/viewimage/3789532',\n",
       " 'http://www.listal.com/viewimage/3789530',\n",
       " 'http://www.listal.com/viewimage/3789567',\n",
       " 'http://www.listal.com/viewimage/3826712',\n",
       " 'http://www.listal.com/viewimage/3808678',\n",
       " 'http://www.listal.com/viewimage/3808677',\n",
       " 'http://www.listal.com/viewimage/3829803',\n",
       " 'http://www.listal.com/viewimage/3829804',\n",
       " 'http://www.listal.com/viewimage/3856538',\n",
       " 'http://www.listal.com/viewimage/3856537',\n",
       " 'http://www.listal.com/viewimage/3856536',\n",
       " 'http://www.listal.com/viewimage/3856539',\n",
       " 'http://www.listal.com/viewimage/3856540',\n",
       " 'http://www.listal.com/viewimage/3856541',\n",
       " 'http://www.listal.com/viewimage/3867253',\n",
       " 'http://www.listal.com/viewimage/3867255',\n",
       " 'http://www.listal.com/viewimage/3867252',\n",
       " 'http://www.listal.com/viewimage/3867262',\n",
       " 'http://www.listal.com/viewimage/3864100',\n",
       " 'http://www.listal.com/viewimage/3867249',\n",
       " 'http://www.listal.com/viewimage/3867250',\n",
       " 'http://www.listal.com/viewimage/3867251',\n",
       " 'http://www.listal.com/viewimage/3864099',\n",
       " 'http://www.listal.com/viewimage/3864096',\n",
       " 'http://www.listal.com/viewimage/3864097',\n",
       " 'http://www.listal.com/viewimage/3882178',\n",
       " 'http://www.listal.com/viewimage/3882177',\n",
       " 'http://www.listal.com/viewimage/3882181',\n",
       " 'http://www.listal.com/viewimage/3882182',\n",
       " 'http://www.listal.com/viewimage/3944276',\n",
       " 'http://www.listal.com/viewimage/3944274',\n",
       " 'http://www.listal.com/viewimage/3944279',\n",
       " 'http://www.listal.com/viewimage/3944282',\n",
       " 'http://www.listal.com/viewimage/3944292',\n",
       " 'http://www.listal.com/viewimage/3891019',\n",
       " 'http://www.listal.com/viewimage/3891016',\n",
       " 'http://www.listal.com/viewimage/3892583',\n",
       " 'http://www.listal.com/viewimage/3944272',\n",
       " 'http://www.listal.com/viewimage/3944299',\n",
       " 'http://www.listal.com/viewimage/3944331',\n",
       " 'http://www.listal.com/viewimage/3978608',\n",
       " 'http://www.listal.com/viewimage/3978604',\n",
       " 'http://www.listal.com/viewimage/3978610',\n",
       " 'http://www.listal.com/viewimage/3978795',\n",
       " 'http://www.listal.com/viewimage/3978803',\n",
       " 'http://www.listal.com/viewimage/3978599',\n",
       " 'http://www.listal.com/viewimage/3978600',\n",
       " 'http://www.listal.com/viewimage/3978601',\n",
       " 'http://www.listal.com/viewimage/3978602',\n",
       " 'http://www.listal.com/viewimage/3978603',\n",
       " 'http://www.listal.com/viewimage/3978595',\n",
       " 'http://www.listal.com/viewimage/3978596',\n",
       " 'http://www.listal.com/viewimage/3978597',\n",
       " 'http://www.listal.com/viewimage/3978598',\n",
       " 'http://www.listal.com/viewimage/3992416',\n",
       " 'http://www.listal.com/viewimage/3992414',\n",
       " 'http://www.listal.com/viewimage/3992417',\n",
       " 'http://www.listal.com/viewimage/3992419',\n",
       " 'http://www.listal.com/viewimage/3984885',\n",
       " 'http://www.listal.com/viewimage/3984879',\n",
       " 'http://www.listal.com/viewimage/3984877',\n",
       " 'http://www.listal.com/viewimage/3984870',\n",
       " 'http://www.listal.com/viewimage/3981300',\n",
       " 'http://www.listal.com/viewimage/3981295',\n",
       " 'http://www.listal.com/viewimage/3984872',\n",
       " 'http://www.listal.com/viewimage/4008164',\n",
       " 'http://www.listal.com/viewimage/4008163',\n",
       " 'http://www.listal.com/viewimage/4008162',\n",
       " 'http://www.listal.com/viewimage/4008132',\n",
       " 'http://www.listal.com/viewimage/4008161',\n",
       " 'http://www.listal.com/viewimage/4008165',\n",
       " 'http://www.listal.com/viewimage/4008166',\n",
       " 'http://www.listal.com/viewimage/3992425',\n",
       " 'http://www.listal.com/viewimage/3992420',\n",
       " 'http://www.listal.com/viewimage/3992421',\n",
       " 'http://www.listal.com/viewimage/3992423',\n",
       " 'http://www.listal.com/viewimage/3992422',\n",
       " 'http://www.listal.com/viewimage/3992424',\n",
       " 'http://www.listal.com/viewimage/3992426',\n",
       " 'http://www.listal.com/viewimage/3992427',\n",
       " 'http://www.listal.com/viewimage/3992428',\n",
       " 'http://www.listal.com/viewimage/4011428',\n",
       " 'http://www.listal.com/viewimage/4011410',\n",
       " 'http://www.listal.com/viewimage/4011409',\n",
       " 'http://www.listal.com/viewimage/4015044',\n",
       " 'http://www.listal.com/viewimage/4016557',\n",
       " 'http://www.listal.com/viewimage/4008172',\n",
       " 'http://www.listal.com/viewimage/4008173',\n",
       " 'http://www.listal.com/viewimage/4008174',\n",
       " 'http://www.listal.com/viewimage/4008175',\n",
       " 'http://www.listal.com/viewimage/4008176',\n",
       " 'http://www.listal.com/viewimage/4008169',\n",
       " 'http://www.listal.com/viewimage/4008168',\n",
       " 'http://www.listal.com/viewimage/4008167',\n",
       " 'http://www.listal.com/viewimage/4008170']"
      ]
     },
     "execution_count": 21,
     "metadata": {},
     "output_type": "execute_result"
    }
   ],
   "source": [
    "image_link"
   ]
  },
  {
   "cell_type": "code",
   "execution_count": 19,
   "metadata": {},
   "outputs": [
    {
     "data": {
      "text/plain": [
       "126"
      ]
     },
     "execution_count": 19,
     "metadata": {},
     "output_type": "execute_result"
    }
   ],
   "source": [
    "len(image_link)"
   ]
  },
  {
   "cell_type": "code",
   "execution_count": null,
   "metadata": {},
   "outputs": [],
   "source": [
    "for link in image_link:\n",
    "    re = driver.get(link)    "
   ]
  },
  {
   "cell_type": "code",
   "execution_count": null,
   "metadata": {},
   "outputs": [],
   "source": []
  }
 ],
 "metadata": {
  "kernelspec": {
   "display_name": "Python 2",
   "language": "python",
   "name": "python2"
  },
  "language_info": {
   "codemirror_mode": {
    "name": "ipython",
    "version": 2
   },
   "file_extension": ".py",
   "mimetype": "text/x-python",
   "name": "python",
   "nbconvert_exporter": "python",
   "pygments_lexer": "ipython2",
   "version": "2.7.14"
  }
 },
 "nbformat": 4,
 "nbformat_minor": 2
}
