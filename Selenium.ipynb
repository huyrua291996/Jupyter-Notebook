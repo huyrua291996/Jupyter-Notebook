{
 "cells": [
  {
   "cell_type": "code",
   "execution_count": 1,
   "metadata": {},
   "outputs": [
    {
     "name": "stdout",
     "output_type": "stream",
     "text": [
      "Collecting selenium\n",
      "  Downloading selenium-3.6.0-py2.py3-none-any.whl (924kB)\n",
      "Installing collected packages: selenium\n",
      "Successfully installed selenium-3.6.0\n"
     ]
    }
   ],
   "source": [
    "!py -m pip install selenium"
   ]
  },
  {
   "cell_type": "code",
   "execution_count": 1,
   "metadata": {},
   "outputs": [],
   "source": [
    "from selenium import webdriver"
   ]
  },
  {
   "cell_type": "code",
   "execution_count": 2,
   "metadata": {},
   "outputs": [],
   "source": [
    "driver = webdriver.Chrome(\"C:\\Users\\huyru\\Downloads\\Compressed\\chromedriver_win32\\chromedriver\")"
   ]
  },
  {
   "cell_type": "code",
   "execution_count": 49,
   "metadata": {},
   "outputs": [],
   "source": [
    "driver.get(\"https://hextracoin.co/\")"
   ]
  },
  {
   "cell_type": "code",
   "execution_count": 50,
   "metadata": {},
   "outputs": [
    {
     "data": {
      "text/plain": [
       "u'Hextracoin'"
      ]
     },
     "execution_count": 50,
     "metadata": {},
     "output_type": "execute_result"
    }
   ],
   "source": [
    "driver.title"
   ]
  },
  {
   "cell_type": "code",
   "execution_count": 52,
   "metadata": {},
   "outputs": [],
   "source": [
    "re = driver.find_element_by_name(\"username\")"
   ]
  },
  {
   "cell_type": "code",
   "execution_count": 53,
   "metadata": {},
   "outputs": [],
   "source": [
    "re.send_keys(\"HUY\")"
   ]
  },
  {
   "cell_type": "code",
   "execution_count": 24,
   "metadata": {},
   "outputs": [],
   "source": [
    "re.clear()"
   ]
  },
  {
   "cell_type": "code",
   "execution_count": 54,
   "metadata": {},
   "outputs": [],
   "source": [
    "re = driver.find_element_by_name(\"password\")"
   ]
  },
  {
   "cell_type": "code",
   "execution_count": 55,
   "metadata": {},
   "outputs": [],
   "source": [
    "re.send_keys(\"nguyenngochuy\")"
   ]
  },
  {
   "cell_type": "code",
   "execution_count": 28,
   "metadata": {},
   "outputs": [],
   "source": [
    "re = driver.find_element_by_id(\"password\")"
   ]
  },
  {
   "cell_type": "code",
   "execution_count": 29,
   "metadata": {},
   "outputs": [],
   "source": [
    "re.send_keys(\"nguyenngochuy\")"
   ]
  },
  {
   "cell_type": "code",
   "execution_count": 59,
   "metadata": {},
   "outputs": [],
   "source": [
    "driver.find_element_by_class_name(\"login-buttons\").click()"
   ]
  },
  {
   "cell_type": "code",
   "execution_count": 44,
   "metadata": {},
   "outputs": [],
   "source": [
    "re = driver.find_element_by_id(\"openid-buttons\")\n"
   ]
  },
  {
   "cell_type": "code",
   "execution_count": 60,
   "metadata": {},
   "outputs": [],
   "source": [
    "driver.get(\"https://stackoverflow.com/users/login\")"
   ]
  },
  {
   "cell_type": "code",
   "execution_count": 61,
   "metadata": {},
   "outputs": [],
   "source": [
    "driver.find_element_by_xpath(\"//span[.='Google']\").click()\n"
   ]
  },
  {
   "cell_type": "code",
   "execution_count": 3,
   "metadata": {},
   "outputs": [],
   "source": [
    "driver.get(\"http://www.listal.com/list/doutzen-kroes-ii\")"
   ]
  },
  {
   "cell_type": "code",
   "execution_count": 4,
   "metadata": {},
   "outputs": [],
   "source": [
    "from selenium.webdriver import ActionChains"
   ]
  },
  {
   "cell_type": "code",
   "execution_count": 5,
   "metadata": {},
   "outputs": [],
   "source": [
    "action_chains = ActionChains(driver)"
   ]
  },
  {
   "cell_type": "code",
   "execution_count": 86,
   "metadata": {},
   "outputs": [],
   "source": [
    "from selenium.webdriver.support.ui import Select"
   ]
  },
  {
   "cell_type": "code",
   "execution_count": 37,
   "metadata": {},
   "outputs": [],
   "source": [
    "driver.execute_script(\"window.scrollTo(0, (document.body.scrollHeight - 2000));\")"
   ]
  },
  {
   "cell_type": "code",
   "execution_count": 38,
   "metadata": {},
   "outputs": [
    {
     "ename": "NoSuchElementException",
     "evalue": "Message: Unable to locate element: .loadmoreitems\n",
     "output_type": "error",
     "traceback": [
      "\u001b[1;31m---------------------------------------------------------------------------\u001b[0m",
      "\u001b[1;31mNoSuchElementException\u001b[0m                    Traceback (most recent call last)",
      "\u001b[1;32m<ipython-input-38-09586914e8c4>\u001b[0m in \u001b[0;36m<module>\u001b[1;34m()\u001b[0m\n\u001b[1;32m----> 1\u001b[1;33m \u001b[0mre\u001b[0m \u001b[1;33m=\u001b[0m \u001b[0mdriver\u001b[0m\u001b[1;33m.\u001b[0m\u001b[0mfind_element_by_class_name\u001b[0m\u001b[1;33m(\u001b[0m\u001b[1;34m\"loadmoreitems\"\u001b[0m\u001b[1;33m)\u001b[0m\u001b[1;33m\u001b[0m\u001b[0m\n\u001b[0m",
      "\u001b[1;32mD:\\python\\Python27\\lib\\site-packages\\selenium\\webdriver\\remote\\webdriver.pyc\u001b[0m in \u001b[0;36mfind_element_by_class_name\u001b[1;34m(self, name)\u001b[0m\n\u001b[0;32m    483\u001b[0m             \u001b[0mdriver\u001b[0m\u001b[1;33m.\u001b[0m\u001b[0mfind_element_by_class_name\u001b[0m\u001b[1;33m(\u001b[0m\u001b[1;34m'foo'\u001b[0m\u001b[1;33m)\u001b[0m\u001b[1;33m\u001b[0m\u001b[0m\n\u001b[0;32m    484\u001b[0m         \"\"\"\n\u001b[1;32m--> 485\u001b[1;33m         \u001b[1;32mreturn\u001b[0m \u001b[0mself\u001b[0m\u001b[1;33m.\u001b[0m\u001b[0mfind_element\u001b[0m\u001b[1;33m(\u001b[0m\u001b[0mby\u001b[0m\u001b[1;33m=\u001b[0m\u001b[0mBy\u001b[0m\u001b[1;33m.\u001b[0m\u001b[0mCLASS_NAME\u001b[0m\u001b[1;33m,\u001b[0m \u001b[0mvalue\u001b[0m\u001b[1;33m=\u001b[0m\u001b[0mname\u001b[0m\u001b[1;33m)\u001b[0m\u001b[1;33m\u001b[0m\u001b[0m\n\u001b[0m\u001b[0;32m    486\u001b[0m \u001b[1;33m\u001b[0m\u001b[0m\n\u001b[0;32m    487\u001b[0m     \u001b[1;32mdef\u001b[0m \u001b[0mfind_elements_by_class_name\u001b[0m\u001b[1;33m(\u001b[0m\u001b[0mself\u001b[0m\u001b[1;33m,\u001b[0m \u001b[0mname\u001b[0m\u001b[1;33m)\u001b[0m\u001b[1;33m:\u001b[0m\u001b[1;33m\u001b[0m\u001b[0m\n",
      "\u001b[1;32mD:\\python\\Python27\\lib\\site-packages\\selenium\\webdriver\\remote\\webdriver.pyc\u001b[0m in \u001b[0;36mfind_element\u001b[1;34m(self, by, value)\u001b[0m\n\u001b[0;32m    841\u001b[0m         return self.execute(Command.FIND_ELEMENT, {\n\u001b[0;32m    842\u001b[0m             \u001b[1;34m'using'\u001b[0m\u001b[1;33m:\u001b[0m \u001b[0mby\u001b[0m\u001b[1;33m,\u001b[0m\u001b[1;33m\u001b[0m\u001b[0m\n\u001b[1;32m--> 843\u001b[1;33m             'value': value})['value']\n\u001b[0m\u001b[0;32m    844\u001b[0m \u001b[1;33m\u001b[0m\u001b[0m\n\u001b[0;32m    845\u001b[0m     \u001b[1;32mdef\u001b[0m \u001b[0mfind_elements\u001b[0m\u001b[1;33m(\u001b[0m\u001b[0mself\u001b[0m\u001b[1;33m,\u001b[0m \u001b[0mby\u001b[0m\u001b[1;33m=\u001b[0m\u001b[0mBy\u001b[0m\u001b[1;33m.\u001b[0m\u001b[0mID\u001b[0m\u001b[1;33m,\u001b[0m \u001b[0mvalue\u001b[0m\u001b[1;33m=\u001b[0m\u001b[0mNone\u001b[0m\u001b[1;33m)\u001b[0m\u001b[1;33m:\u001b[0m\u001b[1;33m\u001b[0m\u001b[0m\n",
      "\u001b[1;32mD:\\python\\Python27\\lib\\site-packages\\selenium\\webdriver\\remote\\webdriver.pyc\u001b[0m in \u001b[0;36mexecute\u001b[1;34m(self, driver_command, params)\u001b[0m\n\u001b[0;32m    306\u001b[0m         \u001b[0mresponse\u001b[0m \u001b[1;33m=\u001b[0m \u001b[0mself\u001b[0m\u001b[1;33m.\u001b[0m\u001b[0mcommand_executor\u001b[0m\u001b[1;33m.\u001b[0m\u001b[0mexecute\u001b[0m\u001b[1;33m(\u001b[0m\u001b[0mdriver_command\u001b[0m\u001b[1;33m,\u001b[0m \u001b[0mparams\u001b[0m\u001b[1;33m)\u001b[0m\u001b[1;33m\u001b[0m\u001b[0m\n\u001b[0;32m    307\u001b[0m         \u001b[1;32mif\u001b[0m \u001b[0mresponse\u001b[0m\u001b[1;33m:\u001b[0m\u001b[1;33m\u001b[0m\u001b[0m\n\u001b[1;32m--> 308\u001b[1;33m             \u001b[0mself\u001b[0m\u001b[1;33m.\u001b[0m\u001b[0merror_handler\u001b[0m\u001b[1;33m.\u001b[0m\u001b[0mcheck_response\u001b[0m\u001b[1;33m(\u001b[0m\u001b[0mresponse\u001b[0m\u001b[1;33m)\u001b[0m\u001b[1;33m\u001b[0m\u001b[0m\n\u001b[0m\u001b[0;32m    309\u001b[0m             response['value'] = self._unwrap_value(\n\u001b[0;32m    310\u001b[0m                 response.get('value', None))\n",
      "\u001b[1;32mD:\\python\\Python27\\lib\\site-packages\\selenium\\webdriver\\remote\\errorhandler.pyc\u001b[0m in \u001b[0;36mcheck_response\u001b[1;34m(self, response)\u001b[0m\n\u001b[0;32m    192\u001b[0m         \u001b[1;32melif\u001b[0m \u001b[0mexception_class\u001b[0m \u001b[1;33m==\u001b[0m \u001b[0mUnexpectedAlertPresentException\u001b[0m \u001b[1;32mand\u001b[0m \u001b[1;34m'alert'\u001b[0m \u001b[1;32min\u001b[0m \u001b[0mvalue\u001b[0m\u001b[1;33m:\u001b[0m\u001b[1;33m\u001b[0m\u001b[0m\n\u001b[0;32m    193\u001b[0m             \u001b[1;32mraise\u001b[0m \u001b[0mexception_class\u001b[0m\u001b[1;33m(\u001b[0m\u001b[0mmessage\u001b[0m\u001b[1;33m,\u001b[0m \u001b[0mscreen\u001b[0m\u001b[1;33m,\u001b[0m \u001b[0mstacktrace\u001b[0m\u001b[1;33m,\u001b[0m \u001b[0mvalue\u001b[0m\u001b[1;33m[\u001b[0m\u001b[1;34m'alert'\u001b[0m\u001b[1;33m]\u001b[0m\u001b[1;33m.\u001b[0m\u001b[0mget\u001b[0m\u001b[1;33m(\u001b[0m\u001b[1;34m'text'\u001b[0m\u001b[1;33m)\u001b[0m\u001b[1;33m)\u001b[0m\u001b[1;33m\u001b[0m\u001b[0m\n\u001b[1;32m--> 194\u001b[1;33m         \u001b[1;32mraise\u001b[0m \u001b[0mexception_class\u001b[0m\u001b[1;33m(\u001b[0m\u001b[0mmessage\u001b[0m\u001b[1;33m,\u001b[0m \u001b[0mscreen\u001b[0m\u001b[1;33m,\u001b[0m \u001b[0mstacktrace\u001b[0m\u001b[1;33m)\u001b[0m\u001b[1;33m\u001b[0m\u001b[0m\n\u001b[0m\u001b[0;32m    195\u001b[0m \u001b[1;33m\u001b[0m\u001b[0m\n\u001b[0;32m    196\u001b[0m     \u001b[1;32mdef\u001b[0m \u001b[0m_value_or_default\u001b[0m\u001b[1;33m(\u001b[0m\u001b[0mself\u001b[0m\u001b[1;33m,\u001b[0m \u001b[0mobj\u001b[0m\u001b[1;33m,\u001b[0m \u001b[0mkey\u001b[0m\u001b[1;33m,\u001b[0m \u001b[0mdefault\u001b[0m\u001b[1;33m)\u001b[0m\u001b[1;33m:\u001b[0m\u001b[1;33m\u001b[0m\u001b[0m\n",
      "\u001b[1;31mNoSuchElementException\u001b[0m: Message: Unable to locate element: .loadmoreitems\n"
     ]
    }
   ],
   "source": [
    "re = driver.find_element_by_class_name(\"loadmoreitems\")"
   ]
  },
  {
   "cell_type": "code",
   "execution_count": 36,
   "metadata": {},
   "outputs": [],
   "source": [
    "re.click()"
   ]
  },
  {
   "cell_type": "code",
   "execution_count": 3,
   "metadata": {},
   "outputs": [],
   "source": [
    "driver.get(\"http://www.listal.com/list/candice-pics\")"
   ]
  },
  {
   "cell_type": "code",
   "execution_count": 4,
   "metadata": {},
   "outputs": [],
   "source": [
    "driver.execute_script(\"window.scrollTo(0, (document.body.scrollHeight -2000));\")"
   ]
  },
  {
   "cell_type": "code",
   "execution_count": 16,
   "metadata": {
    "scrolled": true
   },
   "outputs": [],
   "source": [
    "from selenium.webdriver.firefox.firefox_binary import FirefoxBinary"
   ]
  },
  {
   "cell_type": "code",
   "execution_count": 17,
   "metadata": {},
   "outputs": [],
   "source": [
    "binary = FirefoxBinary('C:\\Program Files\\Mozilla Firefox')"
   ]
  },
  {
   "cell_type": "code",
   "execution_count": 2,
   "metadata": {},
   "outputs": [],
   "source": [
    "driver = webdriver.Firefox(executable_path=\"C:\\Users\\huyru\\Downloads\\Compressed\\geckodriver-v0.19.1-win64\\geckodriver\")"
   ]
  },
  {
   "cell_type": "code",
   "execution_count": 24,
   "metadata": {},
   "outputs": [],
   "source": [
    "re = driver.get('https://facebook.com')"
   ]
  },
  {
   "cell_type": "code",
   "execution_count": 26,
   "metadata": {},
   "outputs": [],
   "source": [
    "re = driver.find_element_by_id('email')"
   ]
  },
  {
   "cell_type": "code",
   "execution_count": 27,
   "metadata": {},
   "outputs": [],
   "source": [
    "re.send_keys(\"ngochuy_gerrard_96@yahoo.com\")"
   ]
  },
  {
   "cell_type": "code",
   "execution_count": 28,
   "metadata": {},
   "outputs": [],
   "source": [
    "re = driver.find_element_by_id('pass')"
   ]
  },
  {
   "cell_type": "code",
   "execution_count": 29,
   "metadata": {},
   "outputs": [],
   "source": [
    "re.send_keys(\"nguyenngochuy\")"
   ]
  },
  {
   "cell_type": "code",
   "execution_count": 31,
   "metadata": {},
   "outputs": [],
   "source": [
    "re = driver.find_element_by_id('loginbutton')"
   ]
  },
  {
   "cell_type": "code",
   "execution_count": 32,
   "metadata": {},
   "outputs": [],
   "source": [
    "re.click()"
   ]
  },
  {
   "cell_type": "code",
   "execution_count": 39,
   "metadata": {},
   "outputs": [],
   "source": [
    "elems = driver.find_elements_by_xpath(\"//a[@href]\")"
   ]
  },
  {
   "cell_type": "code",
   "execution_count": 40,
   "metadata": {},
   "outputs": [],
   "source": [
    "link = []\n",
    "for elem in elems:\n",
    "    link.append(elem.get_attribute(\"href\"))"
   ]
  },
  {
   "cell_type": "code",
   "execution_count": 41,
   "metadata": {},
   "outputs": [],
   "source": [
    "image_link = []\n",
    "for l in link:\n",
    "    if \"viewimage\" in l:\n",
    "        image_link.append(str(l))"
   ]
  },
  {
   "cell_type": "code",
   "execution_count": 42,
   "metadata": {},
   "outputs": [
    {
     "data": {
      "text/plain": [
       "['http://www.listal.com/viewimage/3487836',\n",
       " 'http://www.listal.com/viewimage/3487835',\n",
       " 'http://www.listal.com/viewimage/3487834',\n",
       " 'http://www.listal.com/viewimage/3482580',\n",
       " 'http://www.listal.com/viewimage/3482579',\n",
       " 'http://www.listal.com/viewimage/3482578',\n",
       " 'http://www.listal.com/viewimage/3487837',\n",
       " 'http://www.listal.com/viewimage/3482577',\n",
       " 'http://www.listal.com/viewimage/3460299',\n",
       " 'http://www.listal.com/viewimage/3460297',\n",
       " 'http://www.listal.com/viewimage/3493108',\n",
       " 'http://www.listal.com/viewimage/3493107',\n",
       " 'http://www.listal.com/viewimage/3530518',\n",
       " 'http://www.listal.com/viewimage/3530517',\n",
       " 'http://www.listal.com/viewimage/3530519',\n",
       " 'http://www.listal.com/viewimage/3706065',\n",
       " 'http://www.listal.com/viewimage/3706063',\n",
       " 'http://www.listal.com/viewimage/3706064',\n",
       " 'http://www.listal.com/viewimage/3726802',\n",
       " 'http://www.listal.com/viewimage/3737749',\n",
       " 'http://www.listal.com/viewimage/3737750',\n",
       " 'http://www.listal.com/viewimage/3737753',\n",
       " 'http://www.listal.com/viewimage/3737755',\n",
       " 'http://www.listal.com/viewimage/3737758',\n",
       " 'http://www.listal.com/viewimage/3737760',\n",
       " 'http://www.listal.com/viewimage/3737761',\n",
       " 'http://www.listal.com/viewimage/3742042',\n",
       " 'http://www.listal.com/viewimage/3737747',\n",
       " 'http://www.listal.com/viewimage/3737746',\n",
       " 'http://www.listal.com/viewimage/3731676',\n",
       " 'http://www.listal.com/viewimage/3789535',\n",
       " 'http://www.listal.com/viewimage/3789532',\n",
       " 'http://www.listal.com/viewimage/3789530',\n",
       " 'http://www.listal.com/viewimage/3789567',\n",
       " 'http://www.listal.com/viewimage/3826712',\n",
       " 'http://www.listal.com/viewimage/3808678',\n",
       " 'http://www.listal.com/viewimage/3808677',\n",
       " 'http://www.listal.com/viewimage/3829803',\n",
       " 'http://www.listal.com/viewimage/3829804',\n",
       " 'http://www.listal.com/viewimage/3856538',\n",
       " 'http://www.listal.com/viewimage/3856537',\n",
       " 'http://www.listal.com/viewimage/3856536',\n",
       " 'http://www.listal.com/viewimage/3856539',\n",
       " 'http://www.listal.com/viewimage/3856540',\n",
       " 'http://www.listal.com/viewimage/3856541',\n",
       " 'http://www.listal.com/viewimage/3867253',\n",
       " 'http://www.listal.com/viewimage/3867255',\n",
       " 'http://www.listal.com/viewimage/3867252',\n",
       " 'http://www.listal.com/viewimage/3867262',\n",
       " 'http://www.listal.com/viewimage/3864100',\n",
       " 'http://www.listal.com/viewimage/3867249',\n",
       " 'http://www.listal.com/viewimage/3867250',\n",
       " 'http://www.listal.com/viewimage/3867251',\n",
       " 'http://www.listal.com/viewimage/3864099',\n",
       " 'http://www.listal.com/viewimage/3864096',\n",
       " 'http://www.listal.com/viewimage/3864097',\n",
       " 'http://www.listal.com/viewimage/3882178',\n",
       " 'http://www.listal.com/viewimage/3882177',\n",
       " 'http://www.listal.com/viewimage/3882181',\n",
       " 'http://www.listal.com/viewimage/3882182',\n",
       " 'http://www.listal.com/viewimage/3944276',\n",
       " 'http://www.listal.com/viewimage/3944274',\n",
       " 'http://www.listal.com/viewimage/3944279',\n",
       " 'http://www.listal.com/viewimage/3944282',\n",
       " 'http://www.listal.com/viewimage/3944292',\n",
       " 'http://www.listal.com/viewimage/3891019',\n",
       " 'http://www.listal.com/viewimage/3891016',\n",
       " 'http://www.listal.com/viewimage/3892583',\n",
       " 'http://www.listal.com/viewimage/3944272',\n",
       " 'http://www.listal.com/viewimage/3944299',\n",
       " 'http://www.listal.com/viewimage/3944331',\n",
       " 'http://www.listal.com/viewimage/3978608',\n",
       " 'http://www.listal.com/viewimage/3978604',\n",
       " 'http://www.listal.com/viewimage/3978610',\n",
       " 'http://www.listal.com/viewimage/3978795',\n",
       " 'http://www.listal.com/viewimage/3978803',\n",
       " 'http://www.listal.com/viewimage/3978599',\n",
       " 'http://www.listal.com/viewimage/3978600',\n",
       " 'http://www.listal.com/viewimage/3978601',\n",
       " 'http://www.listal.com/viewimage/3978602',\n",
       " 'http://www.listal.com/viewimage/3978603',\n",
       " 'http://www.listal.com/viewimage/3978595',\n",
       " 'http://www.listal.com/viewimage/3978596',\n",
       " 'http://www.listal.com/viewimage/3978597',\n",
       " 'http://www.listal.com/viewimage/3978598',\n",
       " 'http://www.listal.com/viewimage/3992416',\n",
       " 'http://www.listal.com/viewimage/3992414',\n",
       " 'http://www.listal.com/viewimage/3992417',\n",
       " 'http://www.listal.com/viewimage/3992419',\n",
       " 'http://www.listal.com/viewimage/3984885',\n",
       " 'http://www.listal.com/viewimage/3984879',\n",
       " 'http://www.listal.com/viewimage/3984877',\n",
       " 'http://www.listal.com/viewimage/3984870',\n",
       " 'http://www.listal.com/viewimage/3981300',\n",
       " 'http://www.listal.com/viewimage/3981295',\n",
       " 'http://www.listal.com/viewimage/3984872',\n",
       " 'http://www.listal.com/viewimage/4008164',\n",
       " 'http://www.listal.com/viewimage/4008163',\n",
       " 'http://www.listal.com/viewimage/4008162',\n",
       " 'http://www.listal.com/viewimage/4008132',\n",
       " 'http://www.listal.com/viewimage/4008161',\n",
       " 'http://www.listal.com/viewimage/4008165',\n",
       " 'http://www.listal.com/viewimage/4008166',\n",
       " 'http://www.listal.com/viewimage/3992425',\n",
       " 'http://www.listal.com/viewimage/3992420',\n",
       " 'http://www.listal.com/viewimage/3992421',\n",
       " 'http://www.listal.com/viewimage/3992423',\n",
       " 'http://www.listal.com/viewimage/3992422',\n",
       " 'http://www.listal.com/viewimage/3992424',\n",
       " 'http://www.listal.com/viewimage/3992426',\n",
       " 'http://www.listal.com/viewimage/3992427',\n",
       " 'http://www.listal.com/viewimage/3992428',\n",
       " 'http://www.listal.com/viewimage/4011428',\n",
       " 'http://www.listal.com/viewimage/4011410',\n",
       " 'http://www.listal.com/viewimage/4011409',\n",
       " 'http://www.listal.com/viewimage/4015044',\n",
       " 'http://www.listal.com/viewimage/4016557',\n",
       " 'http://www.listal.com/viewimage/4008172',\n",
       " 'http://www.listal.com/viewimage/4008173',\n",
       " 'http://www.listal.com/viewimage/4008174',\n",
       " 'http://www.listal.com/viewimage/4008175',\n",
       " 'http://www.listal.com/viewimage/4008176',\n",
       " 'http://www.listal.com/viewimage/4008169',\n",
       " 'http://www.listal.com/viewimage/4008168',\n",
       " 'http://www.listal.com/viewimage/4008167',\n",
       " 'http://www.listal.com/viewimage/4008170',\n",
       " 'http://www.listal.com/viewimage/4008171',\n",
       " 'http://www.listal.com/viewimage/4017405',\n",
       " 'http://www.listal.com/viewimage/4017407',\n",
       " 'http://www.listal.com/viewimage/4017408',\n",
       " 'http://www.listal.com/viewimage/4017410',\n",
       " 'http://www.listal.com/viewimage/4017411',\n",
       " 'http://www.listal.com/viewimage/4017413',\n",
       " 'http://www.listal.com/viewimage/4017415',\n",
       " 'http://www.listal.com/viewimage/4017394',\n",
       " 'http://www.listal.com/viewimage/4016558',\n",
       " 'http://www.listal.com/viewimage/4016559',\n",
       " 'http://www.listal.com/viewimage/4017385',\n",
       " 'http://www.listal.com/viewimage/4017388',\n",
       " 'http://www.listal.com/viewimage/4017391',\n",
       " 'http://www.listal.com/viewimage/4017397',\n",
       " 'http://www.listal.com/viewimage/4017403',\n",
       " 'http://www.listal.com/viewimage/4017402',\n",
       " 'http://www.listal.com/viewimage/4017404',\n",
       " 'http://www.listal.com/viewimage/4026351',\n",
       " 'http://www.listal.com/viewimage/4026210',\n",
       " 'http://www.listal.com/viewimage/4026208',\n",
       " 'http://www.listal.com/viewimage/4026207',\n",
       " 'http://www.listal.com/viewimage/4026353',\n",
       " 'http://www.listal.com/viewimage/4031773',\n",
       " 'http://www.listal.com/viewimage/4061044',\n",
       " 'http://www.listal.com/viewimage/4061032',\n",
       " 'http://www.listal.com/viewimage/4061030',\n",
       " 'http://www.listal.com/viewimage/4061047',\n",
       " 'http://www.listal.com/viewimage/4061089',\n",
       " 'http://www.listal.com/viewimage/4031778',\n",
       " 'http://www.listal.com/viewimage/4031776',\n",
       " 'http://www.listal.com/viewimage/4031780',\n",
       " 'http://www.listal.com/viewimage/4069684',\n",
       " 'http://www.listal.com/viewimage/4069682',\n",
       " 'http://www.listal.com/viewimage/4064744',\n",
       " 'http://www.listal.com/viewimage/4069689',\n",
       " 'http://www.listal.com/viewimage/4069690',\n",
       " 'http://www.listal.com/viewimage/4069692',\n",
       " 'http://www.listal.com/viewimage/4072187',\n",
       " 'http://www.listal.com/viewimage/4072190',\n",
       " 'http://www.listal.com/viewimage/4100238',\n",
       " 'http://www.listal.com/viewimage/4072185',\n",
       " 'http://www.listal.com/viewimage/4069693',\n",
       " 'http://www.listal.com/viewimage/4103042',\n",
       " 'http://www.listal.com/viewimage/4103043',\n",
       " 'http://www.listal.com/viewimage/4103046',\n",
       " 'http://www.listal.com/viewimage/4103047',\n",
       " 'http://www.listal.com/viewimage/4103049',\n",
       " 'http://www.listal.com/viewimage/4103051',\n",
       " 'http://www.listal.com/viewimage/4103052',\n",
       " 'http://www.listal.com/viewimage/4103053',\n",
       " 'http://www.listal.com/viewimage/4120768',\n",
       " 'http://www.listal.com/viewimage/4119244',\n",
       " 'http://www.listal.com/viewimage/4119245',\n",
       " 'http://www.listal.com/viewimage/4119248',\n",
       " 'http://www.listal.com/viewimage/4119249',\n",
       " 'http://www.listal.com/viewimage/4119251',\n",
       " 'http://www.listal.com/viewimage/4119255',\n",
       " 'http://www.listal.com/viewimage/4119256',\n",
       " 'http://www.listal.com/viewimage/4119257',\n",
       " 'http://www.listal.com/viewimage/4120767',\n",
       " 'http://www.listal.com/viewimage/4119242',\n",
       " 'http://www.listal.com/viewimage/4158860',\n",
       " 'http://www.listal.com/viewimage/4158859',\n",
       " 'http://www.listal.com/viewimage/4158853',\n",
       " 'http://www.listal.com/viewimage/4158854',\n",
       " 'http://www.listal.com/viewimage/4158856',\n",
       " 'http://www.listal.com/viewimage/4158857',\n",
       " 'http://www.listal.com/viewimage/4158858',\n",
       " 'http://www.listal.com/viewimage/4158862',\n",
       " 'http://www.listal.com/viewimage/4160500',\n",
       " 'http://www.listal.com/viewimage/4160501',\n",
       " 'http://www.listal.com/viewimage/4158426',\n",
       " 'http://www.listal.com/viewimage/4156928',\n",
       " 'http://www.listal.com/viewimage/4153512',\n",
       " 'http://www.listal.com/viewimage/4120769',\n",
       " 'http://www.listal.com/viewimage/4120770',\n",
       " 'http://www.listal.com/viewimage/4133282',\n",
       " 'http://www.listal.com/viewimage/4158840',\n",
       " 'http://www.listal.com/viewimage/4158852',\n",
       " 'http://www.listal.com/viewimage/4160525',\n",
       " 'http://www.listal.com/viewimage/4160526',\n",
       " 'http://www.listal.com/viewimage/4160527',\n",
       " 'http://www.listal.com/viewimage/4160530',\n",
       " 'http://www.listal.com/viewimage/4171600',\n",
       " 'http://www.listal.com/viewimage/4171602',\n",
       " 'http://www.listal.com/viewimage/4173665',\n",
       " 'http://www.listal.com/viewimage/4160517',\n",
       " 'http://www.listal.com/viewimage/4160519',\n",
       " 'http://www.listal.com/viewimage/4160524',\n",
       " 'http://www.listal.com/viewimage/4160523',\n",
       " 'http://www.listal.com/viewimage/4160522',\n",
       " 'http://www.listal.com/viewimage/4160521',\n",
       " 'http://www.listal.com/viewimage/4160515',\n",
       " 'http://www.listal.com/viewimage/4160520',\n",
       " 'http://www.listal.com/viewimage/4160507',\n",
       " 'http://www.listal.com/viewimage/4160503',\n",
       " 'http://www.listal.com/viewimage/4215613',\n",
       " 'http://www.listal.com/viewimage/4215610',\n",
       " 'http://www.listal.com/viewimage/4215609',\n",
       " 'http://www.listal.com/viewimage/4215607',\n",
       " 'http://www.listal.com/viewimage/4215599',\n",
       " 'http://www.listal.com/viewimage/4215597',\n",
       " 'http://www.listal.com/viewimage/4215596',\n",
       " 'http://www.listal.com/viewimage/4215602',\n",
       " 'http://www.listal.com/viewimage/4215606',\n",
       " 'http://www.listal.com/viewimage/4224733',\n",
       " 'http://www.listal.com/viewimage/4253787',\n",
       " 'http://www.listal.com/viewimage/4253786',\n",
       " 'http://www.listal.com/viewimage/4253789',\n",
       " 'http://www.listal.com/viewimage/4253788',\n",
       " 'http://www.listal.com/viewimage/4260594',\n",
       " 'http://www.listal.com/viewimage/4260590',\n",
       " 'http://www.listal.com/viewimage/4260588',\n",
       " 'http://www.listal.com/viewimage/4260577',\n",
       " 'http://www.listal.com/viewimage/4260580',\n",
       " 'http://www.listal.com/viewimage/4260582',\n",
       " 'http://www.listal.com/viewimage/4260584',\n",
       " 'http://www.listal.com/viewimage/4260587',\n",
       " 'http://www.listal.com/viewimage/4262138',\n",
       " 'http://www.listal.com/viewimage/4275763',\n",
       " 'http://www.listal.com/viewimage/4260575',\n",
       " 'http://www.listal.com/viewimage/4260573',\n",
       " 'http://www.listal.com/viewimage/4260571',\n",
       " 'http://www.listal.com/viewimage/4260570',\n",
       " 'http://www.listal.com/viewimage/4260569',\n",
       " 'http://www.listal.com/viewimage/4286075',\n",
       " 'http://www.listal.com/viewimage/4286073',\n",
       " 'http://www.listal.com/viewimage/4283870',\n",
       " 'http://www.listal.com/viewimage/4283871',\n",
       " 'http://www.listal.com/viewimage/4283873',\n",
       " 'http://www.listal.com/viewimage/4283872',\n",
       " 'http://www.listal.com/viewimage/4286076',\n",
       " 'http://www.listal.com/viewimage/4289906',\n",
       " 'http://www.listal.com/viewimage/4289907',\n",
       " 'http://www.listal.com/viewimage/4275879',\n",
       " 'http://www.listal.com/viewimage/4275880',\n",
       " 'http://www.listal.com/viewimage/4275883',\n",
       " 'http://www.listal.com/viewimage/4277702',\n",
       " 'http://www.listal.com/viewimage/4304640',\n",
       " 'http://www.listal.com/viewimage/4289910',\n",
       " 'http://www.listal.com/viewimage/4289909',\n",
       " 'http://www.listal.com/viewimage/4310048',\n",
       " 'http://www.listal.com/viewimage/4310047',\n",
       " 'http://www.listal.com/viewimage/4310041',\n",
       " 'http://www.listal.com/viewimage/4310042',\n",
       " 'http://www.listal.com/viewimage/4310043',\n",
       " 'http://www.listal.com/viewimage/4310045',\n",
       " 'http://www.listal.com/viewimage/4310046',\n",
       " 'http://www.listal.com/viewimage/4310050',\n",
       " 'http://www.listal.com/viewimage/4310051',\n",
       " 'http://www.listal.com/viewimage/4310052',\n",
       " 'http://www.listal.com/viewimage/4304644',\n",
       " 'http://www.listal.com/viewimage/4307387',\n",
       " 'http://www.listal.com/viewimage/4310037',\n",
       " 'http://www.listal.com/viewimage/4310038',\n",
       " 'http://www.listal.com/viewimage/4310039',\n",
       " 'http://www.listal.com/viewimage/4304643',\n",
       " 'http://www.listal.com/viewimage/4310074',\n",
       " 'http://www.listal.com/viewimage/4310072',\n",
       " 'http://www.listal.com/viewimage/4310067',\n",
       " 'http://www.listal.com/viewimage/4310068',\n",
       " 'http://www.listal.com/viewimage/4310069',\n",
       " 'http://www.listal.com/viewimage/4310070',\n",
       " 'http://www.listal.com/viewimage/4310071',\n",
       " 'http://www.listal.com/viewimage/4321673',\n",
       " 'http://www.listal.com/viewimage/4321689',\n",
       " 'http://www.listal.com/viewimage/4321732',\n",
       " 'http://www.listal.com/viewimage/4310058',\n",
       " 'http://www.listal.com/viewimage/4310057',\n",
       " 'http://www.listal.com/viewimage/4310056',\n",
       " 'http://www.listal.com/viewimage/4310059',\n",
       " 'http://www.listal.com/viewimage/4310066',\n",
       " 'http://www.listal.com/viewimage/4310065',\n",
       " 'http://www.listal.com/viewimage/4310064',\n",
       " 'http://www.listal.com/viewimage/4310063',\n",
       " 'http://www.listal.com/viewimage/4310061',\n",
       " 'http://www.listal.com/viewimage/4323864',\n",
       " 'http://www.listal.com/viewimage/4323863',\n",
       " 'http://www.listal.com/viewimage/4323862',\n",
       " 'http://www.listal.com/viewimage/4323860',\n",
       " 'http://www.listal.com/viewimage/4323859',\n",
       " 'http://www.listal.com/viewimage/4323854',\n",
       " 'http://www.listal.com/viewimage/4323855',\n",
       " 'http://www.listal.com/viewimage/4323856',\n",
       " 'http://www.listal.com/viewimage/4323857',\n",
       " 'http://www.listal.com/viewimage/4323858',\n",
       " 'http://www.listal.com/viewimage/4323851',\n",
       " 'http://www.listal.com/viewimage/4323852',\n",
       " 'http://www.listal.com/viewimage/4323853',\n",
       " 'http://www.listal.com/viewimage/4323847',\n",
       " 'http://www.listal.com/viewimage/4323846',\n",
       " 'http://www.listal.com/viewimage/4322634',\n",
       " 'http://www.listal.com/viewimage/4322632',\n",
       " 'http://www.listal.com/viewimage/4321733',\n",
       " 'http://www.listal.com/viewimage/4323850',\n",
       " 'http://www.listal.com/viewimage/4323848',\n",
       " 'http://www.listal.com/viewimage/4328127',\n",
       " 'http://www.listal.com/viewimage/4323867',\n",
       " 'http://www.listal.com/viewimage/4323865',\n",
       " 'http://www.listal.com/viewimage/4328128',\n",
       " 'http://www.listal.com/viewimage/4335903',\n",
       " 'http://www.listal.com/viewimage/4335902',\n",
       " 'http://www.listal.com/viewimage/4328129',\n",
       " 'http://www.listal.com/viewimage/4348661',\n",
       " 'http://www.listal.com/viewimage/4343050',\n",
       " 'http://www.listal.com/viewimage/4348654',\n",
       " 'http://www.listal.com/viewimage/4348659',\n",
       " 'http://www.listal.com/viewimage/4348660',\n",
       " 'http://www.listal.com/viewimage/4348662',\n",
       " 'http://www.listal.com/viewimage/4348664',\n",
       " 'http://www.listal.com/viewimage/4363983',\n",
       " 'http://www.listal.com/viewimage/4363980',\n",
       " 'http://www.listal.com/viewimage/4363985',\n",
       " 'http://www.listal.com/viewimage/4381063',\n",
       " 'http://www.listal.com/viewimage/4381061',\n",
       " 'http://www.listal.com/viewimage/4371479',\n",
       " 'http://www.listal.com/viewimage/4409531',\n",
       " 'http://www.listal.com/viewimage/4393558',\n",
       " 'http://www.listal.com/viewimage/4381064',\n",
       " 'http://www.listal.com/viewimage/4409532',\n",
       " 'http://www.listal.com/viewimage/4409533',\n",
       " 'http://www.listal.com/viewimage/4452847',\n",
       " 'http://www.listal.com/viewimage/4441821',\n",
       " 'http://www.listal.com/viewimage/4441819',\n",
       " 'http://www.listal.com/viewimage/4460151',\n",
       " 'http://www.listal.com/viewimage/4455354',\n",
       " 'http://www.listal.com/viewimage/4455355',\n",
       " 'http://www.listal.com/viewimage/4455920',\n",
       " 'http://www.listal.com/viewimage/4456862',\n",
       " 'http://www.listal.com/viewimage/4456863',\n",
       " 'http://www.listal.com/viewimage/4456864',\n",
       " 'http://www.listal.com/viewimage/4456865',\n",
       " 'http://www.listal.com/viewimage/4460155',\n",
       " 'http://www.listal.com/viewimage/4460153',\n",
       " 'http://www.listal.com/viewimage/4460152',\n",
       " 'http://www.listal.com/viewimage/4460158',\n",
       " 'http://www.listal.com/viewimage/4488954',\n",
       " 'http://www.listal.com/viewimage/4488952',\n",
       " 'http://www.listal.com/viewimage/4488951',\n",
       " 'http://www.listal.com/viewimage/4483022',\n",
       " 'http://www.listal.com/viewimage/4483023',\n",
       " 'http://www.listal.com/viewimage/4483025',\n",
       " 'http://www.listal.com/viewimage/4488955',\n",
       " 'http://www.listal.com/viewimage/4488957',\n",
       " 'http://www.listal.com/viewimage/4483021',\n",
       " 'http://www.listal.com/viewimage/4483020',\n",
       " 'http://www.listal.com/viewimage/4483018',\n",
       " 'http://www.listal.com/viewimage/4483017',\n",
       " 'http://www.listal.com/viewimage/4483015',\n",
       " 'http://www.listal.com/viewimage/4488960',\n",
       " 'http://www.listal.com/viewimage/4488963',\n",
       " 'http://www.listal.com/viewimage/4494406',\n",
       " 'http://www.listal.com/viewimage/4583588',\n",
       " 'http://www.listal.com/viewimage/4573865',\n",
       " 'http://www.listal.com/viewimage/4630526',\n",
       " 'http://www.listal.com/viewimage/4625190',\n",
       " 'http://www.listal.com/viewimage/4625188',\n",
       " 'http://www.listal.com/viewimage/4659138',\n",
       " 'http://www.listal.com/viewimage/4659136',\n",
       " 'http://www.listal.com/viewimage/4659134',\n",
       " 'http://www.listal.com/viewimage/4659132',\n",
       " 'http://www.listal.com/viewimage/4659130',\n",
       " 'http://www.listal.com/viewimage/4659129',\n",
       " 'http://www.listal.com/viewimage/4659128',\n",
       " 'http://www.listal.com/viewimage/4659131',\n",
       " 'http://www.listal.com/viewimage/4718748',\n",
       " 'http://www.listal.com/viewimage/4718747',\n",
       " 'http://www.listal.com/viewimage/4716328',\n",
       " 'http://www.listal.com/viewimage/4718740',\n",
       " 'http://www.listal.com/viewimage/4718743',\n",
       " 'http://www.listal.com/viewimage/4718745',\n",
       " 'http://www.listal.com/viewimage/4710465',\n",
       " 'http://www.listal.com/viewimage/4718749',\n",
       " 'http://www.listal.com/viewimage/4718751',\n",
       " 'http://www.listal.com/viewimage/4718753',\n",
       " 'http://www.listal.com/viewimage/4709191',\n",
       " 'http://www.listal.com/viewimage/4709193',\n",
       " 'http://www.listal.com/viewimage/4738831',\n",
       " 'http://www.listal.com/viewimage/4738830',\n",
       " 'http://www.listal.com/viewimage/4738829',\n",
       " 'http://www.listal.com/viewimage/4738828',\n",
       " 'http://www.listal.com/viewimage/4738825',\n",
       " 'http://www.listal.com/viewimage/4738834',\n",
       " 'http://www.listal.com/viewimage/4742412',\n",
       " 'http://www.listal.com/viewimage/4742923',\n",
       " 'http://www.listal.com/viewimage/4723129',\n",
       " 'http://www.listal.com/viewimage/4723126',\n",
       " 'http://www.listal.com/viewimage/4718757',\n",
       " 'http://www.listal.com/viewimage/4718755',\n",
       " 'http://www.listal.com/viewimage/4718754',\n",
       " 'http://www.listal.com/viewimage/4723134',\n",
       " 'http://www.listal.com/viewimage/4723132',\n",
       " 'http://www.listal.com/viewimage/4753280',\n",
       " 'http://www.listal.com/viewimage/4744941',\n",
       " 'http://www.listal.com/viewimage/4742925',\n",
       " 'http://www.listal.com/viewimage/4752801',\n",
       " 'http://www.listal.com/viewimage/4753275',\n",
       " 'http://www.listal.com/viewimage/4770350',\n",
       " 'http://www.listal.com/viewimage/4798634',\n",
       " 'http://www.listal.com/viewimage/4798633',\n",
       " 'http://www.listal.com/viewimage/4798631',\n",
       " 'http://www.listal.com/viewimage/4798635',\n",
       " 'http://www.listal.com/viewimage/4826742',\n",
       " 'http://www.listal.com/viewimage/4826151',\n",
       " 'http://www.listal.com/viewimage/4826740',\n",
       " 'http://www.listal.com/viewimage/4798636',\n",
       " 'http://www.listal.com/viewimage/4798642',\n",
       " 'http://www.listal.com/viewimage/4806701',\n",
       " 'http://www.listal.com/viewimage/4832556',\n",
       " 'http://www.listal.com/viewimage/4832558',\n",
       " 'http://www.listal.com/viewimage/4837040',\n",
       " 'http://www.listal.com/viewimage/4826743',\n",
       " 'http://www.listal.com/viewimage/5776766',\n",
       " 'http://www.listal.com/viewimage/5310321',\n",
       " 'http://www.listal.com/viewimage/5240827',\n",
       " 'http://www.listal.com/viewimage/5240834',\n",
       " 'http://www.listal.com/viewimage/5239395',\n",
       " 'http://www.listal.com/viewimage/5240826',\n",
       " 'http://www.listal.com/viewimage/5239795',\n",
       " 'http://www.listal.com/viewimage/5239793',\n",
       " 'http://www.listal.com/viewimage/5239684',\n",
       " 'http://www.listal.com/viewimage/5239385',\n",
       " 'http://www.listal.com/viewimage/5239381',\n",
       " 'http://www.listal.com/viewimage/5236106',\n",
       " 'http://www.listal.com/viewimage/5231696',\n",
       " 'http://www.listal.com/viewimage/5231424',\n",
       " 'http://www.listal.com/viewimage/5231415',\n",
       " 'http://www.listal.com/viewimage/5231396',\n",
       " 'http://www.listal.com/viewimage/5231387',\n",
       " 'http://www.listal.com/viewimage/5228452',\n",
       " 'http://www.listal.com/viewimage/5228395',\n",
       " 'http://www.listal.com/viewimage/5228389',\n",
       " 'http://www.listal.com/viewimage/5228342',\n",
       " 'http://www.listal.com/viewimage/5228338',\n",
       " 'http://www.listal.com/viewimage/5228337',\n",
       " 'http://www.listal.com/viewimage/5228329',\n",
       " 'http://www.listal.com/viewimage/5228326',\n",
       " 'http://www.listal.com/viewimage/5228378',\n",
       " 'http://www.listal.com/viewimage/5215189',\n",
       " 'http://www.listal.com/viewimage/5212403',\n",
       " 'http://www.listal.com/viewimage/5212381',\n",
       " 'http://www.listal.com/viewimage/5358066']"
      ]
     },
     "execution_count": 42,
     "metadata": {},
     "output_type": "execute_result"
    }
   ],
   "source": [
    "image_link"
   ]
  },
  {
   "cell_type": "code",
   "execution_count": 43,
   "metadata": {},
   "outputs": [
    {
     "data": {
      "text/plain": [
       "469"
      ]
     },
     "execution_count": 43,
     "metadata": {},
     "output_type": "execute_result"
    }
   ],
   "source": [
    "len(image_link)"
   ]
  },
  {
   "cell_type": "code",
   "execution_count": 45,
   "metadata": {},
   "outputs": [
    {
     "ename": "NoSuchWindowException",
     "evalue": "Message: Unable to locate window\n",
     "output_type": "error",
     "traceback": [
      "\u001b[1;31m---------------------------------------------------------------------------\u001b[0m",
      "\u001b[1;31mNoSuchWindowException\u001b[0m                     Traceback (most recent call last)",
      "\u001b[1;32m<ipython-input-45-5e04d0ce701e>\u001b[0m in \u001b[0;36m<module>\u001b[1;34m()\u001b[0m\n\u001b[0;32m      2\u001b[0m \u001b[1;32mfor\u001b[0m \u001b[0mlink\u001b[0m \u001b[1;32min\u001b[0m \u001b[0mimage_link\u001b[0m\u001b[1;33m:\u001b[0m\u001b[1;33m\u001b[0m\u001b[0m\n\u001b[0;32m      3\u001b[0m     \u001b[0mre\u001b[0m \u001b[1;33m=\u001b[0m \u001b[0mdriver\u001b[0m\u001b[1;33m.\u001b[0m\u001b[0mget\u001b[0m\u001b[1;33m(\u001b[0m\u001b[0mlink\u001b[0m\u001b[1;33m)\u001b[0m\u001b[1;33m\u001b[0m\u001b[0m\n\u001b[1;32m----> 4\u001b[1;33m     \u001b[0melems\u001b[0m \u001b[1;33m=\u001b[0m \u001b[0mdriver\u001b[0m\u001b[1;33m.\u001b[0m\u001b[0mfind_element_by_xpath\u001b[0m\u001b[1;33m(\u001b[0m\u001b[1;33m(\u001b[0m\u001b[1;34m\"//img[@src]\"\u001b[0m\u001b[1;33m)\u001b[0m\u001b[1;33m)\u001b[0m\u001b[1;33m\u001b[0m\u001b[0m\n\u001b[0m\u001b[0;32m      5\u001b[0m     \u001b[0mimage\u001b[0m\u001b[1;33m.\u001b[0m\u001b[0mappend\u001b[0m\u001b[1;33m(\u001b[0m\u001b[0mstr\u001b[0m\u001b[1;33m(\u001b[0m\u001b[0melems\u001b[0m\u001b[1;33m)\u001b[0m\u001b[1;33m)\u001b[0m\u001b[1;33m\u001b[0m\u001b[0m\n",
      "\u001b[1;32mD:\\python\\Python27\\lib\\site-packages\\selenium\\webdriver\\remote\\webdriver.pyc\u001b[0m in \u001b[0;36mfind_element_by_xpath\u001b[1;34m(self, xpath)\u001b[0m\n\u001b[0;32m    363\u001b[0m             \u001b[0mdriver\u001b[0m\u001b[1;33m.\u001b[0m\u001b[0mfind_element_by_xpath\u001b[0m\u001b[1;33m(\u001b[0m\u001b[1;34m'//div/td[1]'\u001b[0m\u001b[1;33m)\u001b[0m\u001b[1;33m\u001b[0m\u001b[0m\n\u001b[0;32m    364\u001b[0m         \"\"\"\n\u001b[1;32m--> 365\u001b[1;33m         \u001b[1;32mreturn\u001b[0m \u001b[0mself\u001b[0m\u001b[1;33m.\u001b[0m\u001b[0mfind_element\u001b[0m\u001b[1;33m(\u001b[0m\u001b[0mby\u001b[0m\u001b[1;33m=\u001b[0m\u001b[0mBy\u001b[0m\u001b[1;33m.\u001b[0m\u001b[0mXPATH\u001b[0m\u001b[1;33m,\u001b[0m \u001b[0mvalue\u001b[0m\u001b[1;33m=\u001b[0m\u001b[0mxpath\u001b[0m\u001b[1;33m)\u001b[0m\u001b[1;33m\u001b[0m\u001b[0m\n\u001b[0m\u001b[0;32m    366\u001b[0m \u001b[1;33m\u001b[0m\u001b[0m\n\u001b[0;32m    367\u001b[0m     \u001b[1;32mdef\u001b[0m \u001b[0mfind_elements_by_xpath\u001b[0m\u001b[1;33m(\u001b[0m\u001b[0mself\u001b[0m\u001b[1;33m,\u001b[0m \u001b[0mxpath\u001b[0m\u001b[1;33m)\u001b[0m\u001b[1;33m:\u001b[0m\u001b[1;33m\u001b[0m\u001b[0m\n",
      "\u001b[1;32mD:\\python\\Python27\\lib\\site-packages\\selenium\\webdriver\\remote\\webdriver.pyc\u001b[0m in \u001b[0;36mfind_element\u001b[1;34m(self, by, value)\u001b[0m\n\u001b[0;32m    841\u001b[0m         return self.execute(Command.FIND_ELEMENT, {\n\u001b[0;32m    842\u001b[0m             \u001b[1;34m'using'\u001b[0m\u001b[1;33m:\u001b[0m \u001b[0mby\u001b[0m\u001b[1;33m,\u001b[0m\u001b[1;33m\u001b[0m\u001b[0m\n\u001b[1;32m--> 843\u001b[1;33m             'value': value})['value']\n\u001b[0m\u001b[0;32m    844\u001b[0m \u001b[1;33m\u001b[0m\u001b[0m\n\u001b[0;32m    845\u001b[0m     \u001b[1;32mdef\u001b[0m \u001b[0mfind_elements\u001b[0m\u001b[1;33m(\u001b[0m\u001b[0mself\u001b[0m\u001b[1;33m,\u001b[0m \u001b[0mby\u001b[0m\u001b[1;33m=\u001b[0m\u001b[0mBy\u001b[0m\u001b[1;33m.\u001b[0m\u001b[0mID\u001b[0m\u001b[1;33m,\u001b[0m \u001b[0mvalue\u001b[0m\u001b[1;33m=\u001b[0m\u001b[0mNone\u001b[0m\u001b[1;33m)\u001b[0m\u001b[1;33m:\u001b[0m\u001b[1;33m\u001b[0m\u001b[0m\n",
      "\u001b[1;32mD:\\python\\Python27\\lib\\site-packages\\selenium\\webdriver\\remote\\webdriver.pyc\u001b[0m in \u001b[0;36mexecute\u001b[1;34m(self, driver_command, params)\u001b[0m\n\u001b[0;32m    306\u001b[0m         \u001b[0mresponse\u001b[0m \u001b[1;33m=\u001b[0m \u001b[0mself\u001b[0m\u001b[1;33m.\u001b[0m\u001b[0mcommand_executor\u001b[0m\u001b[1;33m.\u001b[0m\u001b[0mexecute\u001b[0m\u001b[1;33m(\u001b[0m\u001b[0mdriver_command\u001b[0m\u001b[1;33m,\u001b[0m \u001b[0mparams\u001b[0m\u001b[1;33m)\u001b[0m\u001b[1;33m\u001b[0m\u001b[0m\n\u001b[0;32m    307\u001b[0m         \u001b[1;32mif\u001b[0m \u001b[0mresponse\u001b[0m\u001b[1;33m:\u001b[0m\u001b[1;33m\u001b[0m\u001b[0m\n\u001b[1;32m--> 308\u001b[1;33m             \u001b[0mself\u001b[0m\u001b[1;33m.\u001b[0m\u001b[0merror_handler\u001b[0m\u001b[1;33m.\u001b[0m\u001b[0mcheck_response\u001b[0m\u001b[1;33m(\u001b[0m\u001b[0mresponse\u001b[0m\u001b[1;33m)\u001b[0m\u001b[1;33m\u001b[0m\u001b[0m\n\u001b[0m\u001b[0;32m    309\u001b[0m             response['value'] = self._unwrap_value(\n\u001b[0;32m    310\u001b[0m                 response.get('value', None))\n",
      "\u001b[1;32mD:\\python\\Python27\\lib\\site-packages\\selenium\\webdriver\\remote\\errorhandler.pyc\u001b[0m in \u001b[0;36mcheck_response\u001b[1;34m(self, response)\u001b[0m\n\u001b[0;32m    192\u001b[0m         \u001b[1;32melif\u001b[0m \u001b[0mexception_class\u001b[0m \u001b[1;33m==\u001b[0m \u001b[0mUnexpectedAlertPresentException\u001b[0m \u001b[1;32mand\u001b[0m \u001b[1;34m'alert'\u001b[0m \u001b[1;32min\u001b[0m \u001b[0mvalue\u001b[0m\u001b[1;33m:\u001b[0m\u001b[1;33m\u001b[0m\u001b[0m\n\u001b[0;32m    193\u001b[0m             \u001b[1;32mraise\u001b[0m \u001b[0mexception_class\u001b[0m\u001b[1;33m(\u001b[0m\u001b[0mmessage\u001b[0m\u001b[1;33m,\u001b[0m \u001b[0mscreen\u001b[0m\u001b[1;33m,\u001b[0m \u001b[0mstacktrace\u001b[0m\u001b[1;33m,\u001b[0m \u001b[0mvalue\u001b[0m\u001b[1;33m[\u001b[0m\u001b[1;34m'alert'\u001b[0m\u001b[1;33m]\u001b[0m\u001b[1;33m.\u001b[0m\u001b[0mget\u001b[0m\u001b[1;33m(\u001b[0m\u001b[1;34m'text'\u001b[0m\u001b[1;33m)\u001b[0m\u001b[1;33m)\u001b[0m\u001b[1;33m\u001b[0m\u001b[0m\n\u001b[1;32m--> 194\u001b[1;33m         \u001b[1;32mraise\u001b[0m \u001b[0mexception_class\u001b[0m\u001b[1;33m(\u001b[0m\u001b[0mmessage\u001b[0m\u001b[1;33m,\u001b[0m \u001b[0mscreen\u001b[0m\u001b[1;33m,\u001b[0m \u001b[0mstacktrace\u001b[0m\u001b[1;33m)\u001b[0m\u001b[1;33m\u001b[0m\u001b[0m\n\u001b[0m\u001b[0;32m    195\u001b[0m \u001b[1;33m\u001b[0m\u001b[0m\n\u001b[0;32m    196\u001b[0m     \u001b[1;32mdef\u001b[0m \u001b[0m_value_or_default\u001b[0m\u001b[1;33m(\u001b[0m\u001b[0mself\u001b[0m\u001b[1;33m,\u001b[0m \u001b[0mobj\u001b[0m\u001b[1;33m,\u001b[0m \u001b[0mkey\u001b[0m\u001b[1;33m,\u001b[0m \u001b[0mdefault\u001b[0m\u001b[1;33m)\u001b[0m\u001b[1;33m:\u001b[0m\u001b[1;33m\u001b[0m\u001b[0m\n",
      "\u001b[1;31mNoSuchWindowException\u001b[0m: Message: Unable to locate window\n"
     ]
    }
   ],
   "source": [
    "image = []\n",
    "for link in image_link:\n",
    "    re = driver.get(link)\n",
    "    elems = driver.find_element_by_xpath((\"//img[@src]\"))\n",
    "    image.append(str(elems.get_attribute(\"src\")))"
   ]
  },
  {
   "cell_type": "code",
   "execution_count": 46,
   "metadata": {},
   "outputs": [
    {
     "data": {
      "text/plain": [
       "['<selenium.webdriver.firefox.webelement.FirefoxWebElement (session=\"ea17c079-4aed-4466-8e9e-eb6ac5e0e8e2\", element=\"706557c3-3319-49a4-b9a0-7d5accdc04a4\")>',\n",
       " '<selenium.webdriver.firefox.webelement.FirefoxWebElement (session=\"ea17c079-4aed-4466-8e9e-eb6ac5e0e8e2\", element=\"f2ed232e-826c-4e42-9df4-823203c574c6\")>',\n",
       " '<selenium.webdriver.firefox.webelement.FirefoxWebElement (session=\"ea17c079-4aed-4466-8e9e-eb6ac5e0e8e2\", element=\"5cb0d414-ff4e-4740-b30b-fd13f9116495\")>',\n",
       " '<selenium.webdriver.firefox.webelement.FirefoxWebElement (session=\"ea17c079-4aed-4466-8e9e-eb6ac5e0e8e2\", element=\"521b070b-b6b4-407b-9b53-c8bf6ff252ce\")>',\n",
       " '<selenium.webdriver.firefox.webelement.FirefoxWebElement (session=\"ea17c079-4aed-4466-8e9e-eb6ac5e0e8e2\", element=\"936780e2-40b6-4297-a165-0140da026e52\")>',\n",
       " '<selenium.webdriver.firefox.webelement.FirefoxWebElement (session=\"ea17c079-4aed-4466-8e9e-eb6ac5e0e8e2\", element=\"25dc11db-b975-4d23-9757-dc981479f458\")>',\n",
       " '<selenium.webdriver.firefox.webelement.FirefoxWebElement (session=\"ea17c079-4aed-4466-8e9e-eb6ac5e0e8e2\", element=\"f2e78e4c-7b1e-459c-b7a4-f8da3dab96c2\")>',\n",
       " '<selenium.webdriver.firefox.webelement.FirefoxWebElement (session=\"ea17c079-4aed-4466-8e9e-eb6ac5e0e8e2\", element=\"39780648-1c08-48db-aff8-6ee527f2ac57\")>',\n",
       " '<selenium.webdriver.firefox.webelement.FirefoxWebElement (session=\"ea17c079-4aed-4466-8e9e-eb6ac5e0e8e2\", element=\"9ea9abcb-7ee6-4592-9b94-63382f6d7524\")>',\n",
       " '<selenium.webdriver.firefox.webelement.FirefoxWebElement (session=\"ea17c079-4aed-4466-8e9e-eb6ac5e0e8e2\", element=\"926d678f-a819-42d2-b37e-e5d2a89e010e\")>',\n",
       " '<selenium.webdriver.firefox.webelement.FirefoxWebElement (session=\"ea17c079-4aed-4466-8e9e-eb6ac5e0e8e2\", element=\"94545f2d-31b8-4f86-8325-7e64420a938d\")>',\n",
       " '<selenium.webdriver.firefox.webelement.FirefoxWebElement (session=\"ea17c079-4aed-4466-8e9e-eb6ac5e0e8e2\", element=\"2b672ade-2b9b-42b7-840b-0d1185bca725\")>',\n",
       " '<selenium.webdriver.firefox.webelement.FirefoxWebElement (session=\"ea17c079-4aed-4466-8e9e-eb6ac5e0e8e2\", element=\"9faa3022-fa3f-49b3-a64c-ec4da2791e7a\")>',\n",
       " '<selenium.webdriver.firefox.webelement.FirefoxWebElement (session=\"ea17c079-4aed-4466-8e9e-eb6ac5e0e8e2\", element=\"cde83675-cefa-4abc-abe0-c9f32cc54fbc\")>',\n",
       " '<selenium.webdriver.firefox.webelement.FirefoxWebElement (session=\"ea17c079-4aed-4466-8e9e-eb6ac5e0e8e2\", element=\"11bd312c-536f-4523-aaaa-67e08649d1cc\")>',\n",
       " '<selenium.webdriver.firefox.webelement.FirefoxWebElement (session=\"ea17c079-4aed-4466-8e9e-eb6ac5e0e8e2\", element=\"714c0c55-13bf-40b0-8aa2-cd9b650e0016\")>',\n",
       " '<selenium.webdriver.firefox.webelement.FirefoxWebElement (session=\"ea17c079-4aed-4466-8e9e-eb6ac5e0e8e2\", element=\"9d1fcbc8-eb56-4edb-bbb5-d886e8da05fd\")>',\n",
       " '<selenium.webdriver.firefox.webelement.FirefoxWebElement (session=\"ea17c079-4aed-4466-8e9e-eb6ac5e0e8e2\", element=\"f9df6150-47c3-4d1a-a558-be34848e8332\")>',\n",
       " '<selenium.webdriver.firefox.webelement.FirefoxWebElement (session=\"ea17c079-4aed-4466-8e9e-eb6ac5e0e8e2\", element=\"208ceed1-8149-4a53-a02f-e24fc450d802\")>',\n",
       " '<selenium.webdriver.firefox.webelement.FirefoxWebElement (session=\"ea17c079-4aed-4466-8e9e-eb6ac5e0e8e2\", element=\"5cb4197d-b181-4e2f-b6a2-3147c7721335\")>',\n",
       " '<selenium.webdriver.firefox.webelement.FirefoxWebElement (session=\"ea17c079-4aed-4466-8e9e-eb6ac5e0e8e2\", element=\"8a80e6d0-c2e7-4085-8c9b-ee47179d61b2\")>',\n",
       " '<selenium.webdriver.firefox.webelement.FirefoxWebElement (session=\"ea17c079-4aed-4466-8e9e-eb6ac5e0e8e2\", element=\"3cf954d3-541d-451d-930d-1aacff97a3f0\")>',\n",
       " '<selenium.webdriver.firefox.webelement.FirefoxWebElement (session=\"ea17c079-4aed-4466-8e9e-eb6ac5e0e8e2\", element=\"0ce4f453-ce42-41dc-a5f8-0fd916e70315\")>',\n",
       " '<selenium.webdriver.firefox.webelement.FirefoxWebElement (session=\"ea17c079-4aed-4466-8e9e-eb6ac5e0e8e2\", element=\"2ca0524c-d8e7-4527-988c-e8cd62ac4cd0\")>',\n",
       " '<selenium.webdriver.firefox.webelement.FirefoxWebElement (session=\"ea17c079-4aed-4466-8e9e-eb6ac5e0e8e2\", element=\"0bef174a-d9a2-43d3-8c77-0ce340007749\")>',\n",
       " '<selenium.webdriver.firefox.webelement.FirefoxWebElement (session=\"ea17c079-4aed-4466-8e9e-eb6ac5e0e8e2\", element=\"3cce99b5-a484-454f-a245-534d062e48ab\")>',\n",
       " '<selenium.webdriver.firefox.webelement.FirefoxWebElement (session=\"ea17c079-4aed-4466-8e9e-eb6ac5e0e8e2\", element=\"d2959aac-38a6-4f71-a0d4-ac2ecfe5f4e9\")>',\n",
       " '<selenium.webdriver.firefox.webelement.FirefoxWebElement (session=\"ea17c079-4aed-4466-8e9e-eb6ac5e0e8e2\", element=\"4042a0ac-ce1d-4580-8c93-59d907b00664\")>',\n",
       " '<selenium.webdriver.firefox.webelement.FirefoxWebElement (session=\"ea17c079-4aed-4466-8e9e-eb6ac5e0e8e2\", element=\"b7af61b6-543f-4255-bae8-94b03f98c0f7\")>',\n",
       " '<selenium.webdriver.firefox.webelement.FirefoxWebElement (session=\"ea17c079-4aed-4466-8e9e-eb6ac5e0e8e2\", element=\"1d3ee343-312d-45a5-abc8-56467661cdd3\")>',\n",
       " '<selenium.webdriver.firefox.webelement.FirefoxWebElement (session=\"ea17c079-4aed-4466-8e9e-eb6ac5e0e8e2\", element=\"d7aa69be-3d9d-46cb-97b2-dfdfc591dc0b\")>']"
      ]
     },
     "execution_count": 46,
     "metadata": {},
     "output_type": "execute_result"
    }
   ],
   "source": [
    "image"
   ]
  },
  {
   "cell_type": "code",
   "execution_count": null,
   "metadata": {},
   "outputs": [],
   "source": []
  }
 ],
 "metadata": {
  "kernelspec": {
   "display_name": "Python 2",
   "language": "python",
   "name": "python2"
  },
  "language_info": {
   "codemirror_mode": {
    "name": "ipython",
    "version": 2
   },
   "file_extension": ".py",
   "mimetype": "text/x-python",
   "name": "python",
   "nbconvert_exporter": "python",
   "pygments_lexer": "ipython2",
   "version": "2.7.14"
  }
 },
 "nbformat": 4,
 "nbformat_minor": 2
}
