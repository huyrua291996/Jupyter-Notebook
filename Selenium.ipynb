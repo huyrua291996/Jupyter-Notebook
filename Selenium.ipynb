{
 "cells": [
  {
   "cell_type": "code",
   "execution_count": 1,
   "metadata": {},
   "outputs": [
    {
     "name": "stdout",
     "output_type": "stream",
     "text": [
      "Collecting selenium\n",
      "  Downloading selenium-3.6.0-py2.py3-none-any.whl (924kB)\n",
      "Installing collected packages: selenium\n",
      "Successfully installed selenium-3.6.0\n"
     ]
    }
   ],
   "source": [
    "!py -m pip install selenium"
   ]
  },
  {
   "cell_type": "code",
   "execution_count": 1,
   "metadata": {
    "collapsed": true
   },
   "outputs": [],
   "source": [
    "from selenium import webdriver"
   ]
  },
  {
   "cell_type": "code",
   "execution_count": 5,
   "metadata": {},
   "outputs": [],
   "source": [
    "driver = webdriver.Chrome(\"C:\\\\Users\\\\huyru\\\\Downloads\\\\Compressed\\\\chromedriver_win32\\\\chromedriver\")"
   ]
  },
  {
   "cell_type": "code",
   "execution_count": 49,
   "metadata": {
    "collapsed": true
   },
   "outputs": [],
   "source": [
    "driver.get(\"https://hextracoin.co/\")"
   ]
  },
  {
   "cell_type": "code",
   "execution_count": 50,
   "metadata": {},
   "outputs": [
    {
     "data": {
      "text/plain": [
       "u'Hextracoin'"
      ]
     },
     "execution_count": 50,
     "metadata": {},
     "output_type": "execute_result"
    }
   ],
   "source": [
    "driver.title"
   ]
  },
  {
   "cell_type": "code",
   "execution_count": 52,
   "metadata": {
    "collapsed": true
   },
   "outputs": [],
   "source": [
    "re = driver.find_element_by_name(\"username\")"
   ]
  },
  {
   "cell_type": "code",
   "execution_count": 53,
   "metadata": {
    "collapsed": true
   },
   "outputs": [],
   "source": [
    "re.send_keys(\"HUY\")"
   ]
  },
  {
   "cell_type": "code",
   "execution_count": 24,
   "metadata": {
    "collapsed": true
   },
   "outputs": [],
   "source": [
    "re.clear()"
   ]
  },
  {
   "cell_type": "code",
   "execution_count": 54,
   "metadata": {
    "collapsed": true
   },
   "outputs": [],
   "source": [
    "re = driver.find_element_by_name(\"password\")"
   ]
  },
  {
   "cell_type": "code",
   "execution_count": 55,
   "metadata": {
    "collapsed": true
   },
   "outputs": [],
   "source": [
    "re.send_keys(\"nguyenngochuy\")"
   ]
  },
  {
   "cell_type": "code",
   "execution_count": 28,
   "metadata": {
    "collapsed": true
   },
   "outputs": [],
   "source": [
    "re = driver.find_element_by_id(\"password\")"
   ]
  },
  {
   "cell_type": "code",
   "execution_count": 29,
   "metadata": {
    "collapsed": true
   },
   "outputs": [],
   "source": [
    "re.send_keys(\"nguyenngochuy\")"
   ]
  },
  {
   "cell_type": "code",
   "execution_count": 59,
   "metadata": {
    "collapsed": true
   },
   "outputs": [],
   "source": [
    "driver.find_element_by_class_name(\"login-buttons\").click()"
   ]
  },
  {
   "cell_type": "code",
   "execution_count": 44,
   "metadata": {
    "collapsed": true
   },
   "outputs": [],
   "source": [
    "re = driver.find_element_by_id(\"openid-buttons\")\n"
   ]
  },
  {
   "cell_type": "code",
   "execution_count": 60,
   "metadata": {
    "collapsed": true
   },
   "outputs": [],
   "source": [
    "driver.get(\"https://stackoverflow.com/users/login\")"
   ]
  },
  {
   "cell_type": "code",
   "execution_count": 61,
   "metadata": {
    "collapsed": true
   },
   "outputs": [],
   "source": [
    "driver.find_element_by_xpath(\"//span[.='Google']\").click()\n"
   ]
  },
  {
   "cell_type": "code",
   "execution_count": 14,
   "metadata": {
    "collapsed": true
   },
   "outputs": [],
   "source": [
    "driver.get(\"http://www.listal.com/list/josephine-skriver-vs-lingerie-iii\")"
   ]
  },
  {
   "cell_type": "code",
   "execution_count": 7,
   "metadata": {
    "collapsed": true
   },
   "outputs": [],
   "source": [
    "from selenium.webdriver import ActionChains"
   ]
  },
  {
   "cell_type": "code",
   "execution_count": 8,
   "metadata": {
    "collapsed": true
   },
   "outputs": [],
   "source": [
    "action_chains = ActionChains(driver)"
   ]
  },
  {
   "cell_type": "code",
   "execution_count": 9,
   "metadata": {
    "collapsed": true
   },
   "outputs": [],
   "source": [
    "from selenium.webdriver.support.ui import Select"
   ]
  },
  {
   "cell_type": "code",
   "execution_count": 15,
   "metadata": {
    "collapsed": true
   },
   "outputs": [],
   "source": [
    "driver.execute_script(\"window.scrollTo(0, (document.body.scrollHeight - 2000));\")"
   ]
  },
  {
   "cell_type": "code",
   "execution_count": 38,
   "metadata": {},
   "outputs": [
    {
     "ename": "NoSuchElementException",
     "evalue": "Message: Unable to locate element: .loadmoreitems\n",
     "output_type": "error",
     "traceback": [
      "\u001b[1;31m---------------------------------------------------------------------------\u001b[0m",
      "\u001b[1;31mNoSuchElementException\u001b[0m                    Traceback (most recent call last)",
      "\u001b[1;32m<ipython-input-38-09586914e8c4>\u001b[0m in \u001b[0;36m<module>\u001b[1;34m()\u001b[0m\n\u001b[1;32m----> 1\u001b[1;33m \u001b[0mre\u001b[0m \u001b[1;33m=\u001b[0m \u001b[0mdriver\u001b[0m\u001b[1;33m.\u001b[0m\u001b[0mfind_element_by_class_name\u001b[0m\u001b[1;33m(\u001b[0m\u001b[1;34m\"loadmoreitems\"\u001b[0m\u001b[1;33m)\u001b[0m\u001b[1;33m\u001b[0m\u001b[0m\n\u001b[0m",
      "\u001b[1;32mD:\\python\\Python27\\lib\\site-packages\\selenium\\webdriver\\remote\\webdriver.pyc\u001b[0m in \u001b[0;36mfind_element_by_class_name\u001b[1;34m(self, name)\u001b[0m\n\u001b[0;32m    483\u001b[0m             \u001b[0mdriver\u001b[0m\u001b[1;33m.\u001b[0m\u001b[0mfind_element_by_class_name\u001b[0m\u001b[1;33m(\u001b[0m\u001b[1;34m'foo'\u001b[0m\u001b[1;33m)\u001b[0m\u001b[1;33m\u001b[0m\u001b[0m\n\u001b[0;32m    484\u001b[0m         \"\"\"\n\u001b[1;32m--> 485\u001b[1;33m         \u001b[1;32mreturn\u001b[0m \u001b[0mself\u001b[0m\u001b[1;33m.\u001b[0m\u001b[0mfind_element\u001b[0m\u001b[1;33m(\u001b[0m\u001b[0mby\u001b[0m\u001b[1;33m=\u001b[0m\u001b[0mBy\u001b[0m\u001b[1;33m.\u001b[0m\u001b[0mCLASS_NAME\u001b[0m\u001b[1;33m,\u001b[0m \u001b[0mvalue\u001b[0m\u001b[1;33m=\u001b[0m\u001b[0mname\u001b[0m\u001b[1;33m)\u001b[0m\u001b[1;33m\u001b[0m\u001b[0m\n\u001b[0m\u001b[0;32m    486\u001b[0m \u001b[1;33m\u001b[0m\u001b[0m\n\u001b[0;32m    487\u001b[0m     \u001b[1;32mdef\u001b[0m \u001b[0mfind_elements_by_class_name\u001b[0m\u001b[1;33m(\u001b[0m\u001b[0mself\u001b[0m\u001b[1;33m,\u001b[0m \u001b[0mname\u001b[0m\u001b[1;33m)\u001b[0m\u001b[1;33m:\u001b[0m\u001b[1;33m\u001b[0m\u001b[0m\n",
      "\u001b[1;32mD:\\python\\Python27\\lib\\site-packages\\selenium\\webdriver\\remote\\webdriver.pyc\u001b[0m in \u001b[0;36mfind_element\u001b[1;34m(self, by, value)\u001b[0m\n\u001b[0;32m    841\u001b[0m         return self.execute(Command.FIND_ELEMENT, {\n\u001b[0;32m    842\u001b[0m             \u001b[1;34m'using'\u001b[0m\u001b[1;33m:\u001b[0m \u001b[0mby\u001b[0m\u001b[1;33m,\u001b[0m\u001b[1;33m\u001b[0m\u001b[0m\n\u001b[1;32m--> 843\u001b[1;33m             'value': value})['value']\n\u001b[0m\u001b[0;32m    844\u001b[0m \u001b[1;33m\u001b[0m\u001b[0m\n\u001b[0;32m    845\u001b[0m     \u001b[1;32mdef\u001b[0m \u001b[0mfind_elements\u001b[0m\u001b[1;33m(\u001b[0m\u001b[0mself\u001b[0m\u001b[1;33m,\u001b[0m \u001b[0mby\u001b[0m\u001b[1;33m=\u001b[0m\u001b[0mBy\u001b[0m\u001b[1;33m.\u001b[0m\u001b[0mID\u001b[0m\u001b[1;33m,\u001b[0m \u001b[0mvalue\u001b[0m\u001b[1;33m=\u001b[0m\u001b[0mNone\u001b[0m\u001b[1;33m)\u001b[0m\u001b[1;33m:\u001b[0m\u001b[1;33m\u001b[0m\u001b[0m\n",
      "\u001b[1;32mD:\\python\\Python27\\lib\\site-packages\\selenium\\webdriver\\remote\\webdriver.pyc\u001b[0m in \u001b[0;36mexecute\u001b[1;34m(self, driver_command, params)\u001b[0m\n\u001b[0;32m    306\u001b[0m         \u001b[0mresponse\u001b[0m \u001b[1;33m=\u001b[0m \u001b[0mself\u001b[0m\u001b[1;33m.\u001b[0m\u001b[0mcommand_executor\u001b[0m\u001b[1;33m.\u001b[0m\u001b[0mexecute\u001b[0m\u001b[1;33m(\u001b[0m\u001b[0mdriver_command\u001b[0m\u001b[1;33m,\u001b[0m \u001b[0mparams\u001b[0m\u001b[1;33m)\u001b[0m\u001b[1;33m\u001b[0m\u001b[0m\n\u001b[0;32m    307\u001b[0m         \u001b[1;32mif\u001b[0m \u001b[0mresponse\u001b[0m\u001b[1;33m:\u001b[0m\u001b[1;33m\u001b[0m\u001b[0m\n\u001b[1;32m--> 308\u001b[1;33m             \u001b[0mself\u001b[0m\u001b[1;33m.\u001b[0m\u001b[0merror_handler\u001b[0m\u001b[1;33m.\u001b[0m\u001b[0mcheck_response\u001b[0m\u001b[1;33m(\u001b[0m\u001b[0mresponse\u001b[0m\u001b[1;33m)\u001b[0m\u001b[1;33m\u001b[0m\u001b[0m\n\u001b[0m\u001b[0;32m    309\u001b[0m             response['value'] = self._unwrap_value(\n\u001b[0;32m    310\u001b[0m                 response.get('value', None))\n",
      "\u001b[1;32mD:\\python\\Python27\\lib\\site-packages\\selenium\\webdriver\\remote\\errorhandler.pyc\u001b[0m in \u001b[0;36mcheck_response\u001b[1;34m(self, response)\u001b[0m\n\u001b[0;32m    192\u001b[0m         \u001b[1;32melif\u001b[0m \u001b[0mexception_class\u001b[0m \u001b[1;33m==\u001b[0m \u001b[0mUnexpectedAlertPresentException\u001b[0m \u001b[1;32mand\u001b[0m \u001b[1;34m'alert'\u001b[0m \u001b[1;32min\u001b[0m \u001b[0mvalue\u001b[0m\u001b[1;33m:\u001b[0m\u001b[1;33m\u001b[0m\u001b[0m\n\u001b[0;32m    193\u001b[0m             \u001b[1;32mraise\u001b[0m \u001b[0mexception_class\u001b[0m\u001b[1;33m(\u001b[0m\u001b[0mmessage\u001b[0m\u001b[1;33m,\u001b[0m \u001b[0mscreen\u001b[0m\u001b[1;33m,\u001b[0m \u001b[0mstacktrace\u001b[0m\u001b[1;33m,\u001b[0m \u001b[0mvalue\u001b[0m\u001b[1;33m[\u001b[0m\u001b[1;34m'alert'\u001b[0m\u001b[1;33m]\u001b[0m\u001b[1;33m.\u001b[0m\u001b[0mget\u001b[0m\u001b[1;33m(\u001b[0m\u001b[1;34m'text'\u001b[0m\u001b[1;33m)\u001b[0m\u001b[1;33m)\u001b[0m\u001b[1;33m\u001b[0m\u001b[0m\n\u001b[1;32m--> 194\u001b[1;33m         \u001b[1;32mraise\u001b[0m \u001b[0mexception_class\u001b[0m\u001b[1;33m(\u001b[0m\u001b[0mmessage\u001b[0m\u001b[1;33m,\u001b[0m \u001b[0mscreen\u001b[0m\u001b[1;33m,\u001b[0m \u001b[0mstacktrace\u001b[0m\u001b[1;33m)\u001b[0m\u001b[1;33m\u001b[0m\u001b[0m\n\u001b[0m\u001b[0;32m    195\u001b[0m \u001b[1;33m\u001b[0m\u001b[0m\n\u001b[0;32m    196\u001b[0m     \u001b[1;32mdef\u001b[0m \u001b[0m_value_or_default\u001b[0m\u001b[1;33m(\u001b[0m\u001b[0mself\u001b[0m\u001b[1;33m,\u001b[0m \u001b[0mobj\u001b[0m\u001b[1;33m,\u001b[0m \u001b[0mkey\u001b[0m\u001b[1;33m,\u001b[0m \u001b[0mdefault\u001b[0m\u001b[1;33m)\u001b[0m\u001b[1;33m:\u001b[0m\u001b[1;33m\u001b[0m\u001b[0m\n",
      "\u001b[1;31mNoSuchElementException\u001b[0m: Message: Unable to locate element: .loadmoreitems\n"
     ]
    }
   ],
   "source": [
    "re = driver.find_element_by_class_name(\"loadmoreitems\")"
   ]
  },
  {
   "cell_type": "code",
   "execution_count": 36,
   "metadata": {
    "collapsed": true
   },
   "outputs": [],
   "source": [
    "re.click()"
   ]
  },
  {
   "cell_type": "code",
   "execution_count": 3,
   "metadata": {
    "collapsed": true
   },
   "outputs": [],
   "source": [
    "driver.get(\"http://www.listal.com/list/candice-pics\")"
   ]
  },
  {
   "cell_type": "code",
   "execution_count": 11,
   "metadata": {},
   "outputs": [
    {
     "ename": "WebDriverException",
     "evalue": "Message: unknown error: call function result missing 'value'\n  (Session info: chrome=67.0.3396.99)\n  (Driver info: chromedriver=2.27.440174 (e97a722caafc2d3a8b807ee115bfb307f7d2cfd9),platform=Windows NT 10.0.17134 x86_64)\n",
     "output_type": "error",
     "traceback": [
      "\u001b[1;31m---------------------------------------------------------------------------\u001b[0m",
      "\u001b[1;31mWebDriverException\u001b[0m                        Traceback (most recent call last)",
      "\u001b[1;32m<ipython-input-11-790de6db0452>\u001b[0m in \u001b[0;36m<module>\u001b[1;34m()\u001b[0m\n\u001b[1;32m----> 1\u001b[1;33m \u001b[0mdriver\u001b[0m\u001b[1;33m.\u001b[0m\u001b[0mexecute_script\u001b[0m\u001b[1;33m(\u001b[0m\u001b[1;34m\"window.scrollTo(0, (document.body.scrollHeight -2500));\"\u001b[0m\u001b[1;33m)\u001b[0m\u001b[1;33m\u001b[0m\u001b[0m\n\u001b[0m",
      "\u001b[1;32mC:\\Python35\\lib\\site-packages\\selenium\\webdriver\\remote\\webdriver.py\u001b[0m in \u001b[0;36mexecute_script\u001b[1;34m(self, script, *args)\u001b[0m\n\u001b[0;32m    485\u001b[0m         return self.execute(command, {\n\u001b[0;32m    486\u001b[0m             \u001b[1;34m'script'\u001b[0m\u001b[1;33m:\u001b[0m \u001b[0mscript\u001b[0m\u001b[1;33m,\u001b[0m\u001b[1;33m\u001b[0m\u001b[0m\n\u001b[1;32m--> 487\u001b[1;33m             'args': converted_args})['value']\n\u001b[0m\u001b[0;32m    488\u001b[0m \u001b[1;33m\u001b[0m\u001b[0m\n\u001b[0;32m    489\u001b[0m     \u001b[1;32mdef\u001b[0m \u001b[0mexecute_async_script\u001b[0m\u001b[1;33m(\u001b[0m\u001b[0mself\u001b[0m\u001b[1;33m,\u001b[0m \u001b[0mscript\u001b[0m\u001b[1;33m,\u001b[0m \u001b[1;33m*\u001b[0m\u001b[0margs\u001b[0m\u001b[1;33m)\u001b[0m\u001b[1;33m:\u001b[0m\u001b[1;33m\u001b[0m\u001b[0m\n",
      "\u001b[1;32mC:\\Python35\\lib\\site-packages\\selenium\\webdriver\\remote\\webdriver.py\u001b[0m in \u001b[0;36mexecute\u001b[1;34m(self, driver_command, params)\u001b[0m\n\u001b[0;32m    250\u001b[0m         \u001b[0mresponse\u001b[0m \u001b[1;33m=\u001b[0m \u001b[0mself\u001b[0m\u001b[1;33m.\u001b[0m\u001b[0mcommand_executor\u001b[0m\u001b[1;33m.\u001b[0m\u001b[0mexecute\u001b[0m\u001b[1;33m(\u001b[0m\u001b[0mdriver_command\u001b[0m\u001b[1;33m,\u001b[0m \u001b[0mparams\u001b[0m\u001b[1;33m)\u001b[0m\u001b[1;33m\u001b[0m\u001b[0m\n\u001b[0;32m    251\u001b[0m         \u001b[1;32mif\u001b[0m \u001b[0mresponse\u001b[0m\u001b[1;33m:\u001b[0m\u001b[1;33m\u001b[0m\u001b[0m\n\u001b[1;32m--> 252\u001b[1;33m             \u001b[0mself\u001b[0m\u001b[1;33m.\u001b[0m\u001b[0merror_handler\u001b[0m\u001b[1;33m.\u001b[0m\u001b[0mcheck_response\u001b[0m\u001b[1;33m(\u001b[0m\u001b[0mresponse\u001b[0m\u001b[1;33m)\u001b[0m\u001b[1;33m\u001b[0m\u001b[0m\n\u001b[0m\u001b[0;32m    253\u001b[0m             response['value'] = self._unwrap_value(\n\u001b[0;32m    254\u001b[0m                 response.get('value', None))\n",
      "\u001b[1;32mC:\\Python35\\lib\\site-packages\\selenium\\webdriver\\remote\\errorhandler.py\u001b[0m in \u001b[0;36mcheck_response\u001b[1;34m(self, response)\u001b[0m\n\u001b[0;32m    192\u001b[0m         \u001b[1;32melif\u001b[0m \u001b[0mexception_class\u001b[0m \u001b[1;33m==\u001b[0m \u001b[0mUnexpectedAlertPresentException\u001b[0m \u001b[1;32mand\u001b[0m \u001b[1;34m'alert'\u001b[0m \u001b[1;32min\u001b[0m \u001b[0mvalue\u001b[0m\u001b[1;33m:\u001b[0m\u001b[1;33m\u001b[0m\u001b[0m\n\u001b[0;32m    193\u001b[0m             \u001b[1;32mraise\u001b[0m \u001b[0mexception_class\u001b[0m\u001b[1;33m(\u001b[0m\u001b[0mmessage\u001b[0m\u001b[1;33m,\u001b[0m \u001b[0mscreen\u001b[0m\u001b[1;33m,\u001b[0m \u001b[0mstacktrace\u001b[0m\u001b[1;33m,\u001b[0m \u001b[0mvalue\u001b[0m\u001b[1;33m[\u001b[0m\u001b[1;34m'alert'\u001b[0m\u001b[1;33m]\u001b[0m\u001b[1;33m.\u001b[0m\u001b[0mget\u001b[0m\u001b[1;33m(\u001b[0m\u001b[1;34m'text'\u001b[0m\u001b[1;33m)\u001b[0m\u001b[1;33m)\u001b[0m\u001b[1;33m\u001b[0m\u001b[0m\n\u001b[1;32m--> 194\u001b[1;33m         \u001b[1;32mraise\u001b[0m \u001b[0mexception_class\u001b[0m\u001b[1;33m(\u001b[0m\u001b[0mmessage\u001b[0m\u001b[1;33m,\u001b[0m \u001b[0mscreen\u001b[0m\u001b[1;33m,\u001b[0m \u001b[0mstacktrace\u001b[0m\u001b[1;33m)\u001b[0m\u001b[1;33m\u001b[0m\u001b[0m\n\u001b[0m\u001b[0;32m    195\u001b[0m \u001b[1;33m\u001b[0m\u001b[0m\n\u001b[0;32m    196\u001b[0m     \u001b[1;32mdef\u001b[0m \u001b[0m_value_or_default\u001b[0m\u001b[1;33m(\u001b[0m\u001b[0mself\u001b[0m\u001b[1;33m,\u001b[0m \u001b[0mobj\u001b[0m\u001b[1;33m,\u001b[0m \u001b[0mkey\u001b[0m\u001b[1;33m,\u001b[0m \u001b[0mdefault\u001b[0m\u001b[1;33m)\u001b[0m\u001b[1;33m:\u001b[0m\u001b[1;33m\u001b[0m\u001b[0m\n",
      "\u001b[1;31mWebDriverException\u001b[0m: Message: unknown error: call function result missing 'value'\n  (Session info: chrome=67.0.3396.99)\n  (Driver info: chromedriver=2.27.440174 (e97a722caafc2d3a8b807ee115bfb307f7d2cfd9),platform=Windows NT 10.0.17134 x86_64)\n"
     ]
    }
   ],
   "source": [
    "driver.execute_script(\"window.scrollTo(0, (document.body.scrollHeight -2500));\")"
   ]
  },
  {
   "cell_type": "code",
   "execution_count": 16,
   "metadata": {
    "collapsed": true,
    "scrolled": true
   },
   "outputs": [],
   "source": [
    "from selenium.webdriver.firefox.firefox_binary import FirefoxBinary"
   ]
  },
  {
   "cell_type": "code",
   "execution_count": null,
   "metadata": {
    "collapsed": true
   },
   "outputs": [],
   "source": [
    "binary = FirefoxBinary('C:\\Program Files\\Mozilla Firefox')"
   ]
  },
  {
   "cell_type": "code",
   "execution_count": 13,
   "metadata": {},
   "outputs": [],
   "source": [
    "driver = webdriver.Firefox(executable_path=\"C:\\\\Users\\\\huyru\\\\Downloads\\\\Compressed\\\\geckodriver-v0.19.1-win64\\\\geckodriver\")"
   ]
  },
  {
   "cell_type": "code",
   "execution_count": 24,
   "metadata": {
    "collapsed": true
   },
   "outputs": [],
   "source": [
    "re = driver.get('https://facebook.com')"
   ]
  },
  {
   "cell_type": "code",
   "execution_count": 26,
   "metadata": {
    "collapsed": true
   },
   "outputs": [],
   "source": [
    "re = driver.find_element_by_id('email')"
   ]
  },
  {
   "cell_type": "code",
   "execution_count": 27,
   "metadata": {
    "collapsed": true
   },
   "outputs": [],
   "source": [
    "re.send_keys(\"ngochuy_gerrard_96@yahoo.com\")"
   ]
  },
  {
   "cell_type": "code",
   "execution_count": 28,
   "metadata": {
    "collapsed": true
   },
   "outputs": [],
   "source": [
    "re = driver.find_element_by_id('pass')"
   ]
  },
  {
   "cell_type": "code",
   "execution_count": 29,
   "metadata": {
    "collapsed": true
   },
   "outputs": [],
   "source": [
    "re.send_keys(\"nguyenngochuy\")"
   ]
  },
  {
   "cell_type": "code",
   "execution_count": 31,
   "metadata": {
    "collapsed": true
   },
   "outputs": [],
   "source": [
    "re = driver.find_element_by_id('loginbutton')"
   ]
  },
  {
   "cell_type": "code",
   "execution_count": 32,
   "metadata": {
    "collapsed": true
   },
   "outputs": [],
   "source": [
    "re.click()"
   ]
  },
  {
   "cell_type": "code",
   "execution_count": 17,
   "metadata": {
    "collapsed": true
   },
   "outputs": [],
   "source": [
    "elems = driver.find_elements_by_xpath(\"//a[@href]\")"
   ]
  },
  {
   "cell_type": "code",
   "execution_count": 18,
   "metadata": {
    "collapsed": true
   },
   "outputs": [],
   "source": [
    "link = []\n",
    "for elem in elems:\n",
    "    link.append(elem.get_attribute(\"href\"))"
   ]
  },
  {
   "cell_type": "code",
   "execution_count": 19,
   "metadata": {
    "collapsed": true
   },
   "outputs": [],
   "source": [
    "image_link = []\n",
    "for l in link:\n",
    "    if \"viewimage\" in l:\n",
    "        image_link.append(str(l))"
   ]
  },
  {
   "cell_type": "code",
   "execution_count": 20,
   "metadata": {},
   "outputs": [
    {
     "data": {
      "text/plain": [
       "['http://www.listal.com/viewimage/11392729',\n",
       " 'http://www.listal.com/viewimage/11385736',\n",
       " 'http://www.listal.com/viewimage/11392727',\n",
       " 'http://www.listal.com/viewimage/11587485',\n",
       " 'http://www.listal.com/viewimage/11587486',\n",
       " 'http://www.listal.com/viewimage/11505360',\n",
       " 'http://www.listal.com/viewimage/11508755',\n",
       " 'http://www.listal.com/viewimage/11518582',\n",
       " 'http://www.listal.com/viewimage/11588842',\n",
       " 'http://www.listal.com/viewimage/11620098',\n",
       " 'http://www.listal.com/viewimage/11624619',\n",
       " 'http://www.listal.com/viewimage/11644378',\n",
       " 'http://www.listal.com/viewimage/11669829',\n",
       " 'http://www.listal.com/viewimage/11692604',\n",
       " 'http://www.listal.com/viewimage/11669827',\n",
       " 'http://www.listal.com/viewimage/11701919',\n",
       " 'http://www.listal.com/viewimage/11701917',\n",
       " 'http://www.listal.com/viewimage/11698231',\n",
       " 'http://www.listal.com/viewimage/11697628',\n",
       " 'http://www.listal.com/viewimage/11701924',\n",
       " 'http://www.listal.com/viewimage/11701923',\n",
       " 'http://www.listal.com/viewimage/11701922',\n",
       " 'http://www.listal.com/viewimage/11701920',\n",
       " 'http://www.listal.com/viewimage/11701926',\n",
       " 'http://www.listal.com/viewimage/11701918',\n",
       " 'http://www.listal.com/viewimage/11713020',\n",
       " 'http://www.listal.com/viewimage/11713018',\n",
       " 'http://www.listal.com/viewimage/11713017',\n",
       " 'http://www.listal.com/viewimage/11713027',\n",
       " 'http://www.listal.com/viewimage/11713026',\n",
       " 'http://www.listal.com/viewimage/11713025',\n",
       " 'http://www.listal.com/viewimage/11713024',\n",
       " 'http://www.listal.com/viewimage/11713023',\n",
       " 'http://www.listal.com/viewimage/11713029',\n",
       " 'http://www.listal.com/viewimage/11713031',\n",
       " 'http://www.listal.com/viewimage/11713030',\n",
       " 'http://www.listal.com/viewimage/11713032',\n",
       " 'http://www.listal.com/viewimage/11713021',\n",
       " 'http://www.listal.com/viewimage/11715706',\n",
       " 'http://www.listal.com/viewimage/11713034',\n",
       " 'http://www.listal.com/viewimage/11713033',\n",
       " 'http://www.listal.com/viewimage/11720893',\n",
       " 'http://www.listal.com/viewimage/11717102',\n",
       " 'http://www.listal.com/viewimage/11724189',\n",
       " 'http://www.listal.com/viewimage/11740971',\n",
       " 'http://www.listal.com/viewimage/11740970',\n",
       " 'http://www.listal.com/viewimage/11746866',\n",
       " 'http://www.listal.com/viewimage/11752805',\n",
       " 'http://www.listal.com/viewimage/11748462',\n",
       " 'http://www.listal.com/viewimage/11744463',\n",
       " 'http://www.listal.com/viewimage/11770561',\n",
       " 'http://www.listal.com/viewimage/11770560',\n",
       " 'http://www.listal.com/viewimage/11770559',\n",
       " 'http://www.listal.com/viewimage/11770567',\n",
       " 'http://www.listal.com/viewimage/11770566',\n",
       " 'http://www.listal.com/viewimage/11770565',\n",
       " 'http://www.listal.com/viewimage/11770562',\n",
       " 'http://www.listal.com/viewimage/11770570',\n",
       " 'http://www.listal.com/viewimage/11770569',\n",
       " 'http://www.listal.com/viewimage/11770568',\n",
       " 'http://www.listal.com/viewimage/11770957',\n",
       " 'http://www.listal.com/viewimage/11770958',\n",
       " 'http://www.listal.com/viewimage/11770956',\n",
       " 'http://www.listal.com/viewimage/11770955',\n",
       " 'http://www.listal.com/viewimage/11770954',\n",
       " 'http://www.listal.com/viewimage/11774094',\n",
       " 'http://www.listal.com/viewimage/11774099',\n",
       " 'http://www.listal.com/viewimage/11774098',\n",
       " 'http://www.listal.com/viewimage/11774097',\n",
       " 'http://www.listal.com/viewimage/11774096',\n",
       " 'http://www.listal.com/viewimage/11774105',\n",
       " 'http://www.listal.com/viewimage/11774104',\n",
       " 'http://www.listal.com/viewimage/11774102',\n",
       " 'http://www.listal.com/viewimage/11774101',\n",
       " 'http://www.listal.com/viewimage/11774100',\n",
       " 'http://www.listal.com/viewimage/11774110',\n",
       " 'http://www.listal.com/viewimage/11774109',\n",
       " 'http://www.listal.com/viewimage/11774108',\n",
       " 'http://www.listal.com/viewimage/11774107',\n",
       " 'http://www.listal.com/viewimage/11774106',\n",
       " 'http://www.listal.com/viewimage/11774115',\n",
       " 'http://www.listal.com/viewimage/11774114',\n",
       " 'http://www.listal.com/viewimage/11774113',\n",
       " 'http://www.listal.com/viewimage/11774112',\n",
       " 'http://www.listal.com/viewimage/11774111',\n",
       " 'http://www.listal.com/viewimage/11774117',\n",
       " 'http://www.listal.com/viewimage/11774116',\n",
       " 'http://www.listal.com/viewimage/11774158',\n",
       " 'http://www.listal.com/viewimage/11774157',\n",
       " 'http://www.listal.com/viewimage/11774160',\n",
       " 'http://www.listal.com/viewimage/11774165',\n",
       " 'http://www.listal.com/viewimage/11774163',\n",
       " 'http://www.listal.com/viewimage/11774162',\n",
       " 'http://www.listal.com/viewimage/11774161',\n",
       " 'http://www.listal.com/viewimage/11774166',\n",
       " 'http://www.listal.com/viewimage/11776302',\n",
       " 'http://www.listal.com/viewimage/11776301',\n",
       " 'http://www.listal.com/viewimage/11776309',\n",
       " 'http://www.listal.com/viewimage/11776308',\n",
       " 'http://www.listal.com/viewimage/11776311',\n",
       " 'http://www.listal.com/viewimage/11776310',\n",
       " 'http://www.listal.com/viewimage/11794341',\n",
       " 'http://www.listal.com/viewimage/11788570',\n",
       " 'http://www.listal.com/viewimage/11788569',\n",
       " 'http://www.listal.com/viewimage/11815252',\n",
       " 'http://www.listal.com/viewimage/11824809',\n",
       " 'http://www.listal.com/viewimage/11824811',\n",
       " 'http://www.listal.com/viewimage/11838860',\n",
       " 'http://www.listal.com/viewimage/11838869',\n",
       " 'http://www.listal.com/viewimage/11838866',\n",
       " 'http://www.listal.com/viewimage/11838865',\n",
       " 'http://www.listal.com/viewimage/11838863',\n",
       " 'http://www.listal.com/viewimage/11838872',\n",
       " 'http://www.listal.com/viewimage/11838871',\n",
       " 'http://www.listal.com/viewimage/11838870',\n",
       " 'http://www.listal.com/viewimage/11847721',\n",
       " 'http://www.listal.com/viewimage/11845156',\n",
       " 'http://www.listal.com/viewimage/11841406',\n",
       " 'http://www.listal.com/viewimage/11847732',\n",
       " 'http://www.listal.com/viewimage/11848583',\n",
       " 'http://www.listal.com/viewimage/11850924',\n",
       " 'http://www.listal.com/viewimage/11871221',\n",
       " 'http://www.listal.com/viewimage/11871220',\n",
       " 'http://www.listal.com/viewimage/11871218',\n",
       " 'http://www.listal.com/viewimage/11871232',\n",
       " 'http://www.listal.com/viewimage/11871227',\n",
       " 'http://www.listal.com/viewimage/11871235',\n",
       " 'http://www.listal.com/viewimage/11871234',\n",
       " 'http://www.listal.com/viewimage/11871233',\n",
       " 'http://www.listal.com/viewimage/11871241',\n",
       " 'http://www.listal.com/viewimage/11871252',\n",
       " 'http://www.listal.com/viewimage/11871251',\n",
       " 'http://www.listal.com/viewimage/11893357',\n",
       " 'http://www.listal.com/viewimage/11897119',\n",
       " 'http://www.listal.com/viewimage/11896342',\n",
       " 'http://www.listal.com/viewimage/11895813',\n",
       " 'http://www.listal.com/viewimage/11895812',\n",
       " 'http://www.listal.com/viewimage/11893333',\n",
       " 'http://www.listal.com/viewimage/11893306',\n",
       " 'http://www.listal.com/viewimage/11897124',\n",
       " 'http://www.listal.com/viewimage/11897123',\n",
       " 'http://www.listal.com/viewimage/11897120',\n",
       " 'http://www.listal.com/viewimage/11897122',\n",
       " 'http://www.listal.com/viewimage/11897121',\n",
       " 'http://www.listal.com/viewimage/11897128',\n",
       " 'http://www.listal.com/viewimage/11897127',\n",
       " 'http://www.listal.com/viewimage/11897126',\n",
       " 'http://www.listal.com/viewimage/11897125',\n",
       " 'http://www.listal.com/viewimage/11899123',\n",
       " 'http://www.listal.com/viewimage/11900562',\n",
       " 'http://www.listal.com/viewimage/11900554',\n",
       " 'http://www.listal.com/viewimage/11900525',\n",
       " 'http://www.listal.com/viewimage/11907025',\n",
       " 'http://www.listal.com/viewimage/11906992',\n",
       " 'http://www.listal.com/viewimage/11906481',\n",
       " 'http://www.listal.com/viewimage/11916544',\n",
       " 'http://www.listal.com/viewimage/11916543',\n",
       " 'http://www.listal.com/viewimage/11916542',\n",
       " 'http://www.listal.com/viewimage/11916541',\n",
       " 'http://www.listal.com/viewimage/11916540',\n",
       " 'http://www.listal.com/viewimage/11922423',\n",
       " 'http://www.listal.com/viewimage/11934368',\n",
       " 'http://www.listal.com/viewimage/11934367',\n",
       " 'http://www.listal.com/viewimage/11934366',\n",
       " 'http://www.listal.com/viewimage/11934364',\n",
       " 'http://www.listal.com/viewimage/11951670',\n",
       " 'http://www.listal.com/viewimage/11951676',\n",
       " 'http://www.listal.com/viewimage/11951675',\n",
       " 'http://www.listal.com/viewimage/11951674',\n",
       " 'http://www.listal.com/viewimage/11951673',\n",
       " 'http://www.listal.com/viewimage/11951672',\n",
       " 'http://www.listal.com/viewimage/11962924',\n",
       " 'http://www.listal.com/viewimage/11988154',\n",
       " 'http://www.listal.com/viewimage/11990341',\n",
       " 'http://www.listal.com/viewimage/11996750',\n",
       " 'http://www.listal.com/viewimage/11996752',\n",
       " 'http://www.listal.com/viewimage/12030313',\n",
       " 'http://www.listal.com/viewimage/12030317',\n",
       " 'http://www.listal.com/viewimage/12030316',\n",
       " 'http://www.listal.com/viewimage/12047034',\n",
       " 'http://www.listal.com/viewimage/12047480',\n",
       " 'http://www.listal.com/viewimage/12047479',\n",
       " 'http://www.listal.com/viewimage/12051016',\n",
       " 'http://www.listal.com/viewimage/12051015',\n",
       " 'http://www.listal.com/viewimage/12052212',\n",
       " 'http://www.listal.com/viewimage/12051014',\n",
       " 'http://www.listal.com/viewimage/12051017',\n",
       " 'http://www.listal.com/viewimage/12073963',\n",
       " 'http://www.listal.com/viewimage/12069627',\n",
       " 'http://www.listal.com/viewimage/12112943',\n",
       " 'http://www.listal.com/viewimage/12112969',\n",
       " 'http://www.listal.com/viewimage/12091575',\n",
       " 'http://www.listal.com/viewimage/12091352',\n",
       " 'http://www.listal.com/viewimage/12091351',\n",
       " 'http://www.listal.com/viewimage/12112863',\n",
       " 'http://www.listal.com/viewimage/12114550',\n",
       " 'http://www.listal.com/viewimage/12114549',\n",
       " 'http://www.listal.com/viewimage/12114548',\n",
       " 'http://www.listal.com/viewimage/12112865',\n",
       " 'http://www.listal.com/viewimage/12112864',\n",
       " 'http://www.listal.com/viewimage/12114558',\n",
       " 'http://www.listal.com/viewimage/12114557',\n",
       " 'http://www.listal.com/viewimage/12114556',\n",
       " 'http://www.listal.com/viewimage/12127603',\n",
       " 'http://www.listal.com/viewimage/12118828',\n",
       " 'http://www.listal.com/viewimage/12788972',\n",
       " 'http://www.listal.com/viewimage/12808423',\n",
       " 'http://www.listal.com/viewimage/12881943',\n",
       " 'http://www.listal.com/viewimage/12881941',\n",
       " 'http://www.listal.com/viewimage/12881942',\n",
       " 'http://www.listal.com/viewimage/12881946',\n",
       " 'http://www.listal.com/viewimage/12881945',\n",
       " 'http://www.listal.com/viewimage/12881944',\n",
       " 'http://www.listal.com/viewimage/12887756',\n",
       " 'http://www.listal.com/viewimage/12909774',\n",
       " 'http://www.listal.com/viewimage/12958335',\n",
       " 'http://www.listal.com/viewimage/12957614',\n",
       " 'http://www.listal.com/viewimage/12959165',\n",
       " 'http://www.listal.com/viewimage/12959162',\n",
       " 'http://www.listal.com/viewimage/12959150',\n",
       " 'http://www.listal.com/viewimage/12959145',\n",
       " 'http://www.listal.com/viewimage/12959144',\n",
       " 'http://www.listal.com/viewimage/12959182',\n",
       " 'http://www.listal.com/viewimage/12959176',\n",
       " 'http://www.listal.com/viewimage/12959205',\n",
       " 'http://www.listal.com/viewimage/12959204',\n",
       " 'http://www.listal.com/viewimage/12959185',\n",
       " 'http://www.listal.com/viewimage/12959184',\n",
       " 'http://www.listal.com/viewimage/12959183',\n",
       " 'http://www.listal.com/viewimage/12959209',\n",
       " 'http://www.listal.com/viewimage/12959207',\n",
       " 'http://www.listal.com/viewimage/12959206',\n",
       " 'http://www.listal.com/viewimage/12959222',\n",
       " 'http://www.listal.com/viewimage/12959220',\n",
       " 'http://www.listal.com/viewimage/12959212',\n",
       " 'http://www.listal.com/viewimage/13056798',\n",
       " 'http://www.listal.com/viewimage/13127288',\n",
       " 'http://www.listal.com/viewimage/13200812',\n",
       " 'http://www.listal.com/viewimage/13200809',\n",
       " 'http://www.listal.com/viewimage/13269579',\n",
       " 'http://www.listal.com/viewimage/13269580',\n",
       " 'http://www.listal.com/viewimage/13086805',\n",
       " 'http://www.listal.com/viewimage/13200797',\n",
       " 'http://www.listal.com/viewimage/13200426',\n",
       " 'http://www.listal.com/viewimage/13200801',\n",
       " 'http://www.listal.com/viewimage/13200804',\n",
       " 'http://www.listal.com/viewimage/13377210',\n",
       " 'http://www.listal.com/viewimage/13377211',\n",
       " 'http://www.listal.com/viewimage/13469418',\n",
       " 'http://www.listal.com/viewimage/13469415',\n",
       " 'http://www.listal.com/viewimage/13469383',\n",
       " 'http://www.listal.com/viewimage/13469380',\n",
       " 'http://www.listal.com/viewimage/13480092',\n",
       " 'http://www.listal.com/viewimage/13522791',\n",
       " 'http://www.listal.com/viewimage/13480140',\n",
       " 'http://www.listal.com/viewimage/13480156',\n",
       " 'http://www.listal.com/viewimage/13480122',\n",
       " 'http://www.listal.com/viewimage/13480115',\n",
       " 'http://www.listal.com/viewimage/13480180',\n",
       " 'http://www.listal.com/viewimage/13480168',\n",
       " 'http://www.listal.com/viewimage/13657610',\n",
       " 'http://www.listal.com/viewimage/13666803',\n",
       " 'http://www.listal.com/viewimage/13666801',\n",
       " 'http://www.listal.com/viewimage/13666800',\n",
       " 'http://www.listal.com/viewimage/13666808',\n",
       " 'http://www.listal.com/viewimage/13666807',\n",
       " 'http://www.listal.com/viewimage/13666805',\n",
       " 'http://www.listal.com/viewimage/13666804',\n",
       " 'http://www.listal.com/viewimage/13666819',\n",
       " 'http://www.listal.com/viewimage/13666818',\n",
       " 'http://www.listal.com/viewimage/13666814',\n",
       " 'http://www.listal.com/viewimage/13666822',\n",
       " 'http://www.listal.com/viewimage/13666824',\n",
       " 'http://www.listal.com/viewimage/13681380',\n",
       " 'http://www.listal.com/viewimage/13678750',\n",
       " 'http://www.listal.com/viewimage/13678744',\n",
       " 'http://www.listal.com/viewimage/13678631',\n",
       " 'http://www.listal.com/viewimage/13676274',\n",
       " 'http://www.listal.com/viewimage/13681383',\n",
       " 'http://www.listal.com/viewimage/13681382',\n",
       " 'http://www.listal.com/viewimage/13681381',\n",
       " 'http://www.listal.com/viewimage/13679402',\n",
       " 'http://www.listal.com/viewimage/13681397',\n",
       " 'http://www.listal.com/viewimage/13681392',\n",
       " 'http://www.listal.com/viewimage/13681391',\n",
       " 'http://www.listal.com/viewimage/13681386',\n",
       " 'http://www.listal.com/viewimage/13681384',\n",
       " 'http://www.listal.com/viewimage/13681413',\n",
       " 'http://www.listal.com/viewimage/13681408',\n",
       " 'http://www.listal.com/viewimage/13681407',\n",
       " 'http://www.listal.com/viewimage/13681399',\n",
       " 'http://www.listal.com/viewimage/13681398',\n",
       " 'http://www.listal.com/viewimage/13681436',\n",
       " 'http://www.listal.com/viewimage/13681435',\n",
       " 'http://www.listal.com/viewimage/13681433',\n",
       " 'http://www.listal.com/viewimage/13681432',\n",
       " 'http://www.listal.com/viewimage/13681414',\n",
       " 'http://www.listal.com/viewimage/13681441',\n",
       " 'http://www.listal.com/viewimage/13681440',\n",
       " 'http://www.listal.com/viewimage/13681439',\n",
       " 'http://www.listal.com/viewimage/13681438',\n",
       " 'http://www.listal.com/viewimage/13681437',\n",
       " 'http://www.listal.com/viewimage/13681453',\n",
       " 'http://www.listal.com/viewimage/13681451',\n",
       " 'http://www.listal.com/viewimage/13681444',\n",
       " 'http://www.listal.com/viewimage/13681443',\n",
       " 'http://www.listal.com/viewimage/13681442',\n",
       " 'http://www.listal.com/viewimage/13681458',\n",
       " 'http://www.listal.com/viewimage/13681457',\n",
       " 'http://www.listal.com/viewimage/13681456',\n",
       " 'http://www.listal.com/viewimage/13681455',\n",
       " 'http://www.listal.com/viewimage/13681454',\n",
       " 'http://www.listal.com/viewimage/13681471',\n",
       " 'http://www.listal.com/viewimage/13681484',\n",
       " 'http://www.listal.com/viewimage/13681495',\n",
       " 'http://www.listal.com/viewimage/13681494',\n",
       " 'http://www.listal.com/viewimage/13681492',\n",
       " 'http://www.listal.com/viewimage/13681503',\n",
       " 'http://www.listal.com/viewimage/13681502',\n",
       " 'http://www.listal.com/viewimage/13681501',\n",
       " 'http://www.listal.com/viewimage/13681500',\n",
       " 'http://www.listal.com/viewimage/13681499',\n",
       " 'http://www.listal.com/viewimage/13681496',\n",
       " 'http://www.listal.com/viewimage/13681505',\n",
       " 'http://www.listal.com/viewimage/13681504',\n",
       " 'http://www.listal.com/viewimage/13681885',\n",
       " 'http://www.listal.com/viewimage/13681904',\n",
       " 'http://www.listal.com/viewimage/13681903',\n",
       " 'http://www.listal.com/viewimage/13684068',\n",
       " 'http://www.listal.com/viewimage/13684532',\n",
       " 'http://www.listal.com/viewimage/13686626',\n",
       " 'http://www.listal.com/viewimage/13686617',\n",
       " 'http://www.listal.com/viewimage/13684529',\n",
       " 'http://www.listal.com/viewimage/13684526',\n",
       " 'http://www.listal.com/viewimage/13684525',\n",
       " 'http://www.listal.com/viewimage/13684523',\n",
       " 'http://www.listal.com/viewimage/13698299',\n",
       " 'http://www.listal.com/viewimage/13698298',\n",
       " 'http://www.listal.com/viewimage/13702367',\n",
       " 'http://www.listal.com/viewimage/13702368',\n",
       " 'http://www.listal.com/viewimage/13707256',\n",
       " 'http://www.listal.com/viewimage/13707255',\n",
       " 'http://www.listal.com/viewimage/13721233',\n",
       " 'http://www.listal.com/viewimage/13721232',\n",
       " 'http://www.listal.com/viewimage/13724320',\n",
       " 'http://www.listal.com/viewimage/13738931',\n",
       " 'http://www.listal.com/viewimage/13737221',\n",
       " 'http://www.listal.com/viewimage/13774433',\n",
       " 'http://www.listal.com/viewimage/13760114',\n",
       " 'http://www.listal.com/viewimage/13774441',\n",
       " 'http://www.listal.com/viewimage/13774439',\n",
       " 'http://www.listal.com/viewimage/13774437',\n",
       " 'http://www.listal.com/viewimage/13774435',\n",
       " 'http://www.listal.com/viewimage/13781366',\n",
       " 'http://www.listal.com/viewimage/13781222',\n",
       " 'http://www.listal.com/viewimage/13774449',\n",
       " 'http://www.listal.com/viewimage/13799365',\n",
       " 'http://www.listal.com/viewimage/13785889',\n",
       " 'http://www.listal.com/viewimage/13785888',\n",
       " 'http://www.listal.com/viewimage/13785885',\n",
       " 'http://www.listal.com/viewimage/13812535',\n",
       " 'http://www.listal.com/viewimage/13835550',\n",
       " 'http://www.listal.com/viewimage/13817127',\n",
       " 'http://www.listal.com/viewimage/13841680',\n",
       " 'http://www.listal.com/viewimage/13841679',\n",
       " 'http://www.listal.com/viewimage/13841678',\n",
       " 'http://www.listal.com/viewimage/13841684',\n",
       " 'http://www.listal.com/viewimage/13841683',\n",
       " 'http://www.listal.com/viewimage/13841681',\n",
       " 'http://www.listal.com/viewimage/13841686',\n",
       " 'http://www.listal.com/viewimage/13863939',\n",
       " 'http://www.listal.com/viewimage/13863947',\n",
       " 'http://www.listal.com/viewimage/13863945',\n",
       " 'http://www.listal.com/viewimage/13863943',\n",
       " 'http://www.listal.com/viewimage/13863942',\n",
       " 'http://www.listal.com/viewimage/13863941',\n",
       " 'http://www.listal.com/viewimage/13866620',\n",
       " 'http://www.listal.com/viewimage/13863951',\n",
       " 'http://www.listal.com/viewimage/13863950',\n",
       " 'http://www.listal.com/viewimage/13873735',\n",
       " 'http://www.listal.com/viewimage/13881214',\n",
       " 'http://www.listal.com/viewimage/13881213',\n",
       " 'http://www.listal.com/viewimage/13878994',\n",
       " 'http://www.listal.com/viewimage/13878313',\n",
       " 'http://www.listal.com/viewimage/13881221',\n",
       " 'http://www.listal.com/viewimage/13881216',\n",
       " 'http://www.listal.com/viewimage/13881223',\n",
       " 'http://www.listal.com/viewimage/13881222',\n",
       " 'http://www.listal.com/viewimage/13889746',\n",
       " 'http://www.listal.com/viewimage/13901173',\n",
       " 'http://www.listal.com/viewimage/13899689',\n",
       " 'http://www.listal.com/viewimage/13929292',\n",
       " 'http://www.listal.com/viewimage/13929290',\n",
       " 'http://www.listal.com/viewimage/13926550',\n",
       " 'http://www.listal.com/viewimage/13926542',\n",
       " 'http://www.listal.com/viewimage/13926533',\n",
       " 'http://www.listal.com/viewimage/13929294',\n",
       " 'http://www.listal.com/viewimage/13929345',\n",
       " 'http://www.listal.com/viewimage/13929340',\n",
       " 'http://www.listal.com/viewimage/13929315',\n",
       " 'http://www.listal.com/viewimage/13934853',\n",
       " 'http://www.listal.com/viewimage/13934851',\n",
       " 'http://www.listal.com/viewimage/13947992',\n",
       " 'http://www.listal.com/viewimage/13940718',\n",
       " 'http://www.listal.com/viewimage/13975770',\n",
       " 'http://www.listal.com/viewimage/14028855',\n",
       " 'http://www.listal.com/viewimage/14026724',\n",
       " 'http://www.listal.com/viewimage/14035836',\n",
       " 'http://www.listal.com/viewimage/14039685',\n",
       " 'http://www.listal.com/viewimage/14050274',\n",
       " 'http://www.listal.com/viewimage/14060148',\n",
       " 'http://www.listal.com/viewimage/14060153',\n",
       " 'http://www.listal.com/viewimage/14060152',\n",
       " 'http://www.listal.com/viewimage/14060151',\n",
       " 'http://www.listal.com/viewimage/14060150',\n",
       " 'http://www.listal.com/viewimage/14060149',\n",
       " 'http://www.listal.com/viewimage/14060157',\n",
       " 'http://www.listal.com/viewimage/14060156',\n",
       " 'http://www.listal.com/viewimage/14060155',\n",
       " 'http://www.listal.com/viewimage/14060154',\n",
       " 'http://www.listal.com/viewimage/14061454',\n",
       " 'http://www.listal.com/viewimage/14063044',\n",
       " 'http://www.listal.com/viewimage/14063043',\n",
       " 'http://www.listal.com/viewimage/14063042',\n",
       " 'http://www.listal.com/viewimage/14063041',\n",
       " 'http://www.listal.com/viewimage/14063049',\n",
       " 'http://www.listal.com/viewimage/14063048',\n",
       " 'http://www.listal.com/viewimage/14063047',\n",
       " 'http://www.listal.com/viewimage/14063046',\n",
       " 'http://www.listal.com/viewimage/14063045',\n",
       " 'http://www.listal.com/viewimage/14063186',\n",
       " 'http://www.listal.com/viewimage/14063185',\n",
       " 'http://www.listal.com/viewimage/14063052',\n",
       " 'http://www.listal.com/viewimage/14063051',\n",
       " 'http://www.listal.com/viewimage/14063050',\n",
       " 'http://www.listal.com/viewimage/14063187',\n",
       " 'http://www.listal.com/viewimage/14063246',\n",
       " 'http://www.listal.com/viewimage/14063245',\n",
       " 'http://www.listal.com/viewimage/14063257',\n",
       " 'http://www.listal.com/viewimage/14063256',\n",
       " 'http://www.listal.com/viewimage/14063249',\n",
       " 'http://www.listal.com/viewimage/14063248',\n",
       " 'http://www.listal.com/viewimage/14063247',\n",
       " 'http://www.listal.com/viewimage/14063262',\n",
       " 'http://www.listal.com/viewimage/14063261',\n",
       " 'http://www.listal.com/viewimage/14063260',\n",
       " 'http://www.listal.com/viewimage/14063259',\n",
       " 'http://www.listal.com/viewimage/14063258',\n",
       " 'http://www.listal.com/viewimage/14071644',\n",
       " 'http://www.listal.com/viewimage/14077774',\n",
       " 'http://www.listal.com/viewimage/14081784',\n",
       " 'http://www.listal.com/viewimage/14081706',\n",
       " 'http://www.listal.com/viewimage/14090496',\n",
       " 'http://www.listal.com/viewimage/14090495',\n",
       " 'http://www.listal.com/viewimage/14083886',\n",
       " 'http://www.listal.com/viewimage/14083798',\n",
       " 'http://www.listal.com/viewimage/14082156',\n",
       " 'http://www.listal.com/viewimage/14110195',\n",
       " 'http://www.listal.com/viewimage/14110199',\n",
       " 'http://www.listal.com/viewimage/14110198',\n",
       " 'http://www.listal.com/viewimage/14117549',\n",
       " 'http://www.listal.com/viewimage/14117555',\n",
       " 'http://www.listal.com/viewimage/14117554',\n",
       " 'http://www.listal.com/viewimage/14117553',\n",
       " 'http://www.listal.com/viewimage/14117552',\n",
       " 'http://www.listal.com/viewimage/14117551',\n",
       " 'http://www.listal.com/viewimage/14117560',\n",
       " 'http://www.listal.com/viewimage/14117559',\n",
       " 'http://www.listal.com/viewimage/14117558',\n",
       " 'http://www.listal.com/viewimage/14117557',\n",
       " 'http://www.listal.com/viewimage/14117556',\n",
       " 'http://www.listal.com/viewimage/14117565',\n",
       " 'http://www.listal.com/viewimage/14117564',\n",
       " 'http://www.listal.com/viewimage/14117563',\n",
       " 'http://www.listal.com/viewimage/14117562',\n",
       " 'http://www.listal.com/viewimage/14117561',\n",
       " 'http://www.listal.com/viewimage/14117570',\n",
       " 'http://www.listal.com/viewimage/14117569',\n",
       " 'http://www.listal.com/viewimage/14117568',\n",
       " 'http://www.listal.com/viewimage/14117567',\n",
       " 'http://www.listal.com/viewimage/14117566',\n",
       " 'http://www.listal.com/viewimage/14117575',\n",
       " 'http://www.listal.com/viewimage/14117574',\n",
       " 'http://www.listal.com/viewimage/14117572',\n",
       " 'http://www.listal.com/viewimage/14135940',\n",
       " 'http://www.listal.com/viewimage/14135949',\n",
       " 'http://www.listal.com/viewimage/14135948',\n",
       " 'http://www.listal.com/viewimage/14135947',\n",
       " 'http://www.listal.com/viewimage/14135944',\n",
       " 'http://www.listal.com/viewimage/14135941',\n",
       " 'http://www.listal.com/viewimage/14135957',\n",
       " 'http://www.listal.com/viewimage/14135953',\n",
       " 'http://www.listal.com/viewimage/14135952',\n",
       " 'http://www.listal.com/viewimage/14136783',\n",
       " 'http://www.listal.com/viewimage/14135959',\n",
       " 'http://www.listal.com/viewimage/14135958',\n",
       " 'http://www.listal.com/viewimage/14136847',\n",
       " 'http://www.listal.com/viewimage/14142172',\n",
       " 'http://www.listal.com/viewimage/14142171',\n",
       " 'http://www.listal.com/viewimage/14142169']"
      ]
     },
     "execution_count": 20,
     "metadata": {},
     "output_type": "execute_result"
    }
   ],
   "source": [
    "image_link"
   ]
  },
  {
   "cell_type": "code",
   "execution_count": 21,
   "metadata": {},
   "outputs": [
    {
     "data": {
      "text/plain": [
       "500"
      ]
     },
     "execution_count": 21,
     "metadata": {},
     "output_type": "execute_result"
    }
   ],
   "source": [
    "len(image_link)"
   ]
  },
  {
   "cell_type": "code",
   "execution_count": 22,
   "metadata": {
    "collapsed": true
   },
   "outputs": [],
   "source": [
    "image = []\n",
    "for link in image_link:\n",
    "    re = driver.get(link)\n",
    "    elems = driver.find_element_by_class_name(\"pure-img\")\n",
    "    image.append(str(elems.get_attribute(\"src\")))"
   ]
  },
  {
   "cell_type": "code",
   "execution_count": 9,
   "metadata": {
    "collapsed": true
   },
   "outputs": [],
   "source": [
    "re = driver.get(image_link[1])"
   ]
  },
  {
   "cell_type": "code",
   "execution_count": 26,
   "metadata": {
    "collapsed": true
   },
   "outputs": [],
   "source": [
    "elems = driver.find_element_by_tag_name((\"img\"))"
   ]
  },
  {
   "cell_type": "code",
   "execution_count": 23,
   "metadata": {},
   "outputs": [
    {
     "data": {
      "text/plain": [
       "['http://iv1.lisimg.com/image/11392729/740full-josephine-skriver.jpg',\n",
       " 'http://iv1.lisimg.com/image/11385736/740full-josephine-skriver.jpg',\n",
       " 'http://iv1.lisimg.com/image/11392727/740full-josephine-skriver.jpg',\n",
       " 'http://iv1.lisimg.com/image/11587485/740full-josephine-skriver.jpg',\n",
       " 'http://iv1.lisimg.com/image/11587486/740full-josephine-skriver.jpg',\n",
       " 'http://ilarge.lisimg.com/image/11505360/1080full-josephine-skriver.jpg',\n",
       " 'http://iv1.lisimg.com/image/11508755/740full-josephine-skriver.jpg',\n",
       " 'http://iv1.lisimg.com/image/11518582/740full-josephine-skriver.jpg',\n",
       " 'http://iv1.lisimg.com/image/11588842/500full-josephine-skriver.jpg',\n",
       " 'http://iv1.lisimg.com/image/11620098/740full-josephine-skriver.jpg',\n",
       " 'http://iv1.lisimg.com/image/11624619/740full-josephine-skriver.jpg',\n",
       " 'http://iv1.lisimg.com/image/11644378/660full-josephine-skriver.jpg',\n",
       " 'http://iv1.lisimg.com/image/11669829/740full-josephine-skriver.jpg',\n",
       " 'http://iv1.lisimg.com/image/11692604/740full-josephine-skriver.jpg',\n",
       " 'http://iv1.lisimg.com/image/11669827/740full-josephine-skriver.jpg',\n",
       " 'http://iv1.lisimg.com/image/11701919/740full-josephine-skriver.jpg',\n",
       " 'http://iv1.lisimg.com/image/11701917/740full-josephine-skriver.jpg',\n",
       " 'http://iv1.lisimg.com/image/11698231/740full-josephine-skriver.jpg',\n",
       " 'http://iv1.lisimg.com/image/11697628/740full-josephine-skriver.jpg',\n",
       " 'http://iv1.lisimg.com/image/11701924/740full-josephine-skriver.jpg',\n",
       " 'http://iv1.lisimg.com/image/11701923/740full-josephine-skriver.jpg',\n",
       " 'http://iv1.lisimg.com/image/11701922/740full-josephine-skriver.jpg',\n",
       " 'http://iv1.lisimg.com/image/11701920/740full-josephine-skriver.jpg',\n",
       " 'http://iv1.lisimg.com/image/11701926/740full-josephine-skriver.jpg',\n",
       " 'http://iv1.lisimg.com/image/11701918/740full-josephine-skriver.jpg',\n",
       " 'http://iv1.lisimg.com/image/11713020/740full-josephine-skriver.jpg',\n",
       " 'http://iv1.lisimg.com/image/11713018/740full-josephine-skriver.jpg',\n",
       " 'http://iv1.lisimg.com/image/11713017/740full-josephine-skriver.jpg',\n",
       " 'http://iv1.lisimg.com/image/11713027/740full-josephine-skriver.jpg',\n",
       " 'http://iv1.lisimg.com/image/11713026/740full-josephine-skriver.jpg',\n",
       " 'http://iv1.lisimg.com/image/11713025/740full-josephine-skriver.jpg',\n",
       " 'http://iv1.lisimg.com/image/11713024/740full-josephine-skriver.jpg',\n",
       " 'http://iv1.lisimg.com/image/11713023/740full-josephine-skriver.jpg',\n",
       " 'http://iv1.lisimg.com/image/11713029/740full-josephine-skriver.jpg',\n",
       " 'http://iv1.lisimg.com/image/11713031/740full-josephine-skriver.jpg',\n",
       " 'http://iv1.lisimg.com/image/11713030/740full-josephine-skriver.jpg',\n",
       " 'http://iv1.lisimg.com/image/11713032/740full-josephine-skriver.jpg',\n",
       " 'http://iv1.lisimg.com/image/11713021/740full-josephine-skriver.jpg',\n",
       " 'http://ilarge.lisimg.com/image/11715706/1080full-josephine-skriver.jpg',\n",
       " 'http://iv1.lisimg.com/image/11713034/740full-josephine-skriver.jpg',\n",
       " 'http://iv1.lisimg.com/image/11713033/740full-josephine-skriver.jpg',\n",
       " 'http://ilarge.lisimg.com/image/11720893/1080full-josephine-skriver.jpg',\n",
       " 'http://iv1.lisimg.com/image/11717102/740full-josephine-skriver.jpg',\n",
       " 'http://iv1.lisimg.com/image/11724189/740full-josephine-skriver.jpg',\n",
       " 'http://iv1.lisimg.com/image/11740971/740full-josephine-skriver.jpg',\n",
       " 'http://iv1.lisimg.com/image/11740970/740full-josephine-skriver.jpg',\n",
       " 'http://iv1.lisimg.com/image/11746866/740full-josephine-skriver.jpg',\n",
       " 'http://iv1.lisimg.com/image/11752805/740full-josephine-skriver.jpg',\n",
       " 'http://iv1.lisimg.com/image/11748462/564full-josephine-skriver.jpg',\n",
       " 'http://iv1.lisimg.com/image/11744463/720full-josephine-skriver.jpg',\n",
       " 'http://iv1.lisimg.com/image/11770561/740full-josephine-skriver.jpg',\n",
       " 'http://iv1.lisimg.com/image/11770560/740full-josephine-skriver.jpg',\n",
       " 'http://iv1.lisimg.com/image/11770559/740full-josephine-skriver.jpg',\n",
       " 'http://iv1.lisimg.com/image/11770567/740full-josephine-skriver.jpg',\n",
       " 'http://iv1.lisimg.com/image/11770566/740full-josephine-skriver.jpg',\n",
       " 'http://iv1.lisimg.com/image/11770565/740full-josephine-skriver.jpg',\n",
       " 'http://iv1.lisimg.com/image/11770562/740full-josephine-skriver.jpg',\n",
       " 'http://iv1.lisimg.com/image/11770570/740full-josephine-skriver.jpg',\n",
       " 'http://iv1.lisimg.com/image/11770569/740full-josephine-skriver.jpg',\n",
       " 'http://iv1.lisimg.com/image/11770568/740full-josephine-skriver.jpg',\n",
       " 'http://iv1.lisimg.com/image/11770957/740full-josephine-skriver.jpg',\n",
       " 'http://iv1.lisimg.com/image/11770958/740full-josephine-skriver.jpg',\n",
       " 'http://iv1.lisimg.com/image/11770956/740full-josephine-skriver.jpg',\n",
       " 'http://iv1.lisimg.com/image/11770955/740full-josephine-skriver.jpg',\n",
       " 'http://iv1.lisimg.com/image/11770954/740full-josephine-skriver.jpg',\n",
       " 'http://iv1.lisimg.com/image/11774094/740full-josephine-skriver.jpg',\n",
       " 'http://iv1.lisimg.com/image/11774099/740full-josephine-skriver.jpg',\n",
       " 'http://iv1.lisimg.com/image/11774098/740full-josephine-skriver.jpg',\n",
       " 'http://iv1.lisimg.com/image/11774097/740full-josephine-skriver.jpg',\n",
       " 'http://iv1.lisimg.com/image/11774096/740full-josephine-skriver.jpg',\n",
       " 'http://iv1.lisimg.com/image/11774105/740full-josephine-skriver.jpg',\n",
       " 'http://iv1.lisimg.com/image/11774104/740full-josephine-skriver.jpg',\n",
       " 'http://iv1.lisimg.com/image/11774102/740full-josephine-skriver.jpg',\n",
       " 'http://iv1.lisimg.com/image/11774101/740full-josephine-skriver.jpg',\n",
       " 'http://iv1.lisimg.com/image/11774100/740full-josephine-skriver.jpg',\n",
       " 'http://iv1.lisimg.com/image/11774110/740full-josephine-skriver.jpg',\n",
       " 'http://iv1.lisimg.com/image/11774109/740full-josephine-skriver.jpg',\n",
       " 'http://iv1.lisimg.com/image/11774108/740full-josephine-skriver.jpg',\n",
       " 'http://iv1.lisimg.com/image/11774107/740full-josephine-skriver.jpg',\n",
       " 'http://iv1.lisimg.com/image/11774106/740full-josephine-skriver.jpg',\n",
       " 'http://iv1.lisimg.com/image/11774115/740full-josephine-skriver.jpg',\n",
       " 'http://iv1.lisimg.com/image/11774114/740full-josephine-skriver.jpg',\n",
       " 'http://iv1.lisimg.com/image/11774113/740full-josephine-skriver.jpg',\n",
       " 'http://iv1.lisimg.com/image/11774112/740full-josephine-skriver.jpg',\n",
       " 'http://iv1.lisimg.com/image/11774111/740full-josephine-skriver.jpg',\n",
       " 'http://iv1.lisimg.com/image/11774117/740full-josephine-skriver.jpg',\n",
       " 'http://iv1.lisimg.com/image/11774116/740full-josephine-skriver.jpg',\n",
       " 'http://iv1.lisimg.com/image/11774158/740full-josephine-skriver.jpg',\n",
       " 'http://iv1.lisimg.com/image/11774157/740full-josephine-skriver.jpg',\n",
       " 'http://iv1.lisimg.com/image/11774160/740full-josephine-skriver.jpg',\n",
       " 'http://iv1.lisimg.com/image/11774165/740full-josephine-skriver.jpg',\n",
       " 'http://iv1.lisimg.com/image/11774163/740full-josephine-skriver.jpg',\n",
       " 'http://iv1.lisimg.com/image/11774162/740full-josephine-skriver.jpg',\n",
       " 'http://iv1.lisimg.com/image/11774161/740full-josephine-skriver.jpg',\n",
       " 'http://iv1.lisimg.com/image/11774166/740full-josephine-skriver.jpg',\n",
       " 'http://iv1.lisimg.com/image/11776302/740full-josephine-skriver.jpg',\n",
       " 'http://iv1.lisimg.com/image/11776301/740full-josephine-skriver.jpg',\n",
       " 'http://iv1.lisimg.com/image/11776309/740full-josephine-skriver.jpg',\n",
       " 'http://iv1.lisimg.com/image/11776308/740full-josephine-skriver.jpg',\n",
       " 'http://iv1.lisimg.com/image/11776311/740full-josephine-skriver.jpg',\n",
       " 'http://iv1.lisimg.com/image/11776310/740full-josephine-skriver.jpg',\n",
       " 'http://iv1.lisimg.com/image/11794341/740full-josephine-skriver.jpg',\n",
       " 'http://iv1.lisimg.com/image/11788570/740full-josephine-skriver.jpg',\n",
       " 'http://iv1.lisimg.com/image/11788569/740full-josephine-skriver.jpg',\n",
       " 'http://iv1.lisimg.com/image/11815252/740full-josephine-skriver.jpg',\n",
       " 'http://iv1.lisimg.com/image/11824809/740full-josephine-skriver.jpg',\n",
       " 'http://iv1.lisimg.com/image/11824811/740full-josephine-skriver.jpg',\n",
       " 'http://iv1.lisimg.com/image/11838860/740full-josephine-skriver.jpg',\n",
       " 'http://iv1.lisimg.com/image/11838869/740full-josephine-skriver.jpg',\n",
       " 'http://iv1.lisimg.com/image/11838866/740full-josephine-skriver.jpg',\n",
       " 'http://iv1.lisimg.com/image/11838865/740full-josephine-skriver.jpg',\n",
       " 'http://iv1.lisimg.com/image/11838863/740full-josephine-skriver.jpg',\n",
       " 'http://iv1.lisimg.com/image/11838872/740full-josephine-skriver.jpg',\n",
       " 'http://iv1.lisimg.com/image/11838871/740full-josephine-skriver.jpg',\n",
       " 'http://iv1.lisimg.com/image/11838870/740full-josephine-skriver.jpg',\n",
       " 'http://ilarge.lisimg.com/image/11847721/1024full-josephine-skriver.jpg',\n",
       " 'http://iv1.lisimg.com/image/11845156/640full-josephine-skriver.jpg',\n",
       " 'http://ilarge.lisimg.com/image/11841406/1080full-josephine-skriver.jpg',\n",
       " 'http://ilarge.lisimg.com/image/11847732/1080full-josephine-skriver.jpg',\n",
       " 'http://iv1.lisimg.com/image/11848583/740full-josephine-skriver.jpg',\n",
       " 'http://ilarge.lisimg.com/image/11850924/1080full-josephine-skriver.jpg',\n",
       " 'http://iv1.lisimg.com/image/11871221/740full-josephine-skriver.jpg',\n",
       " 'http://iv1.lisimg.com/image/11871220/740full-josephine-skriver.jpg',\n",
       " 'http://iv1.lisimg.com/image/11871218/740full-josephine-skriver.jpg',\n",
       " 'http://iv1.lisimg.com/image/11871232/740full-josephine-skriver.jpg',\n",
       " 'http://iv1.lisimg.com/image/11871227/740full-josephine-skriver.jpg',\n",
       " 'http://iv1.lisimg.com/image/11871235/740full-josephine-skriver.jpg',\n",
       " 'http://iv1.lisimg.com/image/11871234/740full-josephine-skriver.jpg',\n",
       " 'http://iv1.lisimg.com/image/11871233/740full-josephine-skriver.jpg',\n",
       " 'http://iv1.lisimg.com/image/11871241/740full-josephine-skriver.jpg',\n",
       " 'http://iv1.lisimg.com/image/11871252/740full-josephine-skriver.jpg',\n",
       " 'http://iv1.lisimg.com/image/11871251/740full-josephine-skriver.jpg',\n",
       " 'http://iv1.lisimg.com/image/11893357/740full-josephine-skriver.jpg',\n",
       " 'http://iv1.lisimg.com/image/11897119/740full-josephine-skriver.jpg',\n",
       " 'http://iv1.lisimg.com/image/11896342/740full-josephine-skriver.jpg',\n",
       " 'http://ilarge.lisimg.com/image/11895813/1080full-josephine-skriver.jpg',\n",
       " 'http://ilarge.lisimg.com/image/11895812/1080full-josephine-skriver.jpg',\n",
       " 'http://iv1.lisimg.com/image/11893333/740full-josephine-skriver.jpg',\n",
       " 'http://iv1.lisimg.com/image/11893306/740full-josephine-skriver.jpg',\n",
       " 'http://iv1.lisimg.com/image/11897124/740full-josephine-skriver.jpg',\n",
       " 'http://iv1.lisimg.com/image/11897123/740full-josephine-skriver.jpg',\n",
       " 'http://iv1.lisimg.com/image/11897120/740full-josephine-skriver.jpg',\n",
       " 'http://iv1.lisimg.com/image/11897122/740full-josephine-skriver.jpg',\n",
       " 'http://iv1.lisimg.com/image/11897121/740full-josephine-skriver.jpg',\n",
       " 'http://iv1.lisimg.com/image/11897128/740full-josephine-skriver.jpg',\n",
       " 'http://iv1.lisimg.com/image/11897127/740full-josephine-skriver.jpg',\n",
       " 'http://iv1.lisimg.com/image/11897126/740full-josephine-skriver.jpg',\n",
       " 'http://iv1.lisimg.com/image/11897125/740full-josephine-skriver.jpg',\n",
       " 'http://ilarge.lisimg.com/image/11899123/1080full-josephine-skriver.jpg',\n",
       " 'http://ilarge.lisimg.com/image/11900562/1080full-josephine-skriver.jpg',\n",
       " 'http://ilarge.lisimg.com/image/11900554/1080full-josephine-skriver.jpg',\n",
       " 'http://iv1.lisimg.com/image/11900525/740full-josephine-skriver.jpg',\n",
       " 'http://iv1.lisimg.com/image/11907025/740full-josephine-skriver.jpg',\n",
       " 'http://iv1.lisimg.com/image/11906992/740full-josephine-skriver.jpg',\n",
       " 'http://ilarge.lisimg.com/image/11906481/1080full-josephine-skriver.jpg',\n",
       " 'http://iv1.lisimg.com/image/11916544/740full-josephine-skriver.jpg',\n",
       " 'http://iv1.lisimg.com/image/11916543/740full-josephine-skriver.jpg',\n",
       " 'http://iv1.lisimg.com/image/11916542/740full-josephine-skriver.jpg',\n",
       " 'http://iv1.lisimg.com/image/11916541/740full-josephine-skriver.jpg',\n",
       " 'http://iv1.lisimg.com/image/11916540/740full-josephine-skriver.jpg',\n",
       " 'http://iv1.lisimg.com/image/11922423/740full-josephine-skriver.jpg',\n",
       " 'http://iv1.lisimg.com/image/11934368/740full-josephine-skriver.jpg',\n",
       " 'http://iv1.lisimg.com/image/11934367/740full-josephine-skriver.jpg',\n",
       " 'http://iv1.lisimg.com/image/11934366/740full-josephine-skriver.jpg',\n",
       " 'http://iv1.lisimg.com/image/11934364/740full-josephine-skriver.jpg',\n",
       " 'http://iv1.lisimg.com/image/11951670/740full-josephine-skriver.jpg',\n",
       " 'http://iv1.lisimg.com/image/11951676/740full-josephine-skriver.jpg',\n",
       " 'http://iv1.lisimg.com/image/11951675/740full-josephine-skriver.jpg',\n",
       " 'http://iv1.lisimg.com/image/11951674/740full-josephine-skriver.jpg',\n",
       " 'http://iv1.lisimg.com/image/11951673/740full-josephine-skriver.jpg',\n",
       " 'http://iv1.lisimg.com/image/11951672/740full-josephine-skriver.jpg',\n",
       " 'http://iv1.lisimg.com/image/11962924/740full-josephine-skriver.jpg',\n",
       " 'http://iv1.lisimg.com/image/11988154/740full-josephine-skriver.jpg',\n",
       " 'http://iv1.lisimg.com/image/11990341/740full-josephine-skriver.jpg',\n",
       " 'http://iv1.lisimg.com/image/11996750/740full-josephine-skriver.jpg',\n",
       " 'http://iv1.lisimg.com/image/11996752/740full-josephine-skriver.jpg',\n",
       " 'http://iv1.lisimg.com/image/12030313/740full-josephine-skriver.jpg',\n",
       " 'http://iv1.lisimg.com/image/12030317/740full-josephine-skriver.jpg',\n",
       " 'http://iv1.lisimg.com/image/12030316/740full-josephine-skriver.jpg',\n",
       " 'http://iv1.lisimg.com/image/12047034/740full-josephine-skriver.jpg',\n",
       " 'http://iv1.lisimg.com/image/12047480/740full-josephine-skriver.jpg',\n",
       " 'http://iv1.lisimg.com/image/12047479/740full-josephine-skriver.jpg',\n",
       " 'http://iv1.lisimg.com/image/12051016/740full-josephine-skriver.jpg',\n",
       " 'http://iv1.lisimg.com/image/12051015/740full-josephine-skriver.jpg',\n",
       " 'http://iv1.lisimg.com/image/12052212/740full-josephine-skriver.jpg',\n",
       " 'http://iv1.lisimg.com/image/12051014/740full-josephine-skriver.jpg',\n",
       " 'http://iv1.lisimg.com/image/12051017/740full-josephine-skriver.jpg',\n",
       " 'http://iv1.lisimg.com/image/12073963/740full-josephine-skriver.jpg',\n",
       " 'http://iv1.lisimg.com/image/12069627/740full-josephine-skriver.jpg',\n",
       " 'http://ilarge.lisimg.com/image/12112943/1118full-josephine-skriver.jpg',\n",
       " 'http://ilarge.lisimg.com/image/12112969/1118full-josephine-skriver.jpg',\n",
       " 'http://iv1.lisimg.com/image/12091575/740full-josephine-skriver.jpg',\n",
       " 'http://iv1.lisimg.com/image/12091352/740full-josephine-skriver.jpg',\n",
       " 'http://iv1.lisimg.com/image/12091351/740full-josephine-skriver.jpg',\n",
       " 'http://iv1.lisimg.com/image/12112863/740full-josephine-skriver.jpg',\n",
       " 'http://iv1.lisimg.com/image/12114550/740full-josephine-skriver.jpg',\n",
       " 'http://iv1.lisimg.com/image/12114549/740full-josephine-skriver.jpg',\n",
       " 'http://iv1.lisimg.com/image/12114548/740full-josephine-skriver.jpg',\n",
       " 'http://ilarge.lisimg.com/image/12112865/1080full-josephine-skriver.jpg',\n",
       " 'http://iv1.lisimg.com/image/12112864/740full-josephine-skriver.jpg',\n",
       " 'http://iv1.lisimg.com/image/12114558/740full-josephine-skriver.jpg',\n",
       " 'http://iv1.lisimg.com/image/12114557/740full-josephine-skriver.jpg',\n",
       " 'http://iv1.lisimg.com/image/12114556/740full-josephine-skriver.jpg',\n",
       " 'http://ilarge.lisimg.com/image/12127603/1118full-josephine-skriver.jpg',\n",
       " 'http://iv1.lisimg.com/image/12118828/740full-josephine-skriver.jpg',\n",
       " 'http://ilarge.lisimg.com/image/12788972/1080full-josephine-skriver.jpg',\n",
       " 'http://ilarge.lisimg.com/image/12808423/923full-josephine-skriver.jpg',\n",
       " 'http://iv1.lisimg.com/image/12881943/740full-josephine-skriver.jpg',\n",
       " 'http://iv1.lisimg.com/image/12881941/740full-josephine-skriver.jpg',\n",
       " 'http://iv1.lisimg.com/image/12881942/740full-josephine-skriver.jpg',\n",
       " 'http://iv1.lisimg.com/image/12881946/740full-josephine-skriver.jpg',\n",
       " 'http://iv1.lisimg.com/image/12881945/740full-josephine-skriver.jpg',\n",
       " 'http://iv1.lisimg.com/image/12881944/740full-josephine-skriver.jpg',\n",
       " 'http://ilarge.lisimg.com/image/12887756/1080full-josephine-skriver.jpg',\n",
       " 'http://iv1.lisimg.com/image/12909774/740full-josephine-skriver.jpg',\n",
       " 'http://iv1.lisimg.com/image/12958335/740full-josephine-skriver.jpg',\n",
       " 'http://iv1.lisimg.com/image/12957614/740full-josephine-skriver.jpg',\n",
       " 'http://iv1.lisimg.com/image/12959165/740full-josephine-skriver.jpg',\n",
       " 'http://iv1.lisimg.com/image/12959162/740full-josephine-skriver.jpg',\n",
       " 'http://iv1.lisimg.com/image/12959150/740full-josephine-skriver.jpg',\n",
       " 'http://iv1.lisimg.com/image/12959145/740full-josephine-skriver.jpg',\n",
       " 'http://iv1.lisimg.com/image/12959144/740full-josephine-skriver.jpg',\n",
       " 'http://iv1.lisimg.com/image/12959182/740full-josephine-skriver.jpg',\n",
       " 'http://iv1.lisimg.com/image/12959176/740full-josephine-skriver.jpg',\n",
       " 'http://iv1.lisimg.com/image/12959205/740full-josephine-skriver.jpg',\n",
       " 'http://iv1.lisimg.com/image/12959204/740full-josephine-skriver.jpg',\n",
       " 'http://iv1.lisimg.com/image/12959185/740full-josephine-skriver.jpg',\n",
       " 'http://iv1.lisimg.com/image/12959184/740full-josephine-skriver.jpg',\n",
       " 'http://iv1.lisimg.com/image/12959183/740full-josephine-skriver.jpg',\n",
       " 'http://iv1.lisimg.com/image/12959209/740full-josephine-skriver.jpg',\n",
       " 'http://iv1.lisimg.com/image/12959207/740full-josephine-skriver.jpg',\n",
       " 'http://iv1.lisimg.com/image/12959206/740full-josephine-skriver.jpg',\n",
       " 'http://iv1.lisimg.com/image/12959222/740full-josephine-skriver.jpg',\n",
       " 'http://iv1.lisimg.com/image/12959220/740full-josephine-skriver.jpg',\n",
       " 'http://iv1.lisimg.com/image/12959212/740full-josephine-skriver.jpg',\n",
       " 'http://iv1.lisimg.com/image/13056798/740full-josephine-skriver.jpg',\n",
       " 'http://ilarge.lisimg.com/image/13127288/1080full-josephine-skriver.jpg',\n",
       " 'http://iv1.lisimg.com/image/13200812/740full-josephine-skriver.jpg',\n",
       " 'http://iv1.lisimg.com/image/13200809/740full-josephine-skriver.jpg',\n",
       " 'http://iv1.lisimg.com/image/13269579/740full-josephine-skriver.jpg',\n",
       " 'http://iv1.lisimg.com/image/13269580/740full-josephine-skriver.jpg',\n",
       " 'http://iv1.lisimg.com/image/13086805/740full-josephine-skriver.jpg',\n",
       " 'http://iv1.lisimg.com/image/13200797/740full-josephine-skriver.jpg',\n",
       " 'http://iv1.lisimg.com/image/13200426/740full-josephine-skriver.jpg',\n",
       " 'http://iv1.lisimg.com/image/13200801/740full-josephine-skriver.jpg',\n",
       " 'http://iv1.lisimg.com/image/13200804/640full-josephine-skriver.jpg',\n",
       " 'http://iv1.lisimg.com/image/13377210/740full-josephine-skriver.jpg',\n",
       " 'http://iv1.lisimg.com/image/13377211/564full-josephine-skriver.jpg',\n",
       " 'http://iv1.lisimg.com/image/13469418/740full-josephine-skriver.jpg',\n",
       " 'http://iv1.lisimg.com/image/13469415/740full-josephine-skriver.jpg',\n",
       " 'http://iv1.lisimg.com/image/13469383/740full-josephine-skriver.jpg',\n",
       " 'http://iv1.lisimg.com/image/13469380/740full-josephine-skriver.jpg',\n",
       " 'http://iv1.lisimg.com/image/13480092/740full-josephine-skriver.jpg',\n",
       " 'http://iv1.lisimg.com/image/13522791/640full-josephine-skriver.jpg',\n",
       " 'http://ilarge.lisimg.com/image/13480140/1118full-josephine-skriver.jpg',\n",
       " 'http://iv1.lisimg.com/image/13480156/740full-josephine-skriver.jpg',\n",
       " 'http://iv1.lisimg.com/image/13480122/740full-josephine-skriver.jpg',\n",
       " 'http://iv1.lisimg.com/image/13480115/740full-josephine-skriver.jpg',\n",
       " 'http://iv1.lisimg.com/image/13480180/740full-josephine-skriver.jpg',\n",
       " 'http://iv1.lisimg.com/image/13480168/740full-josephine-skriver.jpg',\n",
       " 'http://iv1.lisimg.com/image/13657610/740full-josephine-skriver.jpg',\n",
       " 'http://iv1.lisimg.com/image/13666803/740full-josephine-skriver.jpg',\n",
       " 'http://iv1.lisimg.com/image/13666801/740full-josephine-skriver.jpg',\n",
       " 'http://iv1.lisimg.com/image/13666800/740full-josephine-skriver.jpg',\n",
       " 'http://iv1.lisimg.com/image/13666808/740full-josephine-skriver.jpg',\n",
       " 'http://iv1.lisimg.com/image/13666807/740full-josephine-skriver.jpg',\n",
       " 'http://iv1.lisimg.com/image/13666805/740full-josephine-skriver.jpg',\n",
       " 'http://iv1.lisimg.com/image/13666804/740full-josephine-skriver.jpg',\n",
       " 'http://iv1.lisimg.com/image/13666819/740full-josephine-skriver.jpg',\n",
       " 'http://iv1.lisimg.com/image/13666818/740full-josephine-skriver.jpg',\n",
       " 'http://iv1.lisimg.com/image/13666814/740full-josephine-skriver.jpg',\n",
       " 'http://iv1.lisimg.com/image/13666822/740full-josephine-skriver.jpg',\n",
       " 'http://iv1.lisimg.com/image/13666824/740full-josephine-skriver.jpg',\n",
       " 'http://iv1.lisimg.com/image/13681380/740full-josephine-skriver.jpg',\n",
       " 'http://iv1.lisimg.com/image/13678750/740full-josephine-skriver.jpg',\n",
       " 'http://iv1.lisimg.com/image/13678744/740full-josephine-skriver.jpg',\n",
       " 'http://iv1.lisimg.com/image/13678631/740full-josephine-skriver.jpg',\n",
       " 'http://iv1.lisimg.com/image/13676274/740full-josephine-skriver.jpg',\n",
       " 'http://iv1.lisimg.com/image/13681383/740full-josephine-skriver.jpg',\n",
       " 'http://iv1.lisimg.com/image/13681382/740full-josephine-skriver.jpg',\n",
       " 'http://iv1.lisimg.com/image/13681381/740full-josephine-skriver.jpg',\n",
       " 'http://iv1.lisimg.com/image/13679402/740full-josephine-skriver.jpg',\n",
       " 'http://iv1.lisimg.com/image/13681397/740full-josephine-skriver.jpg',\n",
       " 'http://iv1.lisimg.com/image/13681392/740full-josephine-skriver.jpg',\n",
       " 'http://iv1.lisimg.com/image/13681391/740full-josephine-skriver.jpg',\n",
       " 'http://iv1.lisimg.com/image/13681386/740full-josephine-skriver.jpg',\n",
       " 'http://iv1.lisimg.com/image/13681384/740full-josephine-skriver.jpg',\n",
       " 'http://iv1.lisimg.com/image/13681413/740full-josephine-skriver.jpg',\n",
       " 'http://iv1.lisimg.com/image/13681408/740full-josephine-skriver.jpg',\n",
       " 'http://iv1.lisimg.com/image/13681407/740full-josephine-skriver.jpg',\n",
       " 'http://iv1.lisimg.com/image/13681399/740full-josephine-skriver.jpg',\n",
       " 'http://iv1.lisimg.com/image/13681398/740full-josephine-skriver.jpg',\n",
       " 'http://iv1.lisimg.com/image/13681436/740full-josephine-skriver.jpg',\n",
       " 'http://iv1.lisimg.com/image/13681435/740full-josephine-skriver.jpg',\n",
       " 'http://iv1.lisimg.com/image/13681433/740full-josephine-skriver.jpg',\n",
       " 'http://iv1.lisimg.com/image/13681432/740full-josephine-skriver.jpg',\n",
       " 'http://iv1.lisimg.com/image/13681414/740full-josephine-skriver.jpg',\n",
       " 'http://iv1.lisimg.com/image/13681441/740full-josephine-skriver.jpg',\n",
       " 'http://iv1.lisimg.com/image/13681440/740full-josephine-skriver.jpg',\n",
       " 'http://iv1.lisimg.com/image/13681439/740full-josephine-skriver.jpg',\n",
       " 'http://iv1.lisimg.com/image/13681438/740full-josephine-skriver.jpg',\n",
       " 'http://iv1.lisimg.com/image/13681437/740full-josephine-skriver.jpg',\n",
       " 'http://iv1.lisimg.com/image/13681453/740full-josephine-skriver.jpg',\n",
       " 'http://iv1.lisimg.com/image/13681451/740full-josephine-skriver.jpg',\n",
       " 'http://iv1.lisimg.com/image/13681444/740full-josephine-skriver.jpg',\n",
       " 'http://iv1.lisimg.com/image/13681443/740full-josephine-skriver.jpg',\n",
       " 'http://iv1.lisimg.com/image/13681442/740full-josephine-skriver.jpg',\n",
       " 'http://iv1.lisimg.com/image/13681458/740full-josephine-skriver.jpg',\n",
       " 'http://iv1.lisimg.com/image/13681457/740full-josephine-skriver.jpg',\n",
       " 'http://iv1.lisimg.com/image/13681456/740full-josephine-skriver.jpg',\n",
       " 'http://iv1.lisimg.com/image/13681455/740full-josephine-skriver.jpg',\n",
       " 'http://iv1.lisimg.com/image/13681454/740full-josephine-skriver.jpg',\n",
       " 'http://iv1.lisimg.com/image/13681471/740full-josephine-skriver.jpg',\n",
       " 'http://iv1.lisimg.com/image/13681484/740full-josephine-skriver.jpg',\n",
       " 'http://iv1.lisimg.com/image/13681495/740full-josephine-skriver.jpg',\n",
       " 'http://iv1.lisimg.com/image/13681494/740full-josephine-skriver.jpg',\n",
       " 'http://iv1.lisimg.com/image/13681492/740full-josephine-skriver.jpg',\n",
       " 'http://iv1.lisimg.com/image/13681503/740full-josephine-skriver.jpg',\n",
       " 'http://iv1.lisimg.com/image/13681502/740full-josephine-skriver.jpg',\n",
       " 'http://iv1.lisimg.com/image/13681501/740full-josephine-skriver.jpg',\n",
       " 'http://iv1.lisimg.com/image/13681500/740full-josephine-skriver.jpg',\n",
       " 'http://iv1.lisimg.com/image/13681499/740full-josephine-skriver.jpg',\n",
       " 'http://iv1.lisimg.com/image/13681496/740full-josephine-skriver.jpg',\n",
       " 'http://iv1.lisimg.com/image/13681505/740full-josephine-skriver.jpg',\n",
       " 'http://iv1.lisimg.com/image/13681504/740full-josephine-skriver.jpg',\n",
       " 'http://iv1.lisimg.com/image/13681885/740full-josephine-skriver.jpg',\n",
       " 'http://iv1.lisimg.com/image/13681904/740full-josephine-skriver.jpg',\n",
       " 'http://iv1.lisimg.com/image/13681903/740full-josephine-skriver.jpg',\n",
       " 'http://ilarge.lisimg.com/image/13684068/1080full-josephine-skriver.jpg',\n",
       " 'http://iv1.lisimg.com/image/13684532/740full-josephine-skriver.jpg',\n",
       " 'http://ilarge.lisimg.com/image/13686626/1080full-josephine-skriver.jpg',\n",
       " 'http://ilarge.lisimg.com/image/13686617/1080full-josephine-skriver.jpg',\n",
       " 'http://iv1.lisimg.com/image/13684529/740full-josephine-skriver.jpg',\n",
       " 'http://iv1.lisimg.com/image/13684526/740full-josephine-skriver.jpg',\n",
       " 'http://iv1.lisimg.com/image/13684525/740full-josephine-skriver.jpg',\n",
       " 'http://iv1.lisimg.com/image/13684523/740full-josephine-skriver.jpg',\n",
       " 'http://iv1.lisimg.com/image/13698299/733full-josephine-skriver.jpg',\n",
       " 'http://iv1.lisimg.com/image/13698298/740full-josephine-skriver.jpg',\n",
       " 'http://ilarge.lisimg.com/image/13702367/1080full-josephine-skriver.jpg',\n",
       " 'http://iv1.lisimg.com/image/13702368/740full-josephine-skriver.jpg',\n",
       " 'http://iv1.lisimg.com/image/13707256/740full-josephine-skriver.jpg',\n",
       " 'http://iv1.lisimg.com/image/13707255/740full-josephine-skriver.jpg',\n",
       " 'http://iv1.lisimg.com/image/13721233/740full-josephine-skriver.jpg',\n",
       " 'http://iv1.lisimg.com/image/13721232/740full-josephine-skriver.jpg',\n",
       " 'http://iv1.lisimg.com/image/13724320/740full-josephine-skriver.jpg',\n",
       " 'http://iv1.lisimg.com/image/13738931/740full-josephine-skriver.jpg',\n",
       " 'http://iv1.lisimg.com/image/13737221/740full-josephine-skriver.jpg',\n",
       " 'http://iv1.lisimg.com/image/13774433/740full-josephine-skriver.jpg',\n",
       " 'http://iv1.lisimg.com/image/13760114/740full-josephine-skriver.jpg',\n",
       " 'http://iv1.lisimg.com/image/13774441/740full-josephine-skriver.jpg',\n",
       " 'http://iv1.lisimg.com/image/13774439/740full-josephine-skriver.jpg',\n",
       " 'http://iv1.lisimg.com/image/13774437/740full-josephine-skriver.jpg',\n",
       " 'http://iv1.lisimg.com/image/13774435/740full-josephine-skriver.jpg',\n",
       " 'http://iv1.lisimg.com/image/13781366/740full-josephine-skriver.jpg',\n",
       " 'http://iv1.lisimg.com/image/13781222/640full-josephine-skriver.jpg',\n",
       " 'http://iv1.lisimg.com/image/13774449/740full-josephine-skriver.jpg',\n",
       " 'http://iv1.lisimg.com/image/13799365/740full-josephine-skriver.jpg',\n",
       " 'http://iv1.lisimg.com/image/13785889/740full-josephine-skriver.jpg',\n",
       " 'http://iv1.lisimg.com/image/13785888/740full-josephine-skriver.jpg',\n",
       " 'http://iv1.lisimg.com/image/13785885/740full-josephine-skriver.jpg',\n",
       " 'http://iv1.lisimg.com/image/13812535/740full-josephine-skriver.jpg',\n",
       " 'http://iv1.lisimg.com/image/13835550/740full-josephine-skriver.jpg',\n",
       " 'http://iv1.lisimg.com/image/13817127/740full-josephine-skriver.jpg',\n",
       " 'http://iv1.lisimg.com/image/13841680/740full-josephine-skriver.jpg',\n",
       " 'http://iv1.lisimg.com/image/13841679/740full-josephine-skriver.jpg',\n",
       " 'http://iv1.lisimg.com/image/13841678/740full-josephine-skriver.jpg',\n",
       " 'http://iv1.lisimg.com/image/13841684/740full-josephine-skriver.jpg',\n",
       " 'http://iv1.lisimg.com/image/13841683/740full-josephine-skriver.jpg',\n",
       " 'http://iv1.lisimg.com/image/13841681/740full-josephine-skriver.jpg',\n",
       " 'http://iv1.lisimg.com/image/13841686/740full-josephine-skriver.jpg',\n",
       " 'http://iv1.lisimg.com/image/13863939/740full-josephine-skriver.jpg',\n",
       " 'http://iv1.lisimg.com/image/13863947/740full-josephine-skriver.jpg',\n",
       " 'http://iv1.lisimg.com/image/13863945/740full-josephine-skriver.jpg',\n",
       " 'http://iv1.lisimg.com/image/13863943/740full-josephine-skriver.jpg',\n",
       " 'http://iv1.lisimg.com/image/13863942/740full-josephine-skriver.jpg',\n",
       " 'http://iv1.lisimg.com/image/13863941/740full-josephine-skriver.jpg',\n",
       " 'http://iv1.lisimg.com/image/13866620/564full-josephine-skriver.jpg',\n",
       " 'http://iv1.lisimg.com/image/13863951/740full-josephine-skriver.jpg',\n",
       " 'http://iv1.lisimg.com/image/13863950/740full-josephine-skriver.jpg',\n",
       " 'http://iv1.lisimg.com/image/13873735/740full-josephine-skriver.jpg',\n",
       " 'http://iv1.lisimg.com/image/13881214/740full-josephine-skriver.jpg',\n",
       " 'http://iv1.lisimg.com/image/13881213/740full-josephine-skriver.jpg',\n",
       " 'http://iv1.lisimg.com/image/13878994/740full-josephine-skriver.jpg',\n",
       " 'http://ilarge.lisimg.com/image/13878313/1080full-josephine-skriver.jpg',\n",
       " 'http://iv1.lisimg.com/image/13881221/740full-josephine-skriver.jpg',\n",
       " 'http://iv1.lisimg.com/image/13881216/740full-josephine-skriver.jpg',\n",
       " 'http://iv1.lisimg.com/image/13881223/740full-josephine-skriver.jpg',\n",
       " 'http://iv1.lisimg.com/image/13881222/740full-josephine-skriver.jpg',\n",
       " 'http://iv1.lisimg.com/image/13889746/740full-josephine-skriver.jpg',\n",
       " 'http://iv1.lisimg.com/image/13901173/740full-josephine-skriver.jpg',\n",
       " 'http://ilarge.lisimg.com/image/13899689/1080full-josephine-skriver.jpg',\n",
       " 'http://iv1.lisimg.com/image/13929292/740full-josephine-skriver.jpg',\n",
       " 'http://iv1.lisimg.com/image/13929290/740full-josephine-skriver.jpg',\n",
       " 'http://iv1.lisimg.com/image/13926550/740full-josephine-skriver.jpg',\n",
       " 'http://iv1.lisimg.com/image/13926542/740full-josephine-skriver.jpg',\n",
       " 'http://ilarge.lisimg.com/image/13926533/759full-josephine-skriver.jpg',\n",
       " 'http://iv1.lisimg.com/image/13929294/740full-josephine-skriver.jpg',\n",
       " 'http://iv1.lisimg.com/image/13929345/740full-josephine-skriver.jpg',\n",
       " 'http://iv1.lisimg.com/image/13929340/740full-josephine-skriver.jpg',\n",
       " 'http://iv1.lisimg.com/image/13929315/740full-josephine-skriver.jpg',\n",
       " 'http://iv1.lisimg.com/image/13934853/740full-josephine-skriver.jpg',\n",
       " 'http://iv1.lisimg.com/image/13934851/740full-josephine-skriver.jpg',\n",
       " 'http://iv1.lisimg.com/image/13947992/740full-josephine-skriver.jpg',\n",
       " 'http://iv1.lisimg.com/image/13940718/740full-josephine-skriver.jpg',\n",
       " 'http://iv1.lisimg.com/image/13975770/740full-josephine-skriver.jpg',\n",
       " 'http://iv1.lisimg.com/image/14028855/740full-josephine-skriver.jpg',\n",
       " 'http://iv1.lisimg.com/image/14026724/740full-josephine-skriver.jpg',\n",
       " 'http://iv1.lisimg.com/image/14035836/740full-josephine-skriver.jpg',\n",
       " 'http://ilarge.lisimg.com/image/14039685/1118full-josephine-skriver.jpg',\n",
       " 'http://iv1.lisimg.com/image/14050274/740full-josephine-skriver.jpg',\n",
       " 'http://iv1.lisimg.com/image/14060148/740full-josephine-skriver.jpg',\n",
       " 'http://iv1.lisimg.com/image/14060153/740full-josephine-skriver.jpg',\n",
       " 'http://iv1.lisimg.com/image/14060152/740full-josephine-skriver.jpg',\n",
       " 'http://iv1.lisimg.com/image/14060151/740full-josephine-skriver.jpg',\n",
       " 'http://iv1.lisimg.com/image/14060150/740full-josephine-skriver.jpg',\n",
       " 'http://iv1.lisimg.com/image/14060149/740full-josephine-skriver.jpg',\n",
       " 'http://iv1.lisimg.com/image/14060157/740full-josephine-skriver.jpg',\n",
       " 'http://iv1.lisimg.com/image/14060156/740full-josephine-skriver.jpg',\n",
       " 'http://iv1.lisimg.com/image/14060155/740full-josephine-skriver.jpg',\n",
       " 'http://iv1.lisimg.com/image/14060154/740full-josephine-skriver.jpg',\n",
       " 'http://iv1.lisimg.com/image/14061454/740full-josephine-skriver.jpg',\n",
       " 'http://iv1.lisimg.com/image/14063044/740full-josephine-skriver.jpg',\n",
       " 'http://iv1.lisimg.com/image/14063043/740full-josephine-skriver.jpg',\n",
       " 'http://iv1.lisimg.com/image/14063042/740full-josephine-skriver.jpg',\n",
       " 'http://iv1.lisimg.com/image/14063041/740full-josephine-skriver.jpg',\n",
       " 'http://iv1.lisimg.com/image/14063049/740full-josephine-skriver.jpg',\n",
       " 'http://iv1.lisimg.com/image/14063048/740full-josephine-skriver.jpg',\n",
       " 'http://iv1.lisimg.com/image/14063047/740full-josephine-skriver.jpg',\n",
       " 'http://iv1.lisimg.com/image/14063046/740full-josephine-skriver.jpg',\n",
       " 'http://iv1.lisimg.com/image/14063045/740full-josephine-skriver.jpg',\n",
       " 'http://iv1.lisimg.com/image/14063186/740full-josephine-skriver.jpg',\n",
       " 'http://iv1.lisimg.com/image/14063185/740full-josephine-skriver.jpg',\n",
       " 'http://iv1.lisimg.com/image/14063052/740full-josephine-skriver.jpg',\n",
       " 'http://iv1.lisimg.com/image/14063051/740full-josephine-skriver.jpg',\n",
       " 'http://iv1.lisimg.com/image/14063050/740full-josephine-skriver.jpg',\n",
       " 'http://iv1.lisimg.com/image/14063187/740full-josephine-skriver.jpg',\n",
       " 'http://iv1.lisimg.com/image/14063246/740full-josephine-skriver.jpg',\n",
       " 'http://iv1.lisimg.com/image/14063245/740full-josephine-skriver.jpg',\n",
       " 'http://iv1.lisimg.com/image/14063257/740full-josephine-skriver.jpg',\n",
       " 'http://iv1.lisimg.com/image/14063256/740full-josephine-skriver.jpg',\n",
       " 'http://iv1.lisimg.com/image/14063249/740full-josephine-skriver.jpg',\n",
       " 'http://iv1.lisimg.com/image/14063248/740full-josephine-skriver.jpg',\n",
       " 'http://iv1.lisimg.com/image/14063247/740full-josephine-skriver.jpg',\n",
       " 'http://iv1.lisimg.com/image/14063262/740full-josephine-skriver.jpg',\n",
       " 'http://iv1.lisimg.com/image/14063261/740full-josephine-skriver.jpg',\n",
       " 'http://iv1.lisimg.com/image/14063260/740full-josephine-skriver.jpg',\n",
       " 'http://iv1.lisimg.com/image/14063259/740full-josephine-skriver.jpg',\n",
       " 'http://iv1.lisimg.com/image/14063258/740full-josephine-skriver.jpg',\n",
       " 'http://iv1.lisimg.com/image/14071644/740full-josephine-skriver.jpg',\n",
       " 'http://iv1.lisimg.com/image/14077774/740full-josephine-skriver.jpg',\n",
       " 'http://iv1.lisimg.com/image/14081784/740full-josephine-skriver.jpg',\n",
       " 'http://iv1.lisimg.com/image/14081706/740full-josephine-skriver.jpg',\n",
       " 'http://iv1.lisimg.com/image/14090496/740full-josephine-skriver.jpg',\n",
       " 'http://iv1.lisimg.com/image/14090495/740full-josephine-skriver.jpg',\n",
       " 'http://ilarge.lisimg.com/image/14083886/1080full-josephine-skriver.jpg',\n",
       " 'http://iv1.lisimg.com/image/14083798/740full-josephine-skriver.jpg',\n",
       " 'http://iv1.lisimg.com/image/14082156/740full-josephine-skriver.jpg',\n",
       " 'http://iv1.lisimg.com/image/14110195/740full-josephine-skriver.jpg',\n",
       " 'http://iv1.lisimg.com/image/14110199/740full-josephine-skriver.jpg',\n",
       " 'http://iv1.lisimg.com/image/14110198/740full-josephine-skriver.jpg',\n",
       " 'http://iv1.lisimg.com/image/14117549/740full-josephine-skriver.jpg',\n",
       " 'http://iv1.lisimg.com/image/14117555/740full-josephine-skriver.jpg',\n",
       " 'http://iv1.lisimg.com/image/14117554/740full-josephine-skriver.jpg',\n",
       " 'http://iv1.lisimg.com/image/14117553/740full-josephine-skriver.jpg',\n",
       " 'http://iv1.lisimg.com/image/14117552/740full-josephine-skriver.jpg',\n",
       " 'http://iv1.lisimg.com/image/14117551/740full-josephine-skriver.jpg',\n",
       " 'http://iv1.lisimg.com/image/14117560/740full-josephine-skriver.jpg',\n",
       " 'http://iv1.lisimg.com/image/14117559/740full-josephine-skriver.jpg',\n",
       " 'http://iv1.lisimg.com/image/14117558/740full-josephine-skriver.jpg',\n",
       " 'http://iv1.lisimg.com/image/14117557/740full-josephine-skriver.jpg',\n",
       " 'http://iv1.lisimg.com/image/14117556/740full-josephine-skriver.jpg',\n",
       " 'http://iv1.lisimg.com/image/14117565/740full-josephine-skriver.jpg',\n",
       " 'http://iv1.lisimg.com/image/14117564/740full-josephine-skriver.jpg',\n",
       " 'http://iv1.lisimg.com/image/14117563/740full-josephine-skriver.jpg',\n",
       " 'http://iv1.lisimg.com/image/14117562/740full-josephine-skriver.jpg',\n",
       " 'http://iv1.lisimg.com/image/14117561/740full-josephine-skriver.jpg',\n",
       " 'http://iv1.lisimg.com/image/14117570/740full-josephine-skriver.jpg',\n",
       " 'http://iv1.lisimg.com/image/14117569/740full-josephine-skriver.jpg',\n",
       " 'http://iv1.lisimg.com/image/14117568/740full-josephine-skriver.jpg',\n",
       " 'http://iv1.lisimg.com/image/14117567/740full-josephine-skriver.jpg',\n",
       " 'http://iv1.lisimg.com/image/14117566/740full-josephine-skriver.jpg',\n",
       " 'http://iv1.lisimg.com/image/14117575/740full-josephine-skriver.jpg',\n",
       " 'http://iv1.lisimg.com/image/14117574/740full-josephine-skriver.jpg',\n",
       " 'http://iv1.lisimg.com/image/14117572/740full-josephine-skriver.jpg',\n",
       " 'http://iv1.lisimg.com/image/14135940/740full-josephine-skriver.jpg',\n",
       " 'http://iv1.lisimg.com/image/14135949/740full-josephine-skriver.jpg',\n",
       " 'http://iv1.lisimg.com/image/14135948/740full-josephine-skriver.jpg',\n",
       " 'http://iv1.lisimg.com/image/14135947/740full-josephine-skriver.jpg',\n",
       " 'http://iv1.lisimg.com/image/14135944/740full-josephine-skriver.jpg',\n",
       " 'http://iv1.lisimg.com/image/14135941/740full-josephine-skriver.jpg',\n",
       " 'http://iv1.lisimg.com/image/14135957/740full-josephine-skriver.jpg',\n",
       " 'http://iv1.lisimg.com/image/14135953/740full-josephine-skriver.jpg',\n",
       " 'http://iv1.lisimg.com/image/14135952/740full-josephine-skriver.jpg',\n",
       " 'http://iv1.lisimg.com/image/14136783/740full-josephine-skriver.jpg',\n",
       " 'http://iv1.lisimg.com/image/14135959/740full-josephine-skriver.jpg',\n",
       " 'http://iv1.lisimg.com/image/14135958/740full-josephine-skriver.jpg',\n",
       " 'http://iv1.lisimg.com/image/14136847/740full-josephine-skriver.jpg',\n",
       " 'http://iv1.lisimg.com/image/14142172/740full-josephine-skriver.jpg',\n",
       " 'http://iv1.lisimg.com/image/14142171/740full-josephine-skriver.jpg',\n",
       " 'http://iv1.lisimg.com/image/14142169/740full-josephine-skriver.jpg']"
      ]
     },
     "execution_count": 23,
     "metadata": {},
     "output_type": "execute_result"
    }
   ],
   "source": [
    "image"
   ]
  },
  {
   "cell_type": "code",
   "execution_count": 29,
   "metadata": {},
   "outputs": [
    {
     "data": {
      "text/plain": [
       "u'http://i.listal.com/limages/header/listallogo.png'"
      ]
     },
     "execution_count": 29,
     "metadata": {},
     "output_type": "execute_result"
    }
   ],
   "source": [
    "elems.get_attribute(\"src\")"
   ]
  },
  {
   "cell_type": "code",
   "execution_count": 31,
   "metadata": {
    "collapsed": true
   },
   "outputs": [],
   "source": [
    "re = driver.find_element_by_class_name(\"pure-img\")"
   ]
  },
  {
   "cell_type": "code",
   "execution_count": 32,
   "metadata": {},
   "outputs": [
    {
     "data": {
      "text/plain": [
       "u'http://iv1.lisimg.com/image/3856536/740full-doutzen-kroes.jpg'"
      ]
     },
     "execution_count": 32,
     "metadata": {},
     "output_type": "execute_result"
    }
   ],
   "source": [
    "re.get_attribute(\"src\")"
   ]
  },
  {
   "cell_type": "code",
   "execution_count": 58,
   "metadata": {
    "collapsed": true
   },
   "outputs": [],
   "source": [
    "driver.close()"
   ]
  },
  {
   "cell_type": "code",
   "execution_count": 24,
   "metadata": {
    "collapsed": true
   },
   "outputs": [],
   "source": [
    "with open(\"image_Josephine.txt\", \"w\") as f:\n",
    "    for img in image:\n",
    "        f.write(img)\n",
    "        f.write('\\n')\n",
    "    f.close()"
   ]
  },
  {
   "cell_type": "code",
   "execution_count": 16,
   "metadata": {},
   "outputs": [],
   "source": [
    "from selenium.common.exceptions import NoSuchElementException\n",
    "import time\n",
    "\n",
    "flag = True\n",
    "while (flag == True):\n",
    "    try:\n",
    "        driver.execute_script(\"window.scrollTo(0, (document.body.scrollHeight - 2500));\")\n",
    "        time.sleep(10)\n",
    "        re = driver.find_element_by_class_name(\"loadmoreitems\")\n",
    "        re.click()\n",
    "    except NoSuchElementException:\n",
    "        flag = False"
   ]
  },
  {
   "cell_type": "code",
   "execution_count": 1,
   "metadata": {
    "collapsed": true
   },
   "outputs": [],
   "source": [
    "from selenium import webdriver\n",
    "\n",
    "firefox_profile = webdriver.FirefoxProfile()\n",
    "firefox_profile.set_preference('permissions.default.stylesheet', 2)\n",
    "firefox_profile.set_preference('permissions.default.image', 2)\n",
    "firefox_profile.set_preference('dom.ipc.plugins.enabled.libflashplayer.so', 'false')\n",
    "\n",
    "driver = webdriver.Firefox(executable_path=\"C:\\Users\\huyru\\Downloads\\Compressed\\geckodriver-v0.19.1-win64\\geckodriver\", firefox_profile=firefox_profile)\n",
    "driver.get('https://backend.homeblockcoin.com/backoffice/?next=/finances/ico/')"
   ]
  },
  {
   "cell_type": "code",
   "execution_count": 4,
   "metadata": {
    "collapsed": true
   },
   "outputs": [],
   "source": [
    "try:\n",
    "    re = driver.find_element_by_id(\"id_username\")\n",
    "    re.send_keys(\"huyrua291996\")\n",
    "    re = driver.find_element_by_id(\"id_password\")\n",
    "    re.send_keys(\"nguyenngochuy\")\n",
    "    re = driver.find_element_by_class_name(\"btn btn-primary\")\n",
    "    re.click()\n",
    "except:\n",
    "    pass"
   ]
  },
  {
   "cell_type": "code",
   "execution_count": null,
   "metadata": {
    "collapsed": true
   },
   "outputs": [],
   "source": []
  }
 ],
 "metadata": {
  "kernelspec": {
   "display_name": "Python 3",
   "language": "python",
   "name": "python3"
  },
  "language_info": {
   "codemirror_mode": {
    "name": "ipython",
    "version": 3
   },
   "file_extension": ".py",
   "mimetype": "text/x-python",
   "name": "python",
   "nbconvert_exporter": "python",
   "pygments_lexer": "ipython3",
   "version": "3.5.3"
  }
 },
 "nbformat": 4,
 "nbformat_minor": 2
}
