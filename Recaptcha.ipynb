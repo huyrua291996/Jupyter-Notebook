{
 "cells": [
  {
   "cell_type": "code",
   "execution_count": 3,
   "metadata": {},
   "outputs": [],
   "source": [
    "from selenium import webdriver"
   ]
  },
  {
   "cell_type": "code",
   "execution_count": 4,
   "metadata": {},
   "outputs": [],
   "source": [
    "driver = webdriver.Firefox(executable_path=\"C:\\Users\\huyru\\Downloads\\Compressed\\geckodriver-v0.19.1-win64\\geckodriver\")"
   ]
  },
  {
   "cell_type": "code",
   "execution_count": 38,
   "metadata": {},
   "outputs": [],
   "source": [
    "driver.get('https://backend.homeblockcoin.com/backoffice/?next=/finances/ico/')"
   ]
  },
  {
   "cell_type": "code",
   "execution_count": 39,
   "metadata": {},
   "outputs": [],
   "source": [
    "captcha_frame = driver.find_element_by_css_selector('iframe[src*=\"api2/anchor\"]')"
   ]
  },
  {
   "cell_type": "code",
   "execution_count": 40,
   "metadata": {},
   "outputs": [],
   "source": [
    "driver.switch_to_frame(captcha_frame)"
   ]
  },
  {
   "cell_type": "code",
   "execution_count": 41,
   "metadata": {},
   "outputs": [],
   "source": [
    "driver.find_element_by_css_selector('.recaptcha-checkbox-checkmark').click()"
   ]
  },
  {
   "cell_type": "code",
   "execution_count": 42,
   "metadata": {},
   "outputs": [],
   "source": [
    "driver.switch_to_default_content()"
   ]
  },
  {
   "cell_type": "code",
   "execution_count": 43,
   "metadata": {},
   "outputs": [],
   "source": [
    "import time"
   ]
  },
  {
   "cell_type": "code",
   "execution_count": 44,
   "metadata": {},
   "outputs": [],
   "source": [
    "#while 1:\n",
    "#try:\n",
    "image_frame = driver.find_element_by_css_selector('iframe[src*=\"api2/bframe\"]')\n",
    "#except:\n",
    "    #time.sleep(1)\n",
    "   \n",
    "\n",
    "#driver.switch_to_frame(image_frame)\n"
   ]
  },
  {
   "cell_type": "code",
   "execution_count": 1,
   "metadata": {},
   "outputs": [],
   "source": [
    "import re, csv\n",
    "from time import sleep, time\n",
    "from random import uniform, randint\n",
    "from selenium import webdriver\n",
    "from selenium.webdriver.common.by import By\n",
    "from selenium.webdriver.support.wait import WebDriverWait\n",
    "from selenium.webdriver.common.action_chains import ActionChains\n",
    "from selenium.webdriver.support import expected_conditions as EC\n",
    "from selenium.common.exceptions import NoSuchElementException  "
   ]
  },
  {
   "cell_type": "code",
   "execution_count": 4,
   "metadata": {},
   "outputs": [],
   "source": [
    "def write_stat(loops, time):\n",
    "\twith open('stat.csv', 'a', newline='') as csvfile:\n",
    "\t\tspamwriter = csv.writer(csvfile, delimiter=',',\n",
    "\t\t\t\t\t\t\t\tquotechar='\"', quoting=csv.QUOTE_MINIMAL)\n",
    "\t\tspamwriter.writerow([loops, time])  \t \n",
    "\t\n",
    "def check_exists_by_xpath(xpath):\n",
    "    try:\n",
    "        driver.find_element_by_xpath(xpath)\n",
    "    except NoSuchElementException:\n",
    "        return False\n",
    "    return True\n",
    "\t\n",
    "def wait_between(a,b):\n",
    "\trand=uniform(a, b) \n",
    "\tsleep(rand)\n",
    " \n",
    "\n",
    "def dimention(driver): \n",
    "\td = int(driver.find_element_by_xpath('//div[@id=\"rc-imageselect-target\"]/table').get_attribute(\"class\")[-1]);\n",
    "\treturn d if d else 3  # dimention is 3 by default\n",
    "\t\n",
    "# ***** main procedure to identify and submit picture solution\t\n",
    "def solve_images(driver):\t\n",
    "\tWebDriverWait(driver, 10).until(\n",
    "        EC.presence_of_element_located((By.ID ,\"rc-imageselect-target\"))\n",
    "        ) \t\t\n",
    "\tdim = dimention(driver)\t\n",
    "\t# ****************** check if there is a clicked tile ******************\n",
    "\tif check_exists_by_xpath('//div[@id=\"rc-imageselect-target\"]/table/tbody/tr/td[@class=\"rc-imageselect-tileselected\"]'):\n",
    "\t\trand2 = 0\n",
    "\telse:  \n",
    "\t\trand2 = 1 \n",
    "\n",
    "\t# wait before click on tiles \t\n",
    "\twait_between(0.5, 1.0)\t\t \n",
    "\t# ****************** click on a tile ****************** \n",
    "\ttile1 = WebDriverWait(driver, 10).until(\n",
    "        EC.element_to_be_clickable((By.XPATH ,   '//div[@id=\"rc-imageselect-target\"]/table/tbody/tr[{0}]/td[{1}]'.format(randint(1, dim), randint(1, dim )))) \n",
    "\t\t)   \n",
    "\ttile1.click() \n",
    "\tif (rand2):\n",
    "\t\ttry:\n",
    "\t\t\tdriver.find_element_by_xpath('//div[@id=\"rc-imageselect-target\"]/table/tbody/tr[{0}]/td[{1}]'.format(randint(1, dim), randint(1, dim))).click()\n",
    "\t\texcept NoSuchElementException:          \t\t\n",
    "\t\t    print('\\n\\r No Such Element Exception for finding 2nd tile')"
   ]
  },
  {
   "cell_type": "code",
   "execution_count": 45,
   "metadata": {},
   "outputs": [],
   "source": [
    "driver.switch_to_frame(image_frame)"
   ]
  },
  {
   "cell_type": "code",
   "execution_count": 47,
   "metadata": {},
   "outputs": [
    {
     "name": "stdout",
     "output_type": "stream",
     "text": [
      "https://www.google.com/recaptcha/api2/payload?c=03AHhf_50b8G2RIx2pKS9J3ylntolY0Z95NHr5bO05a3NxVmwC7lGh5M3k7Dj21SYbSTw0y0mUJvN006nG-qeRHX8vkj6SoLLtAY_96X54cDYcfwWoNSTyvYU-MzHw9fDnRoV_GBHgDv2kIKgpiA1lPI2MfEMaIEvPNCo5eWcR-dqYI1R5gdJ1nj4IyMHgVm3sdt3Hr4pX0VSkSFipKVGfYsJklOHEN-mDAueen6Q3GAhrDL52LWG7YEeX2wdtzPbSJkuZechXFSfb1-mvfWRfHmKJ8CecQNYsedH18ogHIVYBaP1NQ3J6mypZPCKcVDalTks3BGeNqhESLJ6T8Qt2jN-RvQZlW5urRsjGTX3HxvRboTuThWzQUHVaZ00uh8zCKU5AriLCqBP-IKzJ3PbKhbmolE8xoULxE46MvBg6Q6sGzMwVf0rBn2hiHlQwaREhgbAblWIxoyOemD3tktlwzHFYOp5h8UVKnPeWgOoSGz_9VuBgZBX3NATtphXOfKnEVsRuy_rGfWKksn351z0Xq0-YWiyia3VVyMa72TfIDNGYNPM0tC3trgJp2_xc13PJ5yX6T0DocV7wr47WCPdPC7ocd0bafBElPTyIy8Pbfo0QNMYuSyQOn33r7sgcKTDaeoAK6XcemXXCpuhVBm0OjyTUkGsmHigNZAz5mFJS5OpoUlmsgFWc9kQqsCRO6QI2MDUTaBdpz4jfcYHshvh7FQweOaCW-G-rx4vYnU3BIPRBj9_I_4jQ6A6DVa0MfCR41ZFyg3ZcAlbH03MfaOzQLL7L8I7RW806dEmCJAzplxfRZkS-0dJDkxFPMzR2NHvjgHageRPC_JWBsWag93Y10PG5Eoe0PL35HEznt3ZEY-Vf4kcnr90Zb_DX7p_orBP3sbYe8py_aTObO4sy0CoyiR-UM82WdT3QeCNG-FngkXjFjw-yRAv5OLncHf688WLiuY5kqc0BAM4NfV-37jFiBGuXTJjBtkt25IrDBZzOP_Fw1rH1dh81dwGvwOBeiuoPnqgGDAFXgJdZHWkFLpTvaAGUi_4FrJmX4EEvHIsgekwBttoTJQNk_Tme8X6bRVk7jU6VS44zQlUWEypxjLUXyalRNjvantRnpf96W5eNeLIexG1jH8XDPMh-gYCiPwBrrFccfQqDCNf0TBEHtiOAglXCS_UgFuavcGQASyORxdx9ruAVeUAQ0VMVNpA4uWoRoyleGfKzKi_OWguVJP0Ja6PLK7rggIbgHeJ5yDqmWLNq9vVYkIxDY9LMuu-jRyYqnJ1MaEgabxTrBL3EMYiE-0M4lMgrayWAscKSyb4-KUOevNuLtCbeV9QsDaDte1GcE_5entbAnaP5XpqJ1aopjHBXtWClXgJmGyxO6O1zfC7L2siQ14lvNUKzJ6igC2zfHaYXmI6s_ZopI8pJEHh94IWgjkDcfah3AHSVaPwYsX78Yed60lVDx0OLH7QiBf25hQ2Zvvw59heEYYyZE0s7zYOQ3_SNKacmOqiCxnw5RTdTtZI3W2xocq9TOB2sUes1VRCtihp6UmDZISRl-2UbqRADOuRS0S5RusznQTVmi7EwdOs3KFsvqUNFLkjcmprKPYQBRZ3H6lNIo0Viot215oip1-hCuAFvhpo2Gr0OHckmDkg383QgW2XuYnolVU9ZcyaBifDCd1FqAeTSiKTsfkf6Lkbi2AgdWTVemSoZN16tqNRHKYVctIVpzmYyJED8f7cqZj6QKoy_XTCUQBjLiKFVOjzoZ2zvsHqt3kn5uBE25NIT5n9pVwpmK50pRI8IARsruwsxW824zH-6Sk_XLNYkZmH1LHkHCOE8Xi2e_mlvGQHiqrrCSekV3LUkg2A22ZhaueqVGx4N4IkclUOrs0PXskly55IiJoqJ0w8MT2twAy0855NVCjBYhrSvxpScFDFNKGBJ2i7jDmd7yi1NY5VQLbKQqx3atbh6ToFsNz7BOpfzUotrSPB6dt2V51dCAdcDuPWoawY97tJ185rizOA2ILP684_WQ38SxTakc3FjJ6wkNzbnuK9DcvpuNpWy3hF3egZEYsPHguXIXqc0vONzC9Q2H3IV_MsnF9ckwDBT8ZCV63zTUnco2TEjBwpNAR3YvYclQ_SOegSYIyyXcaDuKmW8J1ONsA&k=6LeY-TUUAAAAAHgyjjSk0PH3KEI5ioZnsEFkUSfX\n",
      "Select all images with\n",
      "cars\n",
      "Click verify once there are none left\n",
      "6\n"
     ]
    }
   ],
   "source": [
    "time.sleep(2)\n",
    "\n",
    "images = driver.find_element_by_css_selector('img.rc-image-tile-33')\n",
    "buttons = driver.find_elements_by_css_selector('table.rc-imageselect-table-33 td')\n",
    "verify_button = driver.find_element_by_css_selector('#recaptcha-verify-button')\n",
    "try:\n",
    "    instructions = driver.find_element_by_css_selector('.rc-imageselect-desc')\n",
    "except:\n",
    "    instructions = driver.find_element_by_css_selector('.rc-imageselect-desc-no-canonical')\n",
    "\n",
    "print(images.get_attribute('src'))\n",
    "print(instructions.text)\n",
    "\n",
    "inputs = map(lambda x: int(x.strip()) - 1, raw_input().split(','))\n",
    "\n",
    "for index in inputs:\n",
    "    buttons[index].click()\n",
    "\n",
    "verify_button.click()\n"
   ]
  },
  {
   "cell_type": "code",
   "execution_count": null,
   "metadata": {},
   "outputs": [],
   "source": []
  }
 ],
 "metadata": {
  "kernelspec": {
   "display_name": "Python 2",
   "language": "python",
   "name": "python2"
  },
  "language_info": {
   "codemirror_mode": {
    "name": "ipython",
    "version": 2
   },
   "file_extension": ".py",
   "mimetype": "text/x-python",
   "name": "python",
   "nbconvert_exporter": "python",
   "pygments_lexer": "ipython2",
   "version": "2.7.14"
  }
 },
 "nbformat": 4,
 "nbformat_minor": 2
}
