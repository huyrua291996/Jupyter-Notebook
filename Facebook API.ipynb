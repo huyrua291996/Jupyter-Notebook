{
 "cells": [
  {
   "cell_type": "markdown",
   "metadata": {},
   "source": [
    "# Auto addfriend in group facebook"
   ]
  },
  {
   "cell_type": "markdown",
   "metadata": {},
   "source": [
    "* Use facebook-api\n",
    "* Find group-id by search?q={name}type=group\n",
    "* Find all members of group\n",
    "* Get member id to add friend"
   ]
  },
  {
   "cell_type": "code",
   "execution_count": 10,
   "metadata": {
    "collapsed": true
   },
   "outputs": [],
   "source": [
    "import requests\n",
    "objects = \"search?q=kdtndktdk59&type=group&\"\n",
    "access_token = \"EAAE8sPjDr74BAN8uRVDeuURMPSPnJAwBxdbhKCaVfhF3ABFLlK3CP04fT0eJH0AyBVZCChfPG6nHYNTyIFT36qZBRqozZCTCZCrU6lozTH0QhZBLarKUefZCAxSIVtBc2tOr5WlHTdZCcQiY8BmtqgOPxZBIzONo2bHDiAzLvfhp3ZBzOVQbDAh5fDlsE8cKowidF8BVZCkh3qSgZDZD\""
   ]
  },
  {
   "cell_type": "code",
   "execution_count": 11,
   "metadata": {
    "collapsed": true
   },
   "outputs": [],
   "source": [
    "re = requests.get(\"https://graph.facebook.com/{}access_token={}\".format(objects, access_token))"
   ]
  },
  {
   "cell_type": "code",
   "execution_count": 21,
   "metadata": {
    "collapsed": true
   },
   "outputs": [],
   "source": [
    "group_json = re.text"
   ]
  },
  {
   "cell_type": "code",
   "execution_count": 24,
   "metadata": {
    "collapsed": true
   },
   "outputs": [],
   "source": [
    "import json"
   ]
  },
  {
   "cell_type": "code",
   "execution_count": 25,
   "metadata": {
    "collapsed": true
   },
   "outputs": [],
   "source": [
    "group_json = json.loads(group_json)"
   ]
  },
  {
   "cell_type": "code",
   "execution_count": 32,
   "metadata": {
    "collapsed": true
   },
   "outputs": [],
   "source": [
    "data = (group_json['data'])"
   ]
  },
  {
   "cell_type": "code",
   "execution_count": 38,
   "metadata": {
    "collapsed": true
   },
   "outputs": [],
   "source": [
    "id_text = data[0]['id']"
   ]
  },
  {
   "cell_type": "code",
   "execution_count": 39,
   "metadata": {
    "collapsed": true
   },
   "outputs": [],
   "source": [
    "id_text = str(id_text)"
   ]
  },
  {
   "cell_type": "code",
   "execution_count": 41,
   "metadata": {},
   "outputs": [
    {
     "name": "stdout",
     "output_type": "stream",
     "text": [
      "271318539695177\n"
     ]
    },
    {
     "data": {
      "text/plain": [
       "'271318539695177'"
      ]
     },
     "execution_count": 41,
     "metadata": {},
     "output_type": "execute_result"
    }
   ],
   "source": [
    "print(id_text)\n",
    "id_text"
   ]
  },
  {
   "cell_type": "code",
   "execution_count": 48,
   "metadata": {
    "collapsed": true
   },
   "outputs": [],
   "source": [
    "objects = id_text + \"/members?\""
   ]
  },
  {
   "cell_type": "code",
   "execution_count": 49,
   "metadata": {
    "collapsed": true
   },
   "outputs": [],
   "source": [
    "re = requests.get(\"https://graph.facebook.com/{}access_token={}\".format(objects, access_token))"
   ]
  },
  {
   "cell_type": "code",
   "execution_count": 51,
   "metadata": {
    "collapsed": true
   },
   "outputs": [],
   "source": [
    "members_json = re.text"
   ]
  },
  {
   "cell_type": "code",
   "execution_count": 53,
   "metadata": {
    "collapsed": true
   },
   "outputs": [],
   "source": [
    "members_json = json.loads(members_json)"
   ]
  },
  {
   "cell_type": "code",
   "execution_count": 62,
   "metadata": {
    "collapsed": true
   },
   "outputs": [],
   "source": [
    "next_link = members_json['paging']"
   ]
  },
  {
   "cell_type": "code",
   "execution_count": 64,
   "metadata": {
    "collapsed": true
   },
   "outputs": [],
   "source": [
    "next_link = str(next_link['next'])"
   ]
  },
  {
   "cell_type": "code",
   "execution_count": 65,
   "metadata": {
    "collapsed": true
   },
   "outputs": [],
   "source": [
    "re = requests.get(next_link)"
   ]
  },
  {
   "cell_type": "code",
   "execution_count": 66,
   "metadata": {
    "collapsed": true
   },
   "outputs": [],
   "source": [
    "members_json2 = re.text"
   ]
  },
  {
   "cell_type": "code",
   "execution_count": 67,
   "metadata": {
    "collapsed": true
   },
   "outputs": [],
   "source": [
    "members_json2 = json.loads(members_json2)"
   ]
  },
  {
   "cell_type": "code",
   "execution_count": 75,
   "metadata": {},
   "outputs": [
    {
     "name": "stdout",
     "output_type": "stream",
     "text": [
      "654813151574196\n",
      "1139476009519584\n",
      "1916953581958929\n",
      "508385019523993\n",
      "1151553698281627\n",
      "1262008907278038\n",
      "1955268608028778\n",
      "1471938876256613\n",
      "881605398665460\n",
      "686934541516046\n",
      "1991487034470205\n",
      "1964314640524641\n",
      "2016425028646027\n",
      "898594086981225\n",
      "1073788466091435\n",
      "753721774812737\n",
      "1588931697831368\n",
      "1239356589503108\n",
      "1321797637931128\n",
      "1465586993548166\n",
      "1347305968713288\n",
      "1056623937813324\n",
      "1989774124570992\n",
      "1475062362638185\n",
      "919666651515503\n"
     ]
    }
   ],
   "source": [
    "member_id = []\n",
    "for member in members_json['data']:\n",
    "    print(member['id'])\n",
    "    member_id.append(str(member['id']))"
   ]
  },
  {
   "cell_type": "code",
   "execution_count": 76,
   "metadata": {},
   "outputs": [
    {
     "data": {
      "text/plain": [
       "['654813151574196',\n",
       " '1139476009519584',\n",
       " '1916953581958929',\n",
       " '508385019523993',\n",
       " '1151553698281627',\n",
       " '1262008907278038',\n",
       " '1955268608028778',\n",
       " '1471938876256613',\n",
       " '881605398665460',\n",
       " '686934541516046',\n",
       " '1991487034470205',\n",
       " '1964314640524641',\n",
       " '2016425028646027',\n",
       " '898594086981225',\n",
       " '1073788466091435',\n",
       " '753721774812737',\n",
       " '1588931697831368',\n",
       " '1239356589503108',\n",
       " '1321797637931128',\n",
       " '1465586993548166',\n",
       " '1347305968713288',\n",
       " '1056623937813324',\n",
       " '1989774124570992',\n",
       " '1475062362638185',\n",
       " '919666651515503']"
      ]
     },
     "execution_count": 76,
     "metadata": {},
     "output_type": "execute_result"
    }
   ],
   "source": [
    "member_id"
   ]
  },
  {
   "cell_type": "code",
   "execution_count": 77,
   "metadata": {},
   "outputs": [
    {
     "name": "stdout",
     "output_type": "stream",
     "text": [
      "1514735005277350\n",
      "1988301381409475\n",
      "980004112137284\n"
     ]
    }
   ],
   "source": [
    "for member in members_json2['data']:\n",
    "    print(member['id'])\n",
    "    member_id.append(str(member['id']))"
   ]
  },
  {
   "cell_type": "code",
   "execution_count": 79,
   "metadata": {},
   "outputs": [
    {
     "data": {
      "text/plain": [
       "['654813151574196',\n",
       " '1139476009519584',\n",
       " '1916953581958929',\n",
       " '508385019523993',\n",
       " '1151553698281627',\n",
       " '1262008907278038',\n",
       " '1955268608028778',\n",
       " '1471938876256613',\n",
       " '881605398665460',\n",
       " '686934541516046',\n",
       " '1991487034470205',\n",
       " '1964314640524641',\n",
       " '2016425028646027',\n",
       " '898594086981225',\n",
       " '1073788466091435',\n",
       " '753721774812737',\n",
       " '1588931697831368',\n",
       " '1239356589503108',\n",
       " '1321797637931128',\n",
       " '1465586993548166',\n",
       " '1347305968713288',\n",
       " '1056623937813324',\n",
       " '1989774124570992',\n",
       " '1475062362638185',\n",
       " '919666651515503',\n",
       " '1514735005277350',\n",
       " '1988301381409475',\n",
       " '980004112137284']"
      ]
     },
     "execution_count": 79,
     "metadata": {},
     "output_type": "execute_result"
    }
   ],
   "source": [
    "member_id"
   ]
  },
  {
   "cell_type": "code",
   "execution_count": 81,
   "metadata": {},
   "outputs": [
    {
     "data": {
      "text/plain": [
       "28"
      ]
     },
     "execution_count": 81,
     "metadata": {},
     "output_type": "execute_result"
    }
   ],
   "source": [
    "len(member_id)"
   ]
  },
  {
   "cell_type": "code",
   "execution_count": 88,
   "metadata": {},
   "outputs": [
    {
     "data": {
      "text/plain": [
       "[{u'administrator': False,\n",
       "  u'id': u'1514735005277350',\n",
       "  u'name': u'B\\u1ea3o B\\u1ea3o'},\n",
       " {u'administrator': True,\n",
       "  u'id': u'1988301381409475',\n",
       "  u'name': u'Ho\\xe0ng Anh L\\xea'},\n",
       " {u'administrator': False,\n",
       "  u'id': u'980004112137284',\n",
       "  u'name': u'\\u0110inh Trung Ki\\xean'}]"
      ]
     },
     "execution_count": 88,
     "metadata": {},
     "output_type": "execute_result"
    }
   ],
   "source": [
    "for member in memberid:\n",
    "    "
   ]
  },
  {
   "cell_type": "code",
   "execution_count": 95,
   "metadata": {
    "collapsed": true
   },
   "outputs": [],
   "source": [
    "from selenium import webdriver"
   ]
  },
  {
   "cell_type": "code",
   "execution_count": 96,
   "metadata": {
    "collapsed": true
   },
   "outputs": [],
   "source": [
    "driver = webdriver.Chrome(\"C:\\Users\\huyru\\Downloads\\Compressed\\chromedriver_win32\\chromedriver\")"
   ]
  },
  {
   "cell_type": "code",
   "execution_count": 97,
   "metadata": {
    "collapsed": true
   },
   "outputs": [],
   "source": [
    "driver.get(\"https://facebook.com\")"
   ]
  },
  {
   "cell_type": "code",
   "execution_count": 98,
   "metadata": {
    "collapsed": true
   },
   "outputs": [],
   "source": [
    "re = driver.find_element_by_name('email')"
   ]
  },
  {
   "cell_type": "code",
   "execution_count": 99,
   "metadata": {
    "collapsed": true
   },
   "outputs": [],
   "source": [
    "re.send_keys('ngochuy_gerrard_96@yahoo.com')"
   ]
  },
  {
   "cell_type": "code",
   "execution_count": 100,
   "metadata": {
    "collapsed": true
   },
   "outputs": [],
   "source": [
    "re = driver.find_element_by_name('pass')"
   ]
  },
  {
   "cell_type": "code",
   "execution_count": 101,
   "metadata": {
    "collapsed": true
   },
   "outputs": [],
   "source": [
    "re.send_keys('nguyenngochuy')"
   ]
  },
  {
   "cell_type": "code",
   "execution_count": 102,
   "metadata": {
    "collapsed": true
   },
   "outputs": [],
   "source": [
    "re = driver.find_element_by_id('loginbutton')"
   ]
  },
  {
   "cell_type": "code",
   "execution_count": 104,
   "metadata": {
    "collapsed": true
   },
   "outputs": [],
   "source": [
    "re.click()"
   ]
  },
  {
   "cell_type": "code",
   "execution_count": 107,
   "metadata": {
    "collapsed": true
   },
   "outputs": [],
   "source": [
    "driver.get(\"https://www.facebook.com/profile.php?id=100006610995838\")"
   ]
  },
  {
   "cell_type": "code",
   "execution_count": 112,
   "metadata": {
    "collapsed": true
   },
   "outputs": [],
   "source": [
    "re = driver.find_element_by_css_selector(\"button._42ft._4jy0.FriendRequestAdd.addButton._4jy4._517h._9c6\")"
   ]
  },
  {
   "cell_type": "code",
   "execution_count": 113,
   "metadata": {
    "collapsed": true
   },
   "outputs": [],
   "source": [
    "re.click()"
   ]
  },
  {
   "cell_type": "code",
   "execution_count": null,
   "metadata": {
    "collapsed": true
   },
   "outputs": [],
   "source": []
  }
 ],
 "metadata": {
  "kernelspec": {
   "display_name": "Python 3",
   "language": "python",
   "name": "python3"
  },
  "language_info": {
   "codemirror_mode": {
    "name": "ipython",
    "version": 3
   },
   "file_extension": ".py",
   "mimetype": "text/x-python",
   "name": "python",
   "nbconvert_exporter": "python",
   "pygments_lexer": "ipython3",
   "version": "3.5.2"
  }
 },
 "nbformat": 4,
 "nbformat_minor": 2
}
