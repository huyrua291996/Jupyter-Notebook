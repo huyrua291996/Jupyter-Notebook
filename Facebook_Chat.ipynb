{
 "cells": [
  {
   "cell_type": "code",
   "execution_count": 1,
   "metadata": {},
   "outputs": [
    {
     "name": "stdout",
     "output_type": "stream",
     "text": [
      "Collecting fbchat\n",
      "  Downloading fbchat-1.9.7-py2.py3-none-any.whl (56 kB)\n",
      "Collecting aenum~=2.0\n",
      "  Downloading aenum-2.2.6-py3-none-any.whl (43 kB)\n",
      "Collecting requests~=2.19\n",
      "  Downloading requests-2.25.1-py2.py3-none-any.whl (61 kB)\n",
      "Collecting attrs>=18.2\n",
      "  Downloading attrs-20.3.0-py2.py3-none-any.whl (49 kB)\n",
      "Requirement already satisfied: beautifulsoup4~=4.0 in c:\\users\\huyru\\appdata\\local\\programs\\python\\python35\\lib\\site-packages (from fbchat) (4.6.0)\n",
      "Collecting paho-mqtt~=1.5\n",
      "  Downloading paho-mqtt-1.5.1.tar.gz (101 kB)\n",
      "Requirement already satisfied: urllib3<1.27,>=1.21.1 in c:\\users\\huyru\\appdata\\local\\programs\\python\\python35\\lib\\site-packages (from requests~=2.19->fbchat) (1.22)\n",
      "Requirement already satisfied: certifi>=2017.4.17 in c:\\users\\huyru\\appdata\\local\\programs\\python\\python35\\lib\\site-packages (from requests~=2.19->fbchat) (2017.7.27.1)\n",
      "Requirement already satisfied: chardet<5,>=3.0.2 in c:\\users\\huyru\\appdata\\local\\programs\\python\\python35\\lib\\site-packages (from requests~=2.19->fbchat) (3.0.4)\n",
      "Requirement already satisfied: idna<3,>=2.5 in c:\\users\\huyru\\appdata\\local\\programs\\python\\python35\\lib\\site-packages (from requests~=2.19->fbchat) (2.6)\n",
      "Building wheels for collected packages: paho-mqtt\n",
      "  Building wheel for paho-mqtt (setup.py): started\n",
      "  Building wheel for paho-mqtt (setup.py): finished with status 'done'\n",
      "  Created wheel for paho-mqtt: filename=paho_mqtt-1.5.1-py3-none-any.whl size=74794 sha256=9665e2931b4bf238eb225b94aa3e37de4446d375654eac1303567070e70d3772\n",
      "  Stored in directory: c:\\users\\huyru\\appdata\\local\\pip\\cache\\wheels\\d6\\77\\26\\0524957ca3be0d746fb9105ab6a6ca45cf042be996d7422382\n",
      "Successfully built paho-mqtt\n",
      "Installing collected packages: aenum, requests, attrs, paho-mqtt, fbchat\n",
      "  Attempting uninstall: requests\n",
      "    Found existing installation: requests 2.18.4\n",
      "    Uninstalling requests-2.18.4:\n",
      "      Successfully uninstalled requests-2.18.4\n",
      "Successfully installed aenum-2.2.6 attrs-20.3.0 fbchat-1.9.7 paho-mqtt-1.5.1 requests-2.25.1\n"
     ]
    },
    {
     "name": "stderr",
     "output_type": "stream",
     "text": [
      "DEPRECATION: Python 3.5 reached the end of its life on September 13th, 2020. Please upgrade your Python as Python 3.5 is no longer maintained. pip 21.0 will drop support for Python 3.5 in January 2021. pip 21.0 will remove support for this functionality.\n",
      "WARNING: You are using pip version 20.2.4; however, version 20.3.3 is available.\n",
      "You should consider upgrading via the 'C:\\Users\\huyru\\AppData\\Local\\Programs\\Python\\Python35\\python.exe -m pip install --upgrade pip' command.\n"
     ]
    }
   ],
   "source": [
    "!py -m pip install fbchat"
   ]
  },
  {
   "cell_type": "code",
   "execution_count": 2,
   "metadata": {
    "collapsed": true
   },
   "outputs": [],
   "source": [
    "from fbchat import Client"
   ]
  },
  {
   "cell_type": "code",
   "execution_count": 3,
   "metadata": {
    "collapsed": true
   },
   "outputs": [],
   "source": [
    "from fbchat.models import *"
   ]
  },
  {
   "cell_type": "code",
   "execution_count": 4,
   "metadata": {},
   "outputs": [
    {
     "name": "stderr",
     "output_type": "stream",
     "text": [
      "Logging in ngochuy96.nguyen@gmail.com...\n",
      "Attempt #1 failed, retrying\n",
      "Traceback (most recent call last):\n",
      "  File \"C:\\Python35\\lib\\site-packages\\fbchat\\_client.py\", line 209, in login\n",
      "    user_agent=user_agent,\n",
      "  File \"C:\\Python35\\lib\\site-packages\\fbchat\\_state.py\", line 153, in login\n",
      "    \"(Failed on url: {})\".format(r.url)\n",
      "fbchat._exception.FBchatUserError: Login failed. Check email/password. (Failed on url: https://m.facebook.com/checkpoint/?_rdr)\n",
      "Attempt #2 failed, retrying\n",
      "Traceback (most recent call last):\n",
      "  File \"C:\\Python35\\lib\\site-packages\\fbchat\\_client.py\", line 209, in login\n",
      "    user_agent=user_agent,\n",
      "  File \"C:\\Python35\\lib\\site-packages\\fbchat\\_state.py\", line 153, in login\n",
      "    \"(Failed on url: {})\".format(r.url)\n",
      "fbchat._exception.FBchatUserError: Login failed. Check email/password. (Failed on url: https://m.facebook.com/checkpoint/?_rdr)\n",
      "Attempt #3 failed, retrying\n",
      "Traceback (most recent call last):\n",
      "  File \"C:\\Python35\\lib\\site-packages\\fbchat\\_client.py\", line 209, in login\n",
      "    user_agent=user_agent,\n",
      "  File \"C:\\Python35\\lib\\site-packages\\fbchat\\_state.py\", line 153, in login\n",
      "    \"(Failed on url: {})\".format(r.url)\n",
      "fbchat._exception.FBchatUserError: Login failed. Check email/password. (Failed on url: https://m.facebook.com/checkpoint/?_rdr)\n",
      "Attempt #4 failed, retrying\n",
      "Traceback (most recent call last):\n",
      "  File \"C:\\Python35\\lib\\site-packages\\fbchat\\_client.py\", line 209, in login\n",
      "    user_agent=user_agent,\n",
      "  File \"C:\\Python35\\lib\\site-packages\\fbchat\\_state.py\", line 153, in login\n",
      "    \"(Failed on url: {})\".format(r.url)\n",
      "fbchat._exception.FBchatUserError: Login failed. Check email/password. (Failed on url: https://m.facebook.com/checkpoint/?_rdr)\n"
     ]
    },
    {
     "ename": "FBchatUserError",
     "evalue": "Login failed. Check email/password. (Failed on url: https://m.facebook.com/checkpoint/?_rdr)",
     "output_type": "error",
     "traceback": [
      "\u001b[1;31m---------------------------------------------------------------------------\u001b[0m",
      "\u001b[1;31mFBchatUserError\u001b[0m                           Traceback (most recent call last)",
      "\u001b[1;32m<ipython-input-4-55a1b34ae186>\u001b[0m in \u001b[0;36m<module>\u001b[1;34m()\u001b[0m\n\u001b[1;32m----> 1\u001b[1;33m \u001b[0mclient\u001b[0m \u001b[1;33m=\u001b[0m \u001b[0mClient\u001b[0m\u001b[1;33m(\u001b[0m\u001b[1;34m\"ngochuy96.nguyen@gmail.com\"\u001b[0m\u001b[1;33m,\u001b[0m \u001b[1;34m\"Huyrua2/9/1996\"\u001b[0m\u001b[1;33m)\u001b[0m\u001b[1;33m\u001b[0m\u001b[0m\n\u001b[0m",
      "\u001b[1;32mC:\\Python35\\lib\\site-packages\\fbchat\\_client.py\u001b[0m in \u001b[0;36m__init__\u001b[1;34m(self, email, password, user_agent, max_tries, session_cookies, logging_level)\u001b[0m\n\u001b[0;32m    101\u001b[0m             \u001b[1;32mor\u001b[0m \u001b[1;32mnot\u001b[0m \u001b[0mself\u001b[0m\u001b[1;33m.\u001b[0m\u001b[0misLoggedIn\u001b[0m\u001b[1;33m(\u001b[0m\u001b[1;33m)\u001b[0m\u001b[1;33m\u001b[0m\u001b[0m\n\u001b[0;32m    102\u001b[0m         ):\n\u001b[1;32m--> 103\u001b[1;33m             \u001b[0mself\u001b[0m\u001b[1;33m.\u001b[0m\u001b[0mlogin\u001b[0m\u001b[1;33m(\u001b[0m\u001b[0memail\u001b[0m\u001b[1;33m,\u001b[0m \u001b[0mpassword\u001b[0m\u001b[1;33m,\u001b[0m \u001b[0mmax_tries\u001b[0m\u001b[1;33m,\u001b[0m \u001b[0muser_agent\u001b[0m\u001b[1;33m=\u001b[0m\u001b[0muser_agent\u001b[0m\u001b[1;33m)\u001b[0m\u001b[1;33m\u001b[0m\u001b[0m\n\u001b[0m\u001b[0;32m    104\u001b[0m \u001b[1;33m\u001b[0m\u001b[0m\n\u001b[0;32m    105\u001b[0m     \"\"\"\n",
      "\u001b[1;32mC:\\Python35\\lib\\site-packages\\fbchat\\_client.py\u001b[0m in \u001b[0;36mlogin\u001b[1;34m(self, email, password, max_tries, user_agent)\u001b[0m\n\u001b[0;32m    207\u001b[0m                     \u001b[0mpassword\u001b[0m\u001b[1;33m,\u001b[0m\u001b[1;33m\u001b[0m\u001b[0m\n\u001b[0;32m    208\u001b[0m                     \u001b[0mon_2fa_callback\u001b[0m\u001b[1;33m=\u001b[0m\u001b[0mself\u001b[0m\u001b[1;33m.\u001b[0m\u001b[0mon2FACode\u001b[0m\u001b[1;33m,\u001b[0m\u001b[1;33m\u001b[0m\u001b[0m\n\u001b[1;32m--> 209\u001b[1;33m                     \u001b[0muser_agent\u001b[0m\u001b[1;33m=\u001b[0m\u001b[0muser_agent\u001b[0m\u001b[1;33m,\u001b[0m\u001b[1;33m\u001b[0m\u001b[0m\n\u001b[0m\u001b[0;32m    210\u001b[0m                 )\n\u001b[0;32m    211\u001b[0m                 \u001b[0mself\u001b[0m\u001b[1;33m.\u001b[0m\u001b[0m_uid\u001b[0m \u001b[1;33m=\u001b[0m \u001b[0mself\u001b[0m\u001b[1;33m.\u001b[0m\u001b[0m_state\u001b[0m\u001b[1;33m.\u001b[0m\u001b[0muser_id\u001b[0m\u001b[1;33m\u001b[0m\u001b[0m\n",
      "\u001b[1;32mC:\\Python35\\lib\\site-packages\\fbchat\\_state.py\u001b[0m in \u001b[0;36mlogin\u001b[1;34m(cls, email, password, on_2fa_callback, user_agent)\u001b[0m\n\u001b[0;32m    151\u001b[0m             raise _exception.FBchatUserError(\n\u001b[0;32m    152\u001b[0m                 \u001b[1;34m\"Login failed. Check email/password. \"\u001b[0m\u001b[1;33m\u001b[0m\u001b[0m\n\u001b[1;32m--> 153\u001b[1;33m                 \u001b[1;34m\"(Failed on url: {})\"\u001b[0m\u001b[1;33m.\u001b[0m\u001b[0mformat\u001b[0m\u001b[1;33m(\u001b[0m\u001b[0mr\u001b[0m\u001b[1;33m.\u001b[0m\u001b[0murl\u001b[0m\u001b[1;33m)\u001b[0m\u001b[1;33m\u001b[0m\u001b[0m\n\u001b[0m\u001b[0;32m    154\u001b[0m             )\n\u001b[0;32m    155\u001b[0m \u001b[1;33m\u001b[0m\u001b[0m\n",
      "\u001b[1;31mFBchatUserError\u001b[0m: Login failed. Check email/password. (Failed on url: https://m.facebook.com/checkpoint/?_rdr)"
     ]
    }
   ],
   "source": [
    "client = Client(\"ngochuy96.nguyen@gmail.com\", \"Huyrua2/9/1996\")"
   ]
  },
  {
   "cell_type": "code",
   "execution_count": 4,
   "metadata": {},
   "outputs": [
    {
     "name": "stdout",
     "output_type": "stream",
     "text": [
      "Own Id : 100003808764864\n"
     ]
    }
   ],
   "source": [
    "print(\"Own Id : {}\".format(client.uid))"
   ]
  },
  {
   "cell_type": "code",
   "execution_count": 6,
   "metadata": {},
   "outputs": [
    {
     "data": {
      "text/plain": [
       "u'mid.$cAABa8_N_Y8BltxjrOFfhdOfqjM1E'"
      ]
     },
     "execution_count": 6,
     "metadata": {},
     "output_type": "execute_result"
    }
   ],
   "source": [
    "client.send(Message(text='Hi me'), thread_id=client.uid, thread_type=ThreadType.USER)"
   ]
  },
  {
   "cell_type": "code",
   "execution_count": 13,
   "metadata": {
    "collapsed": true
   },
   "outputs": [],
   "source": [
    "user = client.searchForUsers('Ngoctutbvn')"
   ]
  },
  {
   "cell_type": "code",
   "execution_count": 14,
   "metadata": {},
   "outputs": [
    {
     "data": {
      "text/plain": [
       "'100006152704299'"
      ]
     },
     "execution_count": 14,
     "metadata": {},
     "output_type": "execute_result"
    }
   ],
   "source": [
    "user[0].uid"
   ]
  },
  {
   "cell_type": "code",
   "execution_count": 15,
   "metadata": {},
   "outputs": [
    {
     "data": {
      "text/plain": [
       "True"
      ]
     },
     "execution_count": 15,
     "metadata": {},
     "output_type": "execute_result"
    }
   ],
   "source": [
    "user[0].is_friend"
   ]
  },
  {
   "cell_type": "code",
   "execution_count": 16,
   "metadata": {},
   "outputs": [
    {
     "data": {
      "text/plain": [
       "u'mid.$cAAAAB4xKcutltx7oUFfhdmcSl4tr'"
      ]
     },
     "execution_count": 16,
     "metadata": {},
     "output_type": "execute_result"
    }
   ],
   "source": [
    "client.send(Message(text='Test'), thread_id=user[0].uid, thread_type=ThreadType.USER)"
   ]
  },
  {
   "cell_type": "code",
   "execution_count": 17,
   "metadata": {
    "collapsed": true
   },
   "outputs": [],
   "source": [
    "thread_id = '1278534785565861'\n",
    "thread_type = ThreadType.GROUP"
   ]
  },
  {
   "cell_type": "code",
   "execution_count": 24,
   "metadata": {
    "collapsed": true
   },
   "outputs": [],
   "source": [
    "messages = client.fetchThreadMessages(thread_id=thread_id, limit = 10)"
   ]
  },
  {
   "cell_type": "code",
   "execution_count": 25,
   "metadata": {},
   "outputs": [
    {
     "name": "stdout",
     "output_type": "stream",
     "text": [
      "Từ giờ e chuyên hàng mỹ phẩm xách tay nhé\n",
      "ok ánh\n",
      "cái gì của ai như thế nào đấy\n",
      "Mng theo dõi nhé\n",
      "Ace vào like trang Ciel Comestic cho e với ạ\n",
      "Duy là cũng máu cưới lắm rồi đấy\n",
      "Dm biêtd đâu\n",
      ":)). Duy tin người vcl thế chú\n",
      "Nhìn mấy cái tráp đã thấy chú rể đẹp trai rồi :3\n",
      "Chac đi bê cháp nhà nào chú rể tên là thành công :)).\n"
     ]
    }
   ],
   "source": [
    "for message in messages:\n",
    "    print(message.text.encode('utf-8'))"
   ]
  },
  {
   "cell_type": "code",
   "execution_count": 3,
   "metadata": {
    "collapsed": true
   },
   "outputs": [],
   "source": [
    "from fbchat import log"
   ]
  },
  {
   "cell_type": "code",
   "execution_count": 4,
   "metadata": {
    "collapsed": true
   },
   "outputs": [],
   "source": [
    "class Bot(Client):\n",
    "    def onMessage(self, author_id, message_object, thread_id, thread_type, **kwargs):\n",
    "        self.markAsDelivered(author_id, thread_id)\n",
    "        self.markAsRead(author_id)\n",
    "        log.info(\"{} from {} in {}\".format(message_object, thread_id, thread_type.name))\n",
    "        if author_id != self.uid:\n",
    "            self.send(Message(text='hihi'), thread_id=thread_id, thread_type=thread_type)"
   ]
  },
  {
   "cell_type": "code",
   "execution_count": null,
   "metadata": {},
   "outputs": [
    {
     "name": "stderr",
     "output_type": "stream",
     "text": [
      "Logging in ngochuy_gerrard_96@yahoo.com...\n",
      "Login of ngochuy_gerrard_96@yahoo.com successful.\n",
      "Listening...\n",
      "<Message (mid.$cAAAAB4xKcutluHe_T1fhzJ0r5CRN): u'\\u0111\\u1eb9', mentions=[] emoji_size=None attachments=[]> from 100006152704299 in USER\n",
      "Inbox event: 2, 2, 2\n",
      "<Message (mid.$cAAAAB4xKcutluHfGc1fhzJ3wFDvh): u'hihi', mentions=[] emoji_size=None attachments=[]> from 100006152704299 in USER\n",
      "Messages [u'mid.$cAAAAB4xKcutluHfGc1fhzJ3wFDvh'] delivered to 100006152704299 in 100006152704299 (USER) at 1509801754s\n",
      "Messages seen by 100006152704299 in 100006152704299 (USER) at 1509801754s\n",
      "Messages seen by 100003808764864 in 100003808764864 (USER) at 1509801755s\n"
     ]
    }
   ],
   "source": [
    "client = Bot(\"ngochuy_gerrard_96@yahoo.com\", \"nguyenngochuy\")\n",
    "client.listen()"
   ]
  },
  {
   "cell_type": "code",
   "execution_count": 4,
   "metadata": {},
   "outputs": [
    {
     "data": {
      "text/plain": [
       "str"
      ]
     },
     "execution_count": 4,
     "metadata": {},
     "output_type": "execute_result"
    }
   ],
   "source": [
    "Mention.thread_id"
   ]
  },
  {
   "cell_type": "code",
   "execution_count": 5,
   "metadata": {
    "collapsed": true
   },
   "outputs": [],
   "source": [
    "thread_id = '100003808764864'\n",
    "thread_type = ThreadType.USER"
   ]
  },
  {
   "cell_type": "code",
   "execution_count": 7,
   "metadata": {},
   "outputs": [
    {
     "data": {
      "text/plain": [
       "u'mid.$cAABa8_N_Y8BluQeKxFfh8I72dQaQ'"
      ]
     },
     "execution_count": 7,
     "metadata": {},
     "output_type": "execute_result"
    }
   ],
   "source": [
    "client.send(Message(text='This is a @huy', mentions=[Mention(thread_id, offset=10, length=3)]), thread_id=thread_id, thread_type=thread_type)\n"
   ]
  },
  {
   "cell_type": "code",
   "execution_count": null,
   "metadata": {
    "collapsed": true
   },
   "outputs": [],
   "source": []
  }
 ],
 "metadata": {
  "kernelspec": {
   "display_name": "Python 3",
   "language": "python",
   "name": "python3"
  },
  "language_info": {
   "codemirror_mode": {
    "name": "ipython",
    "version": 3
   },
   "file_extension": ".py",
   "mimetype": "text/x-python",
   "name": "python",
   "nbconvert_exporter": "python",
   "pygments_lexer": "ipython3",
   "version": "3.5.3"
  }
 },
 "nbformat": 4,
 "nbformat_minor": 2
}
