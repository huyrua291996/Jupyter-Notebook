{
 "cells": [
  {
   "cell_type": "code",
   "execution_count": 1,
   "metadata": {},
   "outputs": [
    {
     "name": "stdout",
     "output_type": "stream",
     "text": [
      "Collecting fbchat\n",
      "  Downloading fbchat-1.1.1.tar.gz\n",
      "Requirement already satisfied: requests in d:\\python\\python27\\lib\\site-packages (from fbchat)\n",
      "Collecting lxml (from fbchat)\n",
      "  Downloading lxml-4.1.0-cp27-cp27m-win_amd64.whl (3.6MB)\n",
      "Requirement already satisfied: beautifulsoup4 in d:\\python\\python27\\lib\\site-packages (from fbchat)\n",
      "Requirement already satisfied: enum34 in d:\\python\\python27\\lib\\site-packages (from fbchat)\n",
      "Requirement already satisfied: urllib3<1.23,>=1.21.1 in d:\\python\\python27\\lib\\site-packages (from requests->fbchat)\n",
      "Requirement already satisfied: idna<2.7,>=2.5 in d:\\python\\python27\\lib\\site-packages (from requests->fbchat)\n",
      "Requirement already satisfied: chardet<3.1.0,>=3.0.2 in d:\\python\\python27\\lib\\site-packages (from requests->fbchat)\n",
      "Requirement already satisfied: certifi>=2017.4.17 in d:\\python\\python27\\lib\\site-packages (from requests->fbchat)\n",
      "Installing collected packages: lxml, fbchat\n",
      "  Running setup.py install for fbchat: started\n",
      "    Running setup.py install for fbchat: finished with status 'done'\n",
      "Successfully installed fbchat-1.1.1 lxml-4.1.0\n"
     ]
    }
   ],
   "source": [
    "!py -m pip install fbchat"
   ]
  },
  {
   "cell_type": "code",
   "execution_count": 2,
   "metadata": {},
   "outputs": [],
   "source": [
    "from fbchat import Client"
   ]
  },
  {
   "cell_type": "code",
   "execution_count": 3,
   "metadata": {},
   "outputs": [],
   "source": [
    "from fbchat.models import *"
   ]
  },
  {
   "cell_type": "code",
   "execution_count": 4,
   "metadata": {},
   "outputs": [
    {
     "name": "stderr",
     "output_type": "stream",
     "text": [
      "Logging in ngochuy_gerrard_96@yahoo.com...\n",
      "Login of ngochuy_gerrard_96@yahoo.com successful.\n"
     ]
    }
   ],
   "source": [
    "client = Client(\"ngochuy_gerrard_96@yahoo.com\", \"nguyenngochuy\")"
   ]
  },
  {
   "cell_type": "code",
   "execution_count": 5,
   "metadata": {},
   "outputs": [
    {
     "name": "stdout",
     "output_type": "stream",
     "text": [
      "Own Id : 100003808764864\n"
     ]
    }
   ],
   "source": [
    "print(\"Own Id : {}\".format(client.uid))"
   ]
  },
  {
   "cell_type": "code",
   "execution_count": 6,
   "metadata": {},
   "outputs": [
    {
     "data": {
      "text/plain": [
       "u'mid.$cAABa8_N_Y8BltxjrOFfhdOfqjM1E'"
      ]
     },
     "execution_count": 6,
     "metadata": {},
     "output_type": "execute_result"
    }
   ],
   "source": [
    "client.send(Message(text='Hi me'), thread_id=client.uid, thread_type=ThreadType.USER)"
   ]
  },
  {
   "cell_type": "code",
   "execution_count": 13,
   "metadata": {},
   "outputs": [],
   "source": [
    "user = client.searchForUsers('Ngoctutbvn')"
   ]
  },
  {
   "cell_type": "code",
   "execution_count": 14,
   "metadata": {},
   "outputs": [
    {
     "data": {
      "text/plain": [
       "'100006152704299'"
      ]
     },
     "execution_count": 14,
     "metadata": {},
     "output_type": "execute_result"
    }
   ],
   "source": [
    "user[0].uid"
   ]
  },
  {
   "cell_type": "code",
   "execution_count": 15,
   "metadata": {},
   "outputs": [
    {
     "data": {
      "text/plain": [
       "True"
      ]
     },
     "execution_count": 15,
     "metadata": {},
     "output_type": "execute_result"
    }
   ],
   "source": [
    "user[0].is_friend"
   ]
  },
  {
   "cell_type": "code",
   "execution_count": 16,
   "metadata": {},
   "outputs": [
    {
     "data": {
      "text/plain": [
       "u'mid.$cAAAAB4xKcutltx7oUFfhdmcSl4tr'"
      ]
     },
     "execution_count": 16,
     "metadata": {},
     "output_type": "execute_result"
    }
   ],
   "source": [
    "client.send(Message(text='Test'), thread_id=user[0].uid, thread_type=ThreadType.USER)"
   ]
  },
  {
   "cell_type": "code",
   "execution_count": 17,
   "metadata": {},
   "outputs": [],
   "source": [
    "thread_id = '1278534785565861'\n",
    "thread_type = ThreadType.GROUP"
   ]
  },
  {
   "cell_type": "code",
   "execution_count": 24,
   "metadata": {},
   "outputs": [],
   "source": [
    "messages = client.fetchThreadMessages(thread_id=thread_id, limit = 10)"
   ]
  },
  {
   "cell_type": "code",
   "execution_count": 25,
   "metadata": {},
   "outputs": [
    {
     "name": "stdout",
     "output_type": "stream",
     "text": [
      "Từ giờ e chuyên hàng mỹ phẩm xách tay nhé\n",
      "ok ánh\n",
      "cái gì của ai như thế nào đấy\n",
      "Mng theo dõi nhé\n",
      "Ace vào like trang Ciel Comestic cho e với ạ\n",
      "Duy là cũng máu cưới lắm rồi đấy\n",
      "Dm biêtd đâu\n",
      ":)). Duy tin người vcl thế chú\n",
      "Nhìn mấy cái tráp đã thấy chú rể đẹp trai rồi :3\n",
      "Chac đi bê cháp nhà nào chú rể tên là thành công :)).\n"
     ]
    }
   ],
   "source": [
    "for message in messages:\n",
    "    print(message.text.encode('utf-8'))"
   ]
  },
  {
   "cell_type": "code",
   "execution_count": null,
   "metadata": {},
   "outputs": [],
   "source": []
  }
 ],
 "metadata": {
  "kernelspec": {
   "display_name": "Python 2",
   "language": "python",
   "name": "python2"
  },
  "language_info": {
   "codemirror_mode": {
    "name": "ipython",
    "version": 2
   },
   "file_extension": ".py",
   "mimetype": "text/x-python",
   "name": "python",
   "nbconvert_exporter": "python",
   "pygments_lexer": "ipython2",
   "version": "2.7.14"
  }
 },
 "nbformat": 4,
 "nbformat_minor": 2
}
