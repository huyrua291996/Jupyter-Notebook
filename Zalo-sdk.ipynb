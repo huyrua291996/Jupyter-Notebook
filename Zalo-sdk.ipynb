{
 "cells": [
  {
   "cell_type": "code",
   "execution_count": 1,
   "metadata": {},
   "outputs": [
    {
     "name": "stdout",
     "output_type": "stream",
     "text": [
      "Collecting zalo-python-sdk\n",
      "  Using cached https://files.pythonhosted.org/packages/66/2f/23ae6e3c4f7afabbbba019d68d3f285c68dcd0a1859a2bae027248fe792a/zalo_python_sdk-1.17-py2.py3-none-any.whl\n",
      "Installing collected packages: zalo-python-sdk\n",
      "Successfully installed zalo-python-sdk-1.17\n"
     ]
    },
    {
     "name": "stderr",
     "output_type": "stream",
     "text": [
      "You are using pip version 18.0, however version 19.2.1 is available.\n",
      "You should consider upgrading via the 'python -m pip install --upgrade pip' command.\n"
     ]
    }
   ],
   "source": [
    "!python3 -m pip install zalo-python-sdk"
   ]
  },
  {
   "cell_type": "code",
   "execution_count": 10,
   "metadata": {},
   "outputs": [],
   "source": [
    "from zalo.sdk.app import ZaloAppInfo, Zalo3rdAppClient"
   ]
  },
  {
   "cell_type": "code",
   "execution_count": 11,
   "metadata": {},
   "outputs": [],
   "source": [
    "zalo_info=ZaloAppInfo(app_id=3675465548998667968,secret_key=\"DNGBQ5DS6STMTXIKKi7I\",callback_url=\"https://zalo.me/2656363495224153244\")"
   ]
  },
  {
   "cell_type": "code",
   "execution_count": 12,
   "metadata": {
    "collapsed": true
   },
   "outputs": [],
   "source": [
    "zalo_3rd_app_client = Zalo3rdAppClient(zalo_info)"
   ]
  },
  {
   "cell_type": "code",
   "execution_count": 13,
   "metadata": {
    "collapsed": true
   },
   "outputs": [],
   "source": [
    "login_url = zalo_3rd_app_client.get_login_url()"
   ]
  },
  {
   "cell_type": "code",
   "execution_count": 14,
   "metadata": {},
   "outputs": [
    {
     "data": {
      "text/plain": [
       "'https://oauth.zaloapp.com/v3/auth?app_id=3675465548998667968&redirect_uri=https://zalo.me/2656363495224153244'"
      ]
     },
     "execution_count": 14,
     "metadata": {},
     "output_type": "execute_result"
    }
   ],
   "source": [
    "login_url"
   ]
  },
  {
   "cell_type": "code",
   "execution_count": 15,
   "metadata": {
    "collapsed": true
   },
   "outputs": [],
   "source": [
    "code = \"2656363495224153244\""
   ]
  },
  {
   "cell_type": "code",
   "execution_count": 17,
   "metadata": {},
   "outputs": [],
   "source": [
    "access_token = zalo_3rd_app_client.get_access_token(code)"
   ]
  },
  {
   "cell_type": "code",
   "execution_count": 18,
   "metadata": {},
   "outputs": [
    {
     "data": {
      "text/plain": [
       "{'error': -1008,\n",
       " 'error_description': 'Had an error when requesting access token',\n",
       " 'error_name': 'Request Access token failed',\n",
       " 'error_reason': '{err:-119;msg:Err_Extract_OAuthCode_Fail}'}"
      ]
     },
     "execution_count": 18,
     "metadata": {},
     "output_type": "execute_result"
    }
   ],
   "source": [
    "access_token"
   ]
  },
  {
   "cell_type": "code",
   "execution_count": null,
   "metadata": {
    "collapsed": true
   },
   "outputs": [],
   "source": []
  }
 ],
 "metadata": {
  "kernelspec": {
   "display_name": "Python 3",
   "language": "python",
   "name": "python3"
  },
  "language_info": {
   "codemirror_mode": {
    "name": "ipython",
    "version": 3
   },
   "file_extension": ".py",
   "mimetype": "text/x-python",
   "name": "python",
   "nbconvert_exporter": "python",
   "pygments_lexer": "ipython3",
   "version": "3.5.3"
  }
 },
 "nbformat": 4,
 "nbformat_minor": 2
}
